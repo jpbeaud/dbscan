{
  "nbformat": 4,
  "nbformat_minor": 0,
  "metadata": {
    "colab": {
      "provenance": [],
      "authorship_tag": "ABX9TyMjhEi31LdBUfycf+IleCV5",
      "include_colab_link": true
    },
    "kernelspec": {
      "name": "python3",
      "display_name": "Python 3"
    },
    "language_info": {
      "name": "python"
    }
  },
  "cells": [
    {
      "cell_type": "markdown",
      "metadata": {
        "id": "view-in-github",
        "colab_type": "text"
      },
      "source": [
        "<a href=\"https://colab.research.google.com/github/jpbeaud/dbscan/blob/main/client.ipynb\" target=\"_parent\"><img src=\"https://colab.research.google.com/assets/colab-badge.svg\" alt=\"Open In Colab\"/></a>"
      ]
    },
    {
      "cell_type": "code",
      "execution_count": null,
      "metadata": {
        "id": "_ygxaCdL7hTc"
      },
      "outputs": [],
      "source": []
    },
    {
      "cell_type": "markdown",
      "source": [
        "Transformation fichiers CSV en DataFrame"
      ],
      "metadata": {
        "id": "oQfkg_7t1cqL"
      }
    },
    {
      "cell_type": "code",
      "execution_count": 2,
      "metadata": {
        "colab": {
          "base_uri": "https://localhost:8080/"
        },
        "id": "xM6LEC2Z58Pm",
        "outputId": "ee3c5e65-f48f-4d47-aed9-cfa3598ca8d0"
      },
      "outputs": [
        {
          "output_type": "stream",
          "name": "stdout",
          "text": [
            "Début à 1731353384.4614975\n"
          ]
        }
      ],
      "source": [
        "import pandas as pd\n",
        "import numpy as np\n",
        "import time\n",
        "\n",
        "def string_to_number(s):\n",
        "  return int(''.join(str(ord(char)) for char in s))\n",
        "\n",
        "\n",
        "\n",
        "chemin = \"/content/sample_data/\"\n",
        "debut = time.time()\n",
        "print(\"Début à\", debut)\n",
        "\n",
        "\n",
        "\n",
        "fichier_DH = pd.read_csv(chemin+\"extrac_DH2.csv\", sep=\",\", dtype=str,skipinitialspace=True)\n",
        "\n",
        "fichier_DH = fichier_DH.replace(\"\", np.nan)\n",
        "fichier_DH = fichier_DH.fillna(0)\n",
        "\n",
        "fichier_DH = fichier_DH.astype(str)\n",
        "col_ref = ['id_personne']\n",
        "references_DH = fichier_DH[col_ref]\n",
        "\n",
        "\n",
        "\n",
        "fichier_DH.sort_values(by='id_personne')\n",
        "\n",
        "fichier_DH2 = fichier_DH\n",
        "fichier_DH2 = fichier_DH2.drop('id_personne', axis='columns')\n",
        "\n",
        "fichier_DH2= fichier_DH2.astype(str)\n",
        "fichier_DH2 = fichier_DH2.map(string_to_number)\n",
        "\n",
        "\n",
        "\n",
        "#fichier_DH.set_index('id_personne', inplace=True) # inplace=True --> on ne crée pas un nouveau DF\n",
        "\n",
        "\n",
        "\n",
        "\n",
        "fichier_SIO = pd.read_csv(chemin+\"extrac_SIO2.csv\", sep=\",\", dtype=str,skipinitialspace=True)\n",
        "col_ref = ['client_reference']\n",
        "\n",
        "references_SIO= fichier_SIO[col_ref]\n",
        "ref_cli = references_SIO.to_numpy()\n",
        "\n",
        "fichier_SIO = fichier_SIO.replace(\"\", np.nan)\n",
        "fichier_SIO = fichier_SIO.fillna(0)\n",
        "\n",
        "\n",
        "\n",
        "fichier_SIO.sort_values(by='client_reference')\n",
        "fichier_SIO = fichier_SIO.astype(str)\n",
        "fichier_SIO = fichier_SIO.map(string_to_number)\n",
        "\n",
        "\n",
        "fichier_SIO = fichier_SIO.drop('client_reference',axis='columns')\n",
        "#print (\"fichier SIO format :\")\n",
        "#print(fichier_SIO.head())\n",
        "# X = fichier_DH.to_numpy()\n",
        "\n"
      ]
    },
    {
      "cell_type": "markdown",
      "source": [
        "Nombre d'enregistrements différents (hors Client-reference)"
      ],
      "metadata": {
        "id": "Y-ebEUb_d2qD"
      }
    },
    {
      "cell_type": "code",
      "source": [
        "# prompt: comment calculer le nombre d'enregistrements différents dans fichier_DH2\n",
        "\n",
        "# Calculate the number of unique records in fichier_DH2\n",
        "unique_records_count = len(fichier_DH2.drop_duplicates())\n",
        "\n",
        "print(f\"Number of unique records in fichier_DH2: {unique_records_count}\")\n",
        "\n",
        "# Calculate the number of unique records in fichier_SIO\n",
        "unique_records_count = len(fichier_SIO.drop_duplicates())\n",
        "\n",
        "print(f\"Number of unique records in fichier_SIO: {unique_records_count}\")"
      ],
      "metadata": {
        "colab": {
          "base_uri": "https://localhost:8080/"
        },
        "id": "GQAJSc6dd6c0",
        "outputId": "16008644-8aa3-4c14-b439-a8cdb6d526ac"
      },
      "execution_count": 3,
      "outputs": [
        {
          "output_type": "stream",
          "name": "stdout",
          "text": [
            "Number of unique records in fichier_DH2: 14725\n",
            "Number of unique records in fichier_SIO: 17084\n"
          ]
        }
      ]
    },
    {
      "cell_type": "markdown",
      "source": [
        "Appel à DBSCAN"
      ],
      "metadata": {
        "id": "FUrtfUo7deI9"
      }
    },
    {
      "cell_type": "code",
      "source": [
        "X = fichier_DH2\n",
        "#X.set_index('id_personne', inplace=True) # inplace=True --> on ne crée pas un nouveau DF\n",
        "\n",
        "# print(X.dtype)\n",
        "X = X.apply(pd.to_numeric)\n",
        "\n",
        "import matplotlib.pyplot as plt\n",
        "# pltcatter(X[:, 3], X[:, 4])\n",
        "\n",
        "\n",
        "#plt.scatter(x=\"pcs\" , y=\"cosop\", c = 'r', data=X)\n",
        "#plt.show()\n",
        "\n",
        "from sklearn.datasets import make_blobs\n",
        "from sklearn.preprocessing import StandardScaler\n",
        "\n",
        "# création du jeu de test\n",
        "\n",
        "#X = StandardScaler().fit_transform(X)\n",
        "#print (\"fichier DH2 après scaler :\")\n",
        "#print(X[:5])\n",
        "\n",
        "from sklearn import metrics\n",
        "from sklearn.cluster import DBSCAN\n",
        "from sklearn.cluster import OPTICS\n",
        "min_groupe = 2\n",
        "db = DBSCAN(eps=0.000000000000001,min_samples=min_groupe).fit(X)\n",
        "labels_DH = db.labels_\n",
        "\n",
        "n_clusters_ = len(set(labels_DH)) - (1 if -1 in labels_DH else 0)\n",
        "n_noise_ = list(labels_DH).count(-1)\n",
        "\n",
        "print(\"Estimated number of clusters DH: %d\" % n_clusters_)\n",
        "print(\"Estimated number of noise points DH: %d\" % n_noise_)\n",
        "\n",
        "\n",
        "Y = fichier_SIO\n",
        "\n",
        "\n",
        "#Y = StandardScaler().fit_transform(Y)\n",
        "#print (\"fichier SIO après scaler :\")\n",
        "#print(Y[:5])\n",
        "\n",
        "\n",
        "# Y = Y.apply(pd.to_numeric)\n",
        "db2 = DBSCAN(eps=0.00000000000001, min_samples=min_groupe).fit(Y)\n",
        "labels_SIO = db2.labels_\n",
        "\n",
        "\n",
        "\n",
        "n_clusters_ = len(set(labels_SIO)) - (1 if -1 in labels_SIO else 0)\n",
        "n_noise_ = list(labels_SIO).count(-1)\n",
        "\n",
        "print(\"Estimated number of clusters SIO: %d\" % n_clusters_)\n",
        "print(\"Estimated number of noise points SIO: %d\" % n_noise_)\n",
        "print(\"____________Résumé____________\")\n",
        "difference = labels_DH - labels_SIO\n",
        "print(\"Données en écarts = \", difference)\n",
        "print(labels_DH)\n",
        "print(labels_SIO)\n",
        "n_DH = len(labels_DH)\n",
        "n_SIO=len(labels_SIO)\n",
        "n_dif = len(difference)\n",
        "print(\"Longueur dif = \", n_dif)\n",
        "fin = False\n",
        "i=-1\n",
        "\n",
        "nb_ko = 0\n",
        "\n",
        "# Créer un tableau vide avec une dimension initiale\n",
        "empty_array = np.empty((0, 3))  # Par exemple, un tableau vide avec 3 colonnes\n",
        "\n"
      ],
      "metadata": {
        "colab": {
          "base_uri": "https://localhost:8080/"
        },
        "id": "HKV2lhUSdi4F",
        "outputId": "f6005584-483d-49c2-d70c-42c5bbc697b4"
      },
      "execution_count": 4,
      "outputs": [
        {
          "output_type": "stream",
          "name": "stdout",
          "text": [
            "Estimated number of clusters DH: 4362\n",
            "Estimated number of noise points DH: 10231\n",
            "Estimated number of clusters SIO: 4685\n",
            "Estimated number of noise points SIO: 11871\n",
            "____________Résumé____________\n",
            "Données en écarts =  [  0   0   0 ... -12   1 -12]\n",
            "[ 0  1  2 ...  7 29  7]\n",
            "[ 0  1  2 ... 19 28 19]\n",
            "Longueur dif =  100000\n"
          ]
        }
      ]
    },
    {
      "cell_type": "markdown",
      "source": [
        "On sélectionne les enregistrements qui ont 0 comme label"
      ],
      "metadata": {
        "id": "V4r27mNbK6it"
      }
    },
    {
      "cell_type": "code",
      "source": [
        "labels_DH_zero = [x for x in labels_DH if x ==0]\n",
        "print(\"longueur DH label 0 =\", len(labels_DH_zero))\n",
        "labels_SIO_zero = [x for x in labels_SIO if x ==0]\n",
        "print(\"longueur SIO label 0 =\", len(labels_SIO_zero))\n"
      ],
      "metadata": {
        "id": "GTnhGLo1KUKL",
        "outputId": "dd35ed7b-c140-4018-d747-0d21128f9fd9",
        "colab": {
          "base_uri": "https://localhost:8080/"
        }
      },
      "execution_count": null,
      "outputs": [
        {
          "output_type": "stream",
          "name": "stdout",
          "text": [
            "longueur DH label 0 = 204\n",
            "longueur SIO label 0 = 190\n"
          ]
        }
      ]
    },
    {
      "cell_type": "code",
      "source": [
        "# prompt: transform labels_DH into a dataframe\n",
        "\n",
        "#print(\"DH.38=\", X[38], \"SIO.38=\", Y[38])\n",
        "#print(\"DH.0=\", X[0], \"SIO.0=\", Y[0])\n",
        "\n",
        "# Assuming 'labels_DH' is already defined from the previous code\n",
        "labels_DH_df = pd.DataFrame({'labels_DH': labels_DH})\n",
        "labels_SIO_df = pd.DataFrame({'labels_SIO': labels_SIO})\n",
        "\n",
        "labels_DH_0 = labels_DH_df[labels_DH_df['labels_DH'] == 0]\n",
        "print(labels_DH_0.head())\n",
        "labels_SIO_0 = labels_SIO_df[labels_SIO_df['labels_SIO'] == 0]\n",
        "print(labels_SIO_0.head())\n",
        "print(\"______________________________________________________\")\n",
        "#print(labels_DH[38], \" SIO=\", labels_SIO[38])\n",
        "#print(\"Référence SIO\", references_SIO.iloc[38], \". Référence DH = \", references_DH.iloc[38])\n",
        "\n",
        "\n"
      ],
      "metadata": {
        "id": "efpKINjiMMgq",
        "outputId": "0c5b0c3c-c16e-41e1-cc19-c2085d4ffd2c",
        "colab": {
          "base_uri": "https://localhost:8080/"
        }
      },
      "execution_count": null,
      "outputs": [
        {
          "output_type": "stream",
          "name": "stdout",
          "text": [
            "    labels_DH\n",
            "0           0\n",
            "12          0\n",
            "29          0\n",
            "40          0\n",
            "53          0\n",
            "    labels_SIO\n",
            "0            0\n",
            "12           0\n",
            "29           0\n",
            "40           0\n",
            "53           0\n",
            "______________________________________________________\n"
          ]
        }
      ]
    },
    {
      "cell_type": "markdown",
      "source": [
        "Extraction des index en décalage"
      ],
      "metadata": {
        "id": "rcgm5EG4hXDt"
      }
    },
    {
      "cell_type": "code",
      "source": [
        "# prompt: extraire les index qui dont dans labels_DH_0 mais pas dans labels_SIO_0\n",
        "\n",
        "# Find indices present in labels_DH_0 but not in labels_SIO_0\n",
        "dh_indices_in_0 = labels_DH_0.index.tolist()\n",
        "sio_indices_in_0 = labels_SIO_0.index.tolist()\n",
        "\n",
        "indices_in_sio_not_dh = list(set(sio_indices_in_0) - set(dh_indices_in_0))\n",
        "\n",
        "print(\"Indices in labels_DH_0 but not in labels_SIO_0:\")\n",
        "print(indices_in_sio_not_dh)\n",
        "len(indices_in_sio_not_dh)"
      ],
      "metadata": {
        "colab": {
          "base_uri": "https://localhost:8080/"
        },
        "id": "Gz8BZr7qha_D",
        "outputId": "20d37049-5b09-4922-d607-0764c3a841d6"
      },
      "execution_count": null,
      "outputs": [
        {
          "output_type": "stream",
          "name": "stdout",
          "text": [
            "Indices in labels_DH_0 but not in labels_SIO_0:\n",
            "[]\n"
          ]
        },
        {
          "output_type": "execute_result",
          "data": {
            "text/plain": [
              "0"
            ]
          },
          "metadata": {},
          "execution_count": 9
        }
      ]
    },
    {
      "cell_type": "markdown",
      "source": [
        "Test A"
      ],
      "metadata": {
        "id": "MFTe7fE4J7zm"
      }
    },
    {
      "cell_type": "code",
      "source": [
        "print(sio_indices_in_0)\n",
        "print(\"Label DH SIO du 0ème \", labels_DH[0])\n",
        "print(\"Label DH du 12 ème \",labels_DH[12])\n",
        "print(\"Label DH du 1er enr. = \", labels_DH[sio_indices_in_0[0]], \"pos=\", sio_indices_in_0[0])\n",
        "print(\"Label SIO du 2èmz enr. = \", labels_SIO[sio_indices_in_0[1]], \"pos=\", sio_indices_in_0[1])"
      ],
      "metadata": {
        "colab": {
          "base_uri": "https://localhost:8080/"
        },
        "id": "H7wVOh70pNsB",
        "outputId": "557e8de4-ba72-4797-bdb0-f767aa795923"
      },
      "execution_count": null,
      "outputs": [
        {
          "output_type": "stream",
          "name": "stdout",
          "text": [
            "[0, 12, 29, 40, 53, 57, 64, 73, 75, 101, 105, 107, 110, 123, 124, 138, 149, 151, 179, 197, 270, 272, 279, 295, 307, 397, 575, 690, 704, 750, 786, 962, 1290, 1636, 2706, 4651, 9562, 10025, 10163, 10244, 10539, 10573, 10584, 10745, 11465, 11641, 11717, 12244, 12402, 13532, 14286, 15487, 15851, 17717, 19102, 19423, 19549, 21497, 22741, 23110, 24402, 26018, 27146, 27239, 27528, 27722, 27753, 28063, 28103, 29528, 30934, 31472, 33327, 33978, 34811, 36024, 36163, 37320, 37350, 38293, 38474, 38481, 38517, 38519, 38521, 38526, 38565, 38577, 38582, 38593, 38594, 38600, 38622, 38858, 39038, 39528, 39635, 39695, 40103, 40114, 41699, 42786, 43290, 46375, 46488, 46631, 46632, 47441, 47491, 47930, 47948, 48123, 48394, 48416, 49071, 50523, 51390, 51624, 52073, 52556, 54493, 55193, 58831, 59244, 59600, 61637, 61788, 62659, 63373, 64966, 65253, 65932, 66241, 67947, 72701, 73332, 75942, 75951, 76128, 76134, 76153, 76175, 76179, 76191, 76203, 76209, 76238, 76242, 76246, 76250, 76263, 76273, 76417, 76479, 76497, 76510, 76584, 76625, 76739, 77332, 77593, 80796, 81319, 83690, 83747, 85107, 85124, 85530, 85532, 85680, 86075, 86380, 87521, 87945, 87954, 88207, 89385, 90906, 91975, 93191, 93416, 94037, 94723, 96180, 96762, 97096, 98157, 98166, 98428, 98934]\n",
            "Label DH SIO du 0ème  0\n",
            "Label DH du 12 ème  0\n",
            "Label DH du 1er enr. =  0 pos= 0\n",
            "Label SIO du 2èmz enr. =  0 pos= 12\n"
          ]
        }
      ]
    },
    {
      "cell_type": "markdown",
      "source": [
        "Nombre d'enregistrements en décallage"
      ],
      "metadata": {
        "id": "XOFOTCPVuEVG"
      }
    },
    {
      "cell_type": "code",
      "source": [
        "#i0 = indices_in_sio_not_dh[0]\n",
        "#print(\"Donnée DH avec indice \", i0)\n",
        "#print(X.iloc[i0])\n",
        "#print(\"Donnée SIO avec indice \", i0)\n",
        "#print(Y.iloc[i0])\n",
        "#print(\"Référence SIO\", references_SIO.iloc[i0], \". Référence DH = \", references_DH.iloc[i0])\n",
        "labels_DH_df = pd.DataFrame({'labels_DH': labels_DH})\n",
        "labels_SIO_df = pd.DataFrame({'labels_SIO': labels_SIO})\n",
        "\n",
        "liste_ref_KO = []\n",
        "for num_label in range(10):\n",
        "  print(\"num_label=\", num_label)\n",
        "  print(\"-------\")\n",
        "  labels_SIO_num_label = labels_SIO_df[labels_SIO_df['labels_SIO'] == num_label]\n",
        "  sio_indices_in_num_label = labels_SIO_num_label.index.tolist()\n",
        "  #print(\"Nombre d'enr = \", len(sio_indices_in_i))\n",
        "  k = labels_DH[sio_indices_in_num_label[num_label]]\n",
        "  print(\"k label DH pour le num_label_SIO =\", k)\n",
        "  labels_DH_k = labels_DH_df[labels_DH_df['labels_DH'] == k]\n",
        "  dh_indices_in_k = labels_DH_k.index.tolist()\n",
        "  indices_en_decallage = list(set(sio_indices_in_num_label) - set(dh_indices_in_k))\n",
        "  if len(indices_en_decallage) > 0:\n",
        "    print(\"Indices en décallage:\", indices_en_decallage)\n",
        "    liste_ref_KO.append(references_SIO.iloc[indices_en_decallage])\n",
        "print(\"__________________________________________________\")\n",
        "print (\"Longueur anomalie=\", len(liste_ref_KO))\n",
        "for j in range(len(liste_ref_KO)):\n",
        "  print(\"Réf \", j, \" = \", liste_ref_KO[j])\n",
        "\n"
      ],
      "metadata": {
        "colab": {
          "base_uri": "https://localhost:8080/",
          "height": 453
        },
        "id": "d2qbMJGWhuJu",
        "outputId": "0d6d977d-e958-4961-dcd7-77a633db131b"
      },
      "execution_count": 7,
      "outputs": [
        {
          "output_type": "stream",
          "name": "stdout",
          "text": [
            "num_label= 0\n",
            "-------\n",
            "k label DH pour le num_label_SIO = 0\n",
            "num_label= 1\n",
            "-------\n",
            "k label DH pour le num_label_SIO = 1\n",
            "num_label= 2\n",
            "-------\n",
            "k label DH pour le num_label_SIO = 2\n",
            "num_label= 3\n",
            "-------\n",
            "k label DH pour le num_label_SIO = 3\n",
            "num_label= 4\n",
            "-------\n"
          ]
        },
        {
          "output_type": "error",
          "ename": "IndexError",
          "evalue": "list index out of range",
          "traceback": [
            "\u001b[0;31m---------------------------------------------------------------------------\u001b[0m",
            "\u001b[0;31mIndexError\u001b[0m                                Traceback (most recent call last)",
            "\u001b[0;32m<ipython-input-7-a2bcdac5e2b1>\u001b[0m in \u001b[0;36m<cell line: 11>\u001b[0;34m()\u001b[0m\n\u001b[1;32m     15\u001b[0m   \u001b[0msio_indices_in_num_label\u001b[0m \u001b[0;34m=\u001b[0m \u001b[0mlabels_SIO_num_label\u001b[0m\u001b[0;34m.\u001b[0m\u001b[0mindex\u001b[0m\u001b[0;34m.\u001b[0m\u001b[0mtolist\u001b[0m\u001b[0;34m(\u001b[0m\u001b[0;34m)\u001b[0m\u001b[0;34m\u001b[0m\u001b[0;34m\u001b[0m\u001b[0m\n\u001b[1;32m     16\u001b[0m   \u001b[0;31m#print(\"Nombre d'enr = \", len(sio_indices_in_i))\u001b[0m\u001b[0;34m\u001b[0m\u001b[0;34m\u001b[0m\u001b[0m\n\u001b[0;32m---> 17\u001b[0;31m   \u001b[0mk\u001b[0m \u001b[0;34m=\u001b[0m \u001b[0mlabels_DH\u001b[0m\u001b[0;34m[\u001b[0m\u001b[0msio_indices_in_num_label\u001b[0m\u001b[0;34m[\u001b[0m\u001b[0mnum_label\u001b[0m\u001b[0;34m]\u001b[0m\u001b[0;34m]\u001b[0m\u001b[0;34m\u001b[0m\u001b[0;34m\u001b[0m\u001b[0m\n\u001b[0m\u001b[1;32m     18\u001b[0m   \u001b[0mprint\u001b[0m\u001b[0;34m(\u001b[0m\u001b[0;34m\"k label DH pour le num_label_SIO =\"\u001b[0m\u001b[0;34m,\u001b[0m \u001b[0mk\u001b[0m\u001b[0;34m)\u001b[0m\u001b[0;34m\u001b[0m\u001b[0;34m\u001b[0m\u001b[0m\n\u001b[1;32m     19\u001b[0m   \u001b[0mlabels_DH_k\u001b[0m \u001b[0;34m=\u001b[0m \u001b[0mlabels_DH_df\u001b[0m\u001b[0;34m[\u001b[0m\u001b[0mlabels_DH_df\u001b[0m\u001b[0;34m[\u001b[0m\u001b[0;34m'labels_DH'\u001b[0m\u001b[0;34m]\u001b[0m \u001b[0;34m==\u001b[0m \u001b[0mk\u001b[0m\u001b[0;34m]\u001b[0m\u001b[0;34m\u001b[0m\u001b[0;34m\u001b[0m\u001b[0m\n",
            "\u001b[0;31mIndexError\u001b[0m: list index out of range"
          ]
        }
      ]
    },
    {
      "cell_type": "markdown",
      "source": [],
      "metadata": {
        "id": "PmKpEucZuB3M"
      }
    },
    {
      "cell_type": "code",
      "source": [
        "#i0 = indices_in_sio_not_dh[0]\n",
        "#print(\"Donnée DH avec indice \", i0)\n",
        "#print(X.iloc[i0])\n",
        "#print(\"Donnée SIO avec indice \", i0)\n",
        "#print(Y.iloc[i0])\n",
        "#print(\"Référence SIO\", references_SIO.iloc[i0], \". Référence DH = \", references_DH.iloc[i0])\n",
        "liste_ref_KO = []\n",
        "for i in range(10):\n",
        "  labels_SIO_i = labels_SIO_df[labels_SIO_df['labels_SIO'] == i]\n",
        "  sio_indices_in_i = labels_SIO_i.index.tolist()\n",
        "  for j in range(len(sio_indices_in_i)):\n",
        "    k = labels_DH[sio_indices_in_0[j]]\n",
        "    labels_DH_k = labels_DH_df[labels_DH_df['labels_DH'] == k]\n",
        "    dh_indices_in_k = labels_DH_k.index.tolist()\n",
        "  k = labels_DH[sio_indices_in_0[0]]\n",
        "  dh_indices_in_i = labels_DH_i.index.tolist()\n",
        "\n",
        "  indices_in_sio_not_dh_i = list(set(sio_indices_in_i) - set(dh_indices_in_i))\n",
        "  if len(indices_in_sio_not_dh_i) > 0:\n",
        "    print(\"Indices in labels_DH_i but not in labels_SIO_i:\", indices_in_sio_not_dh_i)\n",
        "    liste_ref_KO.append(references_SIO.iloc[indices_in_sio_not_dh_i])\n",
        "print(\"__________________________________________________\")\n",
        "print (\"Longueur anomalie=\", len(liste_ref_KO))\n",
        "for j in range(len(liste_ref_KO)):\n",
        "  print(\"Réf \", j, \" = \", liste_ref_KO[j])\n",
        "\n"
      ],
      "metadata": {
        "colab": {
          "base_uri": "https://localhost:8080/",
          "height": 211
        },
        "outputId": "91cf3f1a-f0a1-4bf5-ce2d-3d6aae9110fe",
        "id": "bOHQCFZTs3yc"
      },
      "execution_count": null,
      "outputs": [
        {
          "output_type": "error",
          "ename": "NameError",
          "evalue": "name 'labels_DH_i' is not defined",
          "traceback": [
            "\u001b[0;31m---------------------------------------------------------------------------\u001b[0m",
            "\u001b[0;31mNameError\u001b[0m                                 Traceback (most recent call last)",
            "\u001b[0;32m<ipython-input-13-c5fd315742e6>\u001b[0m in \u001b[0;36m<cell line: 8>\u001b[0;34m()\u001b[0m\n\u001b[1;32m     11\u001b[0m   \u001b[0;32mfor\u001b[0m \u001b[0mj\u001b[0m \u001b[0;32min\u001b[0m \u001b[0mrange\u001b[0m\u001b[0;34m(\u001b[0m\u001b[0mlen\u001b[0m\u001b[0;34m(\u001b[0m\u001b[0msio_indices_in_0\u001b[0m\u001b[0;34m)\u001b[0m\u001b[0;34m)\u001b[0m\u001b[0;34m:\u001b[0m\u001b[0;34m\u001b[0m\u001b[0;34m\u001b[0m\u001b[0m\n\u001b[1;32m     12\u001b[0m     \u001b[0mk\u001b[0m \u001b[0;34m=\u001b[0m \u001b[0mlabels_DH\u001b[0m\u001b[0;34m[\u001b[0m\u001b[0msio_indices_in_0\u001b[0m\u001b[0;34m[\u001b[0m\u001b[0mj\u001b[0m\u001b[0;34m]\u001b[0m\u001b[0;34m]\u001b[0m\u001b[0;34m\u001b[0m\u001b[0;34m\u001b[0m\u001b[0m\n\u001b[0;32m---> 13\u001b[0;31m     \u001b[0mdh_indices_in_i\u001b[0m \u001b[0;34m=\u001b[0m \u001b[0mlabels_DH_i\u001b[0m\u001b[0;34m.\u001b[0m\u001b[0mindex\u001b[0m\u001b[0;34m.\u001b[0m\u001b[0mtolist\u001b[0m\u001b[0;34m(\u001b[0m\u001b[0;34m)\u001b[0m\u001b[0;34m\u001b[0m\u001b[0;34m\u001b[0m\u001b[0m\n\u001b[0m\u001b[1;32m     14\u001b[0m   \u001b[0mk\u001b[0m \u001b[0;34m=\u001b[0m \u001b[0mlabels_DH\u001b[0m\u001b[0;34m[\u001b[0m\u001b[0msio_indices_in_0\u001b[0m\u001b[0;34m[\u001b[0m\u001b[0;36m0\u001b[0m\u001b[0;34m]\u001b[0m\u001b[0;34m]\u001b[0m\u001b[0;34m\u001b[0m\u001b[0;34m\u001b[0m\u001b[0m\n\u001b[1;32m     15\u001b[0m   \u001b[0mdh_indices_in_i\u001b[0m \u001b[0;34m=\u001b[0m \u001b[0mlabels_DH_i\u001b[0m\u001b[0;34m.\u001b[0m\u001b[0mindex\u001b[0m\u001b[0;34m.\u001b[0m\u001b[0mtolist\u001b[0m\u001b[0;34m(\u001b[0m\u001b[0;34m)\u001b[0m\u001b[0;34m\u001b[0m\u001b[0;34m\u001b[0m\u001b[0m\n",
            "\u001b[0;31mNameError\u001b[0m: name 'labels_DH_i' is not defined"
          ]
        }
      ]
    },
    {
      "cell_type": "code",
      "source": [
        "# Deux tableaux à une dimension\n",
        "#array1 = np.array([1, 2, 3])\n",
        "#array2 = np.array([4, 5, 6]) # Empiler verticalement\n",
        "#result = np.vstack((array1, array2))\n",
        "#print(result)\n",
        "#print(array1.shape)\n",
        "\n",
        "#print(result.shape)\n",
        "\n",
        "\n",
        "liste = []\n",
        "A = np.empty((0, 10000), dtype=int)\n",
        "\n",
        "for i in range(10000):\n",
        "  liste = []\n",
        "  for j in range(10000):\n",
        "    liste.append(labels_DH[i] -labels_DH[j])\n",
        "  A = np.vstack([A, liste])\n",
        "\n",
        "\n",
        "print(A)\n",
        "\n"
      ],
      "metadata": {
        "colab": {
          "base_uri": "https://localhost:8080/",
          "height": 211
        },
        "id": "dULH6aiKJ-vC",
        "outputId": "6f11a755-8e38-4054-e3cd-e160c23b8afa"
      },
      "execution_count": null,
      "outputs": [
        {
          "output_type": "error",
          "ename": "KeyboardInterrupt",
          "evalue": "",
          "traceback": [
            "\u001b[0;31m---------------------------------------------------------------------------\u001b[0m",
            "\u001b[0;31mKeyboardInterrupt\u001b[0m                         Traceback (most recent call last)",
            "\u001b[0;32m<ipython-input-13-aef2f7ea4448>\u001b[0m in \u001b[0;36m<cell line: 14>\u001b[0;34m()\u001b[0m\n\u001b[1;32m     15\u001b[0m   \u001b[0mliste\u001b[0m \u001b[0;34m=\u001b[0m \u001b[0;34m[\u001b[0m\u001b[0;34m]\u001b[0m\u001b[0;34m\u001b[0m\u001b[0;34m\u001b[0m\u001b[0m\n\u001b[1;32m     16\u001b[0m   \u001b[0;32mfor\u001b[0m \u001b[0mj\u001b[0m \u001b[0;32min\u001b[0m \u001b[0mrange\u001b[0m\u001b[0;34m(\u001b[0m\u001b[0;36m10000\u001b[0m\u001b[0;34m)\u001b[0m\u001b[0;34m:\u001b[0m\u001b[0;34m\u001b[0m\u001b[0;34m\u001b[0m\u001b[0m\n\u001b[0;32m---> 17\u001b[0;31m     \u001b[0mliste\u001b[0m\u001b[0;34m.\u001b[0m\u001b[0mappend\u001b[0m\u001b[0;34m(\u001b[0m\u001b[0mlabels_DH\u001b[0m\u001b[0;34m[\u001b[0m\u001b[0mi\u001b[0m\u001b[0;34m]\u001b[0m \u001b[0;34m-\u001b[0m\u001b[0mlabels_DH\u001b[0m\u001b[0;34m[\u001b[0m\u001b[0mj\u001b[0m\u001b[0;34m]\u001b[0m\u001b[0;34m)\u001b[0m\u001b[0;34m\u001b[0m\u001b[0;34m\u001b[0m\u001b[0m\n\u001b[0m\u001b[1;32m     18\u001b[0m   \u001b[0mA\u001b[0m \u001b[0;34m=\u001b[0m \u001b[0mnp\u001b[0m\u001b[0;34m.\u001b[0m\u001b[0mvstack\u001b[0m\u001b[0;34m(\u001b[0m\u001b[0;34m[\u001b[0m\u001b[0mA\u001b[0m\u001b[0;34m,\u001b[0m \u001b[0mliste\u001b[0m\u001b[0;34m]\u001b[0m\u001b[0;34m)\u001b[0m\u001b[0;34m\u001b[0m\u001b[0;34m\u001b[0m\u001b[0m\n\u001b[1;32m     19\u001b[0m \u001b[0;34m\u001b[0m\u001b[0m\n",
            "\u001b[0;31mKeyboardInterrupt\u001b[0m: "
          ]
        }
      ]
    },
    {
      "cell_type": "markdown",
      "source": [
        "Fin"
      ],
      "metadata": {
        "id": "H1RmNduDM0VY"
      }
    },
    {
      "cell_type": "code",
      "source": [
        "RRR\n",
        "\n",
        "\n",
        "\n",
        "\n",
        "\n",
        "\n",
        "while (i < n_dif - 1):\n",
        "    i = i + 1\n",
        "    if (difference[i] != 0):\n",
        "        print(\"i=\",i)\n",
        "        print(\"différence enregistrement \", str(i), \" DH=\", labels_DH[i], \"// SIO=\",labels_SIO[i], \"// ref=\", ref_cli[i,:])\n",
        "        #print(\"enr DH=\", fichier_DH.loc[i,:])\n",
        "        #print(\"enr SIO=\",fichier_SIO.loc[i,:])\n",
        "        nb_ko = nb_ko + 1\n",
        "        X = np.delete(X,i,0)\n",
        "        Y = np.delete(Y,i,0)\n",
        "        ref_cli = np.delete(ref_cli,i,0)\n",
        "        db = DBSCAN(eps=0.000000000000001,min_samples=min_groupe).fit(X)\n",
        "        labels_DH = db.labels_\n",
        "        db2 = DBSCAN(eps=0.00000000000001, min_samples=min_groupe).fit(Y)\n",
        "        labels_SIO = db2.labels_\n",
        "        difference = labels_DH - labels_SIO\n",
        "        n_dif = n_dif - 1\n",
        "\n",
        "\n",
        "lg = len(difference)\n",
        "#nb_ano = 0\n",
        "#for i in range(lg):\n",
        "#    if difference[i] !=0:\n",
        "#        nb_ano = nb_ano + 1\n",
        "print(\"ANOMALIES = \", nb_ko)\n",
        "#  3117773703\n",
        "\n",
        "fin_exec = time.time()\n",
        "temps = fin_exec - debut\n",
        "print(f'Temps d\\'exécution : {temps:.2}ms')"
      ],
      "metadata": {
        "id": "ryYCroBZM2eB"
      },
      "execution_count": null,
      "outputs": []
    }
  ]
}