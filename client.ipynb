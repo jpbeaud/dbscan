{
  "nbformat": 4,
  "nbformat_minor": 0,
  "metadata": {
    "colab": {
      "provenance": [],
      "authorship_tag": "ABX9TyN9Yj4zpdGvOGQlNf0yOgvZ",
      "include_colab_link": true
    },
    "kernelspec": {
      "name": "python3",
      "display_name": "Python 3"
    },
    "language_info": {
      "name": "python"
    }
  },
  "cells": [
    {
      "cell_type": "markdown",
      "metadata": {
        "id": "view-in-github",
        "colab_type": "text"
      },
      "source": [
        "<a href=\"https://colab.research.google.com/github/jpbeaud/dbscan/blob/main/client.ipynb\" target=\"_parent\"><img src=\"https://colab.research.google.com/assets/colab-badge.svg\" alt=\"Open In Colab\"/></a>"
      ]
    },
    {
      "cell_type": "code",
      "execution_count": null,
      "metadata": {
        "id": "_ygxaCdL7hTc"
      },
      "outputs": [],
      "source": []
    },
    {
      "cell_type": "markdown",
      "source": [
        "Transformation fichiers CSV en DataFrame"
      ],
      "metadata": {
        "id": "oQfkg_7t1cqL"
      }
    },
    {
      "cell_type": "code",
      "execution_count": 1,
      "metadata": {
        "colab": {
          "base_uri": "https://localhost:8080/"
        },
        "id": "xM6LEC2Z58Pm",
        "outputId": "ba96e333-15cf-4eeb-e2a1-5f9360fc9710"
      },
      "outputs": [
        {
          "output_type": "stream",
          "name": "stdout",
          "text": [
            "Début à 1731414994.6336298\n"
          ]
        }
      ],
      "source": [
        "import pandas as pd\n",
        "import numpy as np\n",
        "import time\n",
        "\n",
        "def string_to_number(s):\n",
        "  return int(''.join(str(ord(char)) for char in s))\n",
        "\n",
        "\n",
        "\n",
        "chemin = \"/content/sample_data/\"\n",
        "debut = time.time()\n",
        "print(\"Début à\", debut)\n",
        "\n",
        "\n",
        "\n",
        "fichier_DH = pd.read_csv(chemin+\"extrac_DH2.csv\", sep=\",\", dtype=str,skipinitialspace=True)\n",
        "\n",
        "fichier_DH = fichier_DH.replace(\"\", np.nan)\n",
        "fichier_DH = fichier_DH.fillna(0)\n",
        "\n",
        "fichier_DH = fichier_DH.astype(str)\n",
        "col_ref = ['id_personne']\n",
        "references_DH = fichier_DH[col_ref]\n",
        "\n",
        "\n",
        "\n",
        "fichier_DH.sort_values(by='id_personne')\n",
        "\n",
        "fichier_DH2 = fichier_DH\n",
        "fichier_DH2 = fichier_DH2.drop('id_personne', axis='columns')\n",
        "\n",
        "fichier_DH2= fichier_DH2.astype(str)\n",
        "fichier_DH2 = fichier_DH2.map(string_to_number)\n",
        "\n",
        "\n",
        "\n",
        "#fichier_DH.set_index('id_personne', inplace=True) # inplace=True --> on ne crée pas un nouveau DF\n",
        "\n",
        "\n",
        "\n",
        "\n",
        "fichier_SIO = pd.read_csv(chemin+\"extrac_SIO2.csv\", sep=\",\", dtype=str,skipinitialspace=True)\n",
        "col_ref = ['client_reference']\n",
        "\n",
        "references_SIO= fichier_SIO[col_ref]\n",
        "ref_cli = references_SIO.to_numpy()\n",
        "\n",
        "fichier_SIO = fichier_SIO.replace(\"\", np.nan)\n",
        "fichier_SIO = fichier_SIO.fillna(0)\n",
        "\n",
        "\n",
        "\n",
        "fichier_SIO.sort_values(by='client_reference')\n",
        "fichier_SIO = fichier_SIO.astype(str)\n",
        "fichier_SIO = fichier_SIO.map(string_to_number)\n",
        "\n",
        "\n",
        "fichier_SIO = fichier_SIO.drop('client_reference',axis='columns')\n",
        "#print (\"fichier SIO format :\")\n",
        "#print(fichier_SIO.head())\n",
        "# X = fichier_DH.to_numpy()\n",
        "\n"
      ]
    },
    {
      "cell_type": "markdown",
      "source": [
        "Nombre d'enregistrements différents (hors Client-reference)"
      ],
      "metadata": {
        "id": "Y-ebEUb_d2qD"
      }
    },
    {
      "cell_type": "code",
      "source": [
        "# prompt: comment calculer le nombre d'enregistrements différents dans fichier_DH2\n",
        "\n",
        "# Calculate the number of unique records in fichier_DH2\n",
        "unique_records_count = len(fichier_DH2.drop_duplicates())\n",
        "\n",
        "print(f\"Number of unique records in fichier_DH2: {unique_records_count}\")\n",
        "\n",
        "# Calculate the number of unique records in fichier_SIO\n",
        "unique_records_count = len(fichier_SIO.drop_duplicates())\n",
        "\n",
        "print(f\"Number of unique records in fichier_SIO: {unique_records_count}\")"
      ],
      "metadata": {
        "colab": {
          "base_uri": "https://localhost:8080/"
        },
        "id": "GQAJSc6dd6c0",
        "outputId": "16008644-8aa3-4c14-b439-a8cdb6d526ac"
      },
      "execution_count": null,
      "outputs": [
        {
          "output_type": "stream",
          "name": "stdout",
          "text": [
            "Number of unique records in fichier_DH2: 14725\n",
            "Number of unique records in fichier_SIO: 17084\n"
          ]
        }
      ]
    },
    {
      "cell_type": "markdown",
      "source": [
        "Appel à DBSCAN"
      ],
      "metadata": {
        "id": "FUrtfUo7deI9"
      }
    },
    {
      "cell_type": "code",
      "source": [
        "X = fichier_DH2\n",
        "#X.set_index('id_personne', inplace=True) # inplace=True --> on ne crée pas un nouveau DF\n",
        "\n",
        "# print(X.dtype)\n",
        "X = X.apply(pd.to_numeric)\n",
        "\n",
        "import matplotlib.pyplot as plt\n",
        "# pltcatter(X[:, 3], X[:, 4])\n",
        "\n",
        "\n",
        "#plt.scatter(x=\"pcs\" , y=\"cosop\", c = 'r', data=X)\n",
        "#plt.show()\n",
        "\n",
        "from sklearn.datasets import make_blobs\n",
        "from sklearn.preprocessing import StandardScaler\n",
        "\n",
        "# création du jeu de test\n",
        "\n",
        "#X = StandardScaler().fit_transform(X)\n",
        "#print (\"fichier DH2 après scaler :\")\n",
        "#print(X[:5])\n",
        "\n",
        "from sklearn import metrics\n",
        "from sklearn.cluster import DBSCAN\n",
        "from sklearn.cluster import OPTICS\n",
        "min_groupe = 2\n",
        "db = DBSCAN(eps=0.000000000000001,min_samples=min_groupe).fit(X)\n",
        "labels_DH = db.labels_\n",
        "\n",
        "n_clusters_ = len(set(labels_DH)) - (1 if -1 in labels_DH else 0)\n",
        "n_noise_ = list(labels_DH).count(-1)\n",
        "\n",
        "print(\"Estimated number of clusters DH: %d\" % n_clusters_)\n",
        "print(\"Estimated number of noise points DH: %d\" % n_noise_)\n",
        "\n",
        "\n",
        "Y = fichier_SIO\n",
        "\n",
        "\n",
        "#Y = StandardScaler().fit_transform(Y)\n",
        "#print (\"fichier SIO après scaler :\")\n",
        "#print(Y[:5])\n",
        "\n",
        "\n",
        "# Y = Y.apply(pd.to_numeric)\n",
        "db2 = DBSCAN(eps=0.00000000000001, min_samples=min_groupe).fit(Y)\n",
        "labels_SIO = db2.labels_\n",
        "\n",
        "\n",
        "\n",
        "n_clusters_ = len(set(labels_SIO)) - (1 if -1 in labels_SIO else 0)\n",
        "n_noise_ = list(labels_SIO).count(-1)\n",
        "\n",
        "print(\"Estimated number of clusters SIO: %d\" % n_clusters_)\n",
        "print(\"Estimated number of noise points SIO: %d\" % n_noise_)\n",
        "print(\"____________Résumé____________\")\n",
        "difference = labels_DH - labels_SIO\n",
        "print(\"Données en écarts = \", difference)\n",
        "print(labels_DH)\n",
        "print(labels_SIO)\n",
        "n_DH = len(labels_DH)\n",
        "n_SIO=len(labels_SIO)\n",
        "n_dif = len(difference)\n",
        "print(\"Longueur dif = \", n_dif)\n",
        "fin = False\n",
        "i=-1\n",
        "\n",
        "nb_ko = 0\n",
        "\n",
        "# Créer un tableau vide avec une dimension initiale\n",
        "empty_array = np.empty((0, 3))  # Par exemple, un tableau vide avec 3 colonnes\n",
        "\n"
      ],
      "metadata": {
        "colab": {
          "base_uri": "https://localhost:8080/"
        },
        "id": "HKV2lhUSdi4F",
        "outputId": "a95cc822-bea2-4322-f2c0-ad4833e4ab82"
      },
      "execution_count": 2,
      "outputs": [
        {
          "output_type": "stream",
          "name": "stdout",
          "text": [
            "Estimated number of clusters DH: 4362\n",
            "Estimated number of noise points DH: 10231\n",
            "Estimated number of clusters SIO: 4685\n",
            "Estimated number of noise points SIO: 11871\n",
            "____________Résumé____________\n",
            "Données en écarts =  [  0   0   0 ... -12   1 -12]\n",
            "[ 0  1  2 ...  7 29  7]\n",
            "[ 0  1  2 ... 19 28 19]\n",
            "Longueur dif =  100000\n"
          ]
        }
      ]
    },
    {
      "cell_type": "markdown",
      "source": [
        "Utilisation OPTICS\n"
      ],
      "metadata": {
        "id": "V4r27mNbK6it"
      }
    },
    {
      "cell_type": "code",
      "source": [
        "X = fichier_DH2\n",
        "#X.set_index('id_personne', inplace=True) # inplace=True --> on ne crée pas un nouveau DF\n",
        "\n",
        "# print(X.dtype)\n",
        "X = X.apply(pd.to_numeric)\n",
        "\n",
        "\n",
        "from sklearn.preprocessing import StandardScaler\n",
        "\n",
        "\n",
        "from sklearn import metrics\n",
        "from sklearn.cluster import OPTICS\n",
        "min_groupe = 2\n",
        "db = OPTICS(min_samples=2, xi=0.05, min_cluster_size=0.1)\n",
        "db.fit(X)\n",
        "\n",
        "# Extraction des labels de clusters\n",
        "labels_DH = cluster_optics_dbscan(reachability=db.reachability_,\n",
        "                               core_distances=db.core_distances_,\n",
        "                               ordering=db.ordering_, eps=0.5)\n",
        "\n",
        "n_clusters_ = len(set(labels_DH)) - (1 if -1 in labels_DH else 0)\n",
        "n_noise_ = list(labels_DH).count(-1)\n",
        "\n",
        "print(\"Estimated number of clusters DH: %d\" % n_clusters_)\n",
        "print(\"Estimated number of noise points DH: %d\" % n_noise_)\n",
        "\n",
        "\n",
        "Y = fichier_SIO\n",
        "\n",
        "\n",
        "\n",
        "# Y = Y.apply(pd.to_numeric)\n",
        "\n",
        "\n",
        "db2 = OPTICS(min_samples=2, xi=0.05, min_cluster_size=0.1)\n",
        "db2.fit(Y)\n",
        "\n",
        "# Extraction des labels de clusters\n",
        "labels_SIO = cluster_optics_dbscan(reachability=db2.reachability_,\n",
        "                               core_distances=db2.core_distances_,\n",
        "                               ordering=db2.ordering_, eps=0.5)\n",
        "\n",
        "\n",
        "\n",
        "n_clusters_ = len(set(labels_SIO)) - (1 if -1 in labels_SIO else 0)\n",
        "n_noise_ = list(labels_SIO).count(-1)\n",
        "\n",
        "print(\"Estimated number of clusters SIO: %d\" % n_clusters_)\n",
        "print(\"Estimated number of noise points SIO: %d\" % n_noise_)\n",
        "print(\"____________Résumé____________\")\n",
        "difference = labels_DH - labels_SIO\n",
        "print(\"Données en écarts = \", difference)\n",
        "print(labels_DH)\n",
        "print(labels_SIO)\n",
        "n_DH = len(labels_DH)\n",
        "n_SIO=len(labels_SIO)\n",
        "n_dif = len(difference)\n",
        "print(\"Longueur dif = \", n_dif)\n",
        "fin = False\n",
        "i=-1\n",
        "\n",
        "nb_ko = 0\n",
        "\n",
        "# Créer un tableau vide avec une dimension initiale\n",
        "empty_array = np.empty((0, 3))  # Par exemple, un tableau vide avec 3 colonnes\n",
        "\n"
      ],
      "metadata": {
        "colab": {
          "base_uri": "https://localhost:8080/",
          "height": 356
        },
        "outputId": "40b8c1f6-b348-4ece-f190-48b18985f7dc",
        "id": "ph5fNC_WbYnv"
      },
      "execution_count": 13,
      "outputs": [
        {
          "output_type": "error",
          "ename": "KeyboardInterrupt",
          "evalue": "",
          "traceback": [
            "\u001b[0;31m---------------------------------------------------------------------------\u001b[0m",
            "\u001b[0;31mKeyboardInterrupt\u001b[0m                         Traceback (most recent call last)",
            "\u001b[0;32m<ipython-input-13-4d4ae20be302>\u001b[0m in \u001b[0;36m<cell line: 15>\u001b[0;34m()\u001b[0m\n\u001b[1;32m     13\u001b[0m \u001b[0mmin_groupe\u001b[0m \u001b[0;34m=\u001b[0m \u001b[0;36m2\u001b[0m\u001b[0;34m\u001b[0m\u001b[0;34m\u001b[0m\u001b[0m\n\u001b[1;32m     14\u001b[0m \u001b[0mdb\u001b[0m \u001b[0;34m=\u001b[0m \u001b[0mOPTICS\u001b[0m\u001b[0;34m(\u001b[0m\u001b[0mmin_samples\u001b[0m\u001b[0;34m=\u001b[0m\u001b[0;36m2\u001b[0m\u001b[0;34m,\u001b[0m \u001b[0mxi\u001b[0m\u001b[0;34m=\u001b[0m\u001b[0;36m0.05\u001b[0m\u001b[0;34m,\u001b[0m \u001b[0mmin_cluster_size\u001b[0m\u001b[0;34m=\u001b[0m\u001b[0;36m0.1\u001b[0m\u001b[0;34m)\u001b[0m\u001b[0;34m\u001b[0m\u001b[0;34m\u001b[0m\u001b[0m\n\u001b[0;32m---> 15\u001b[0;31m \u001b[0mdb\u001b[0m\u001b[0;34m.\u001b[0m\u001b[0mfit\u001b[0m\u001b[0;34m(\u001b[0m\u001b[0mX\u001b[0m\u001b[0;34m)\u001b[0m\u001b[0;34m\u001b[0m\u001b[0;34m\u001b[0m\u001b[0m\n\u001b[0m\u001b[1;32m     16\u001b[0m \u001b[0;34m\u001b[0m\u001b[0m\n\u001b[1;32m     17\u001b[0m \u001b[0;31m# Extraction des labels de clusters\u001b[0m\u001b[0;34m\u001b[0m\u001b[0;34m\u001b[0m\u001b[0m\n",
            "\u001b[0;32m/usr/local/lib/python3.10/dist-packages/sklearn/base.py\u001b[0m in \u001b[0;36mwrapper\u001b[0;34m(estimator, *args, **kwargs)\u001b[0m\n\u001b[1;32m   1471\u001b[0m                 )\n\u001b[1;32m   1472\u001b[0m             ):\n\u001b[0;32m-> 1473\u001b[0;31m                 \u001b[0;32mreturn\u001b[0m \u001b[0mfit_method\u001b[0m\u001b[0;34m(\u001b[0m\u001b[0mestimator\u001b[0m\u001b[0;34m,\u001b[0m \u001b[0;34m*\u001b[0m\u001b[0margs\u001b[0m\u001b[0;34m,\u001b[0m \u001b[0;34m**\u001b[0m\u001b[0mkwargs\u001b[0m\u001b[0;34m)\u001b[0m\u001b[0;34m\u001b[0m\u001b[0;34m\u001b[0m\u001b[0m\n\u001b[0m\u001b[1;32m   1474\u001b[0m \u001b[0;34m\u001b[0m\u001b[0m\n\u001b[1;32m   1475\u001b[0m         \u001b[0;32mreturn\u001b[0m \u001b[0mwrapper\u001b[0m\u001b[0;34m\u001b[0m\u001b[0;34m\u001b[0m\u001b[0m\n",
            "\u001b[0;32m/usr/local/lib/python3.10/dist-packages/sklearn/cluster/_optics.py\u001b[0m in \u001b[0;36mfit\u001b[0;34m(self, X, y)\u001b[0m\n\u001b[1;32m    348\u001b[0m             \u001b[0mself\u001b[0m\u001b[0;34m.\u001b[0m\u001b[0mreachability_\u001b[0m\u001b[0;34m,\u001b[0m\u001b[0;34m\u001b[0m\u001b[0;34m\u001b[0m\u001b[0m\n\u001b[1;32m    349\u001b[0m             \u001b[0mself\u001b[0m\u001b[0;34m.\u001b[0m\u001b[0mpredecessor_\u001b[0m\u001b[0;34m,\u001b[0m\u001b[0;34m\u001b[0m\u001b[0;34m\u001b[0m\u001b[0m\n\u001b[0;32m--> 350\u001b[0;31m         \u001b[0;34m)\u001b[0m \u001b[0;34m=\u001b[0m \u001b[0mmemory\u001b[0m\u001b[0;34m.\u001b[0m\u001b[0mcache\u001b[0m\u001b[0;34m(\u001b[0m\u001b[0mcompute_optics_graph\u001b[0m\u001b[0;34m)\u001b[0m\u001b[0;34m(\u001b[0m\u001b[0;34m\u001b[0m\u001b[0;34m\u001b[0m\u001b[0m\n\u001b[0m\u001b[1;32m    351\u001b[0m             \u001b[0mX\u001b[0m\u001b[0;34m=\u001b[0m\u001b[0mX\u001b[0m\u001b[0;34m,\u001b[0m\u001b[0;34m\u001b[0m\u001b[0;34m\u001b[0m\u001b[0m\n\u001b[1;32m    352\u001b[0m             \u001b[0mmin_samples\u001b[0m\u001b[0;34m=\u001b[0m\u001b[0mself\u001b[0m\u001b[0;34m.\u001b[0m\u001b[0mmin_samples\u001b[0m\u001b[0;34m,\u001b[0m\u001b[0;34m\u001b[0m\u001b[0;34m\u001b[0m\u001b[0m\n",
            "\u001b[0;32m/usr/local/lib/python3.10/dist-packages/joblib/memory.py\u001b[0m in \u001b[0;36m__call__\u001b[0;34m(self, *args, **kwargs)\u001b[0m\n\u001b[1;32m    310\u001b[0m \u001b[0;34m\u001b[0m\u001b[0m\n\u001b[1;32m    311\u001b[0m     \u001b[0;32mdef\u001b[0m \u001b[0m__call__\u001b[0m\u001b[0;34m(\u001b[0m\u001b[0mself\u001b[0m\u001b[0;34m,\u001b[0m \u001b[0;34m*\u001b[0m\u001b[0margs\u001b[0m\u001b[0;34m,\u001b[0m \u001b[0;34m**\u001b[0m\u001b[0mkwargs\u001b[0m\u001b[0;34m)\u001b[0m\u001b[0;34m:\u001b[0m\u001b[0;34m\u001b[0m\u001b[0;34m\u001b[0m\u001b[0m\n\u001b[0;32m--> 312\u001b[0;31m         \u001b[0;32mreturn\u001b[0m \u001b[0mself\u001b[0m\u001b[0;34m.\u001b[0m\u001b[0mfunc\u001b[0m\u001b[0;34m(\u001b[0m\u001b[0;34m*\u001b[0m\u001b[0margs\u001b[0m\u001b[0;34m,\u001b[0m \u001b[0;34m**\u001b[0m\u001b[0mkwargs\u001b[0m\u001b[0;34m)\u001b[0m\u001b[0;34m\u001b[0m\u001b[0;34m\u001b[0m\u001b[0m\n\u001b[0m\u001b[1;32m    313\u001b[0m \u001b[0;34m\u001b[0m\u001b[0m\n\u001b[1;32m    314\u001b[0m     \u001b[0;32mdef\u001b[0m \u001b[0mcall_and_shelve\u001b[0m\u001b[0;34m(\u001b[0m\u001b[0mself\u001b[0m\u001b[0;34m,\u001b[0m \u001b[0;34m*\u001b[0m\u001b[0margs\u001b[0m\u001b[0;34m,\u001b[0m \u001b[0;34m**\u001b[0m\u001b[0mkwargs\u001b[0m\u001b[0;34m)\u001b[0m\u001b[0;34m:\u001b[0m\u001b[0;34m\u001b[0m\u001b[0;34m\u001b[0m\u001b[0m\n",
            "\u001b[0;32m/usr/local/lib/python3.10/dist-packages/sklearn/utils/_param_validation.py\u001b[0m in \u001b[0;36mwrapper\u001b[0;34m(*args, **kwargs)\u001b[0m\n\u001b[1;32m    211\u001b[0m                     )\n\u001b[1;32m    212\u001b[0m                 ):\n\u001b[0;32m--> 213\u001b[0;31m                     \u001b[0;32mreturn\u001b[0m \u001b[0mfunc\u001b[0m\u001b[0;34m(\u001b[0m\u001b[0;34m*\u001b[0m\u001b[0margs\u001b[0m\u001b[0;34m,\u001b[0m \u001b[0;34m**\u001b[0m\u001b[0mkwargs\u001b[0m\u001b[0;34m)\u001b[0m\u001b[0;34m\u001b[0m\u001b[0;34m\u001b[0m\u001b[0m\n\u001b[0m\u001b[1;32m    214\u001b[0m             \u001b[0;32mexcept\u001b[0m \u001b[0mInvalidParameterError\u001b[0m \u001b[0;32mas\u001b[0m \u001b[0me\u001b[0m\u001b[0;34m:\u001b[0m\u001b[0;34m\u001b[0m\u001b[0;34m\u001b[0m\u001b[0m\n\u001b[1;32m    215\u001b[0m                 \u001b[0;31m# When the function is just a wrapper around an estimator, we allow\u001b[0m\u001b[0;34m\u001b[0m\u001b[0;34m\u001b[0m\u001b[0m\n",
            "\u001b[0;32m/usr/local/lib/python3.10/dist-packages/sklearn/cluster/_optics.py\u001b[0m in \u001b[0;36mcompute_optics_graph\u001b[0;34m(X, min_samples, max_eps, metric, p, metric_params, algorithm, leaf_size, n_jobs)\u001b[0m\n\u001b[1;32m    645\u001b[0m         \u001b[0mordering\u001b[0m\u001b[0;34m[\u001b[0m\u001b[0mordering_idx\u001b[0m\u001b[0;34m]\u001b[0m \u001b[0;34m=\u001b[0m \u001b[0mpoint\u001b[0m\u001b[0;34m\u001b[0m\u001b[0;34m\u001b[0m\u001b[0m\n\u001b[1;32m    646\u001b[0m         \u001b[0;32mif\u001b[0m \u001b[0mcore_distances_\u001b[0m\u001b[0;34m[\u001b[0m\u001b[0mpoint\u001b[0m\u001b[0;34m]\u001b[0m \u001b[0;34m!=\u001b[0m \u001b[0mnp\u001b[0m\u001b[0;34m.\u001b[0m\u001b[0minf\u001b[0m\u001b[0;34m:\u001b[0m\u001b[0;34m\u001b[0m\u001b[0;34m\u001b[0m\u001b[0m\n\u001b[0;32m--> 647\u001b[0;31m             _set_reach_dist(\n\u001b[0m\u001b[1;32m    648\u001b[0m                 \u001b[0mcore_distances_\u001b[0m\u001b[0;34m=\u001b[0m\u001b[0mcore_distances_\u001b[0m\u001b[0;34m,\u001b[0m\u001b[0;34m\u001b[0m\u001b[0;34m\u001b[0m\u001b[0m\n\u001b[1;32m    649\u001b[0m                 \u001b[0mreachability_\u001b[0m\u001b[0;34m=\u001b[0m\u001b[0mreachability_\u001b[0m\u001b[0;34m,\u001b[0m\u001b[0;34m\u001b[0m\u001b[0;34m\u001b[0m\u001b[0m\n",
            "\u001b[0;32m/usr/local/lib/python3.10/dist-packages/sklearn/cluster/_optics.py\u001b[0m in \u001b[0;36m_set_reach_dist\u001b[0;34m(core_distances_, reachability_, predecessor_, point_index, processed, X, nbrs, metric, metric_params, p, max_eps)\u001b[0m\n\u001b[1;32m    706\u001b[0m             \u001b[0;31m# in the dict params\u001b[0m\u001b[0;34m\u001b[0m\u001b[0;34m\u001b[0m\u001b[0m\n\u001b[1;32m    707\u001b[0m             \u001b[0m_params\u001b[0m\u001b[0;34m[\u001b[0m\u001b[0;34m\"p\"\u001b[0m\u001b[0;34m]\u001b[0m \u001b[0;34m=\u001b[0m \u001b[0mp\u001b[0m\u001b[0;34m\u001b[0m\u001b[0;34m\u001b[0m\u001b[0m\n\u001b[0;32m--> 708\u001b[0;31m         \u001b[0mdists\u001b[0m \u001b[0;34m=\u001b[0m \u001b[0mpairwise_distances\u001b[0m\u001b[0;34m(\u001b[0m\u001b[0mP\u001b[0m\u001b[0;34m,\u001b[0m \u001b[0mX\u001b[0m\u001b[0;34m[\u001b[0m\u001b[0munproc\u001b[0m\u001b[0;34m]\u001b[0m\u001b[0;34m,\u001b[0m \u001b[0mmetric\u001b[0m\u001b[0;34m,\u001b[0m \u001b[0mn_jobs\u001b[0m\u001b[0;34m=\u001b[0m\u001b[0;32mNone\u001b[0m\u001b[0;34m,\u001b[0m \u001b[0;34m**\u001b[0m\u001b[0m_params\u001b[0m\u001b[0;34m)\u001b[0m\u001b[0;34m.\u001b[0m\u001b[0mravel\u001b[0m\u001b[0;34m(\u001b[0m\u001b[0;34m)\u001b[0m\u001b[0;34m\u001b[0m\u001b[0;34m\u001b[0m\u001b[0m\n\u001b[0m\u001b[1;32m    709\u001b[0m \u001b[0;34m\u001b[0m\u001b[0m\n\u001b[1;32m    710\u001b[0m     \u001b[0mrdists\u001b[0m \u001b[0;34m=\u001b[0m \u001b[0mnp\u001b[0m\u001b[0;34m.\u001b[0m\u001b[0mmaximum\u001b[0m\u001b[0;34m(\u001b[0m\u001b[0mdists\u001b[0m\u001b[0;34m,\u001b[0m \u001b[0mcore_distances_\u001b[0m\u001b[0;34m[\u001b[0m\u001b[0mpoint_index\u001b[0m\u001b[0;34m]\u001b[0m\u001b[0;34m)\u001b[0m\u001b[0;34m\u001b[0m\u001b[0;34m\u001b[0m\u001b[0m\n",
            "\u001b[0;32m/usr/local/lib/python3.10/dist-packages/sklearn/utils/_param_validation.py\u001b[0m in \u001b[0;36mwrapper\u001b[0;34m(*args, **kwargs)\u001b[0m\n\u001b[1;32m    180\u001b[0m         \u001b[0msetattr\u001b[0m\u001b[0;34m(\u001b[0m\u001b[0mfunc\u001b[0m\u001b[0;34m,\u001b[0m \u001b[0;34m\"_skl_parameter_constraints\"\u001b[0m\u001b[0;34m,\u001b[0m \u001b[0mparameter_constraints\u001b[0m\u001b[0;34m)\u001b[0m\u001b[0;34m\u001b[0m\u001b[0;34m\u001b[0m\u001b[0m\n\u001b[1;32m    181\u001b[0m \u001b[0;34m\u001b[0m\u001b[0m\n\u001b[0;32m--> 182\u001b[0;31m         \u001b[0;34m@\u001b[0m\u001b[0mfunctools\u001b[0m\u001b[0;34m.\u001b[0m\u001b[0mwraps\u001b[0m\u001b[0;34m(\u001b[0m\u001b[0mfunc\u001b[0m\u001b[0;34m)\u001b[0m\u001b[0;34m\u001b[0m\u001b[0;34m\u001b[0m\u001b[0m\n\u001b[0m\u001b[1;32m    183\u001b[0m         \u001b[0;32mdef\u001b[0m \u001b[0mwrapper\u001b[0m\u001b[0;34m(\u001b[0m\u001b[0;34m*\u001b[0m\u001b[0margs\u001b[0m\u001b[0;34m,\u001b[0m \u001b[0;34m**\u001b[0m\u001b[0mkwargs\u001b[0m\u001b[0;34m)\u001b[0m\u001b[0;34m:\u001b[0m\u001b[0;34m\u001b[0m\u001b[0;34m\u001b[0m\u001b[0m\n\u001b[1;32m    184\u001b[0m             \u001b[0mglobal_skip_validation\u001b[0m \u001b[0;34m=\u001b[0m \u001b[0mget_config\u001b[0m\u001b[0;34m(\u001b[0m\u001b[0;34m)\u001b[0m\u001b[0;34m[\u001b[0m\u001b[0;34m\"skip_parameter_validation\"\u001b[0m\u001b[0;34m]\u001b[0m\u001b[0;34m\u001b[0m\u001b[0;34m\u001b[0m\u001b[0m\n",
            "\u001b[0;31mKeyboardInterrupt\u001b[0m: "
          ]
        }
      ]
    },
    {
      "cell_type": "markdown",
      "source": [
        "On sélectionne les isoles"
      ],
      "metadata": {
        "id": "3PlC42mFbbuR"
      }
    },
    {
      "cell_type": "code",
      "source": [
        "labels_DH_zero = [x for x in labels_DH if x ==-1]\n",
        "print(\"longueur DH label 0 =\", len(labels_DH_zero))\n",
        "labels_SIO_zero = [x for x in labels_SIO if x ==-1]\n",
        "print(\"longueur SIO label 0 =\", len(labels_SIO_zero))\n"
      ],
      "metadata": {
        "id": "GTnhGLo1KUKL",
        "outputId": "a617a15e-b7e4-4a65-99d3-99ce310f5d40",
        "colab": {
          "base_uri": "https://localhost:8080/"
        }
      },
      "execution_count": 3,
      "outputs": [
        {
          "output_type": "stream",
          "name": "stdout",
          "text": [
            "longueur DH label 0 = 10231\n",
            "longueur SIO label 0 = 11871\n"
          ]
        }
      ]
    },
    {
      "cell_type": "code",
      "source": [
        "# prompt: transform labels_DH into a dataframe\n",
        "\n",
        "#print(\"DH.38=\", X[38], \"SIO.38=\", Y[38])\n",
        "#print(\"DH.0=\", X[0], \"SIO.0=\", Y[0])\n",
        "\n",
        "# Assuming 'labels_DH' is already defined from the previous code\n",
        "labels_DH_df = pd.DataFrame({'labels_DH': labels_DH})\n",
        "labels_SIO_df = pd.DataFrame({'labels_SIO': labels_SIO})\n",
        "\n",
        "labels_DH_0 = labels_DH_df[labels_DH_df['labels_DH'] == -1]\n",
        "print(labels_DH_0.head())\n",
        "labels_SIO_0 = labels_SIO_df[labels_SIO_df['labels_SIO'] == -1]\n",
        "print(labels_SIO_0.head())\n",
        "print(\"______________________________________________________\")\n",
        "#print(labels_DH[38], \" SIO=\", labels_SIO[38])\n",
        "#print(\"Référence SIO\", references_SIO.iloc[38], \". Référence DH = \", references_DH.iloc[38])\n",
        "\n",
        "\n"
      ],
      "metadata": {
        "id": "efpKINjiMMgq",
        "outputId": "e94d6d91-7e79-4503-a78d-199347bfa932",
        "colab": {
          "base_uri": "https://localhost:8080/"
        }
      },
      "execution_count": 4,
      "outputs": [
        {
          "output_type": "stream",
          "name": "stdout",
          "text": [
            "    labels_DH\n",
            "13         -1\n",
            "17         -1\n",
            "19         -1\n",
            "20         -1\n",
            "22         -1\n",
            "    labels_SIO\n",
            "13          -1\n",
            "15          -1\n",
            "17          -1\n",
            "19          -1\n",
            "20          -1\n",
            "______________________________________________________\n"
          ]
        }
      ]
    },
    {
      "cell_type": "markdown",
      "source": [
        "Extraction des index en décalage : isolé dans le DH mais pas dans le SIO"
      ],
      "metadata": {
        "id": "rcgm5EG4hXDt"
      }
    },
    {
      "cell_type": "code",
      "source": [
        "# prompt: extraire les index qui dont dans labels_DH_0 mais pas dans labels_SIO_0\n",
        "\n",
        "# Find indices present in labels_DH_0 but not in labels_SIO_0\n",
        "dh_indices_in_0 = labels_DH_0.index.tolist()\n",
        "sio_indices_in_0 = labels_SIO_0.index.tolist()\n",
        "\n",
        "indices_in_sio_not_dh = list(set(dh_indices_in_0) - set(sio_indices_in_0))\n",
        "\n",
        "print(\"Indices in labels_DH_0 but not in labels_SIO_0:\")\n",
        "print(indices_in_sio_not_dh)\n",
        "print(\"nombre=\",len(indices_in_sio_not_dh))\n",
        "ind = indices_in_sio_not_dh[0]\n",
        "print(\"Référence sio = \", references_SIO.iloc[ind])\n",
        "print(\"Référence dh = \", references_DH.iloc[ind])\n",
        "print(\"LAbel DH = \", labels_DH[ind])\n",
        "print(\"LAbel SIO = \", labels_SIO[ind])"
      ],
      "metadata": {
        "colab": {
          "base_uri": "https://localhost:8080/"
        },
        "id": "Gz8BZr7qha_D",
        "outputId": "c493c7f9-f514-430b-f6b1-7f555e8fe866"
      },
      "execution_count": 5,
      "outputs": [
        {
          "output_type": "stream",
          "name": "stdout",
          "text": [
            "Indices in labels_DH_0 but not in labels_SIO_0:\n",
            "[65561, 45086, 96286, 53282, 38947, 92213, 8253, 51262, 10310, 88134, 65608, 22603, 80, 8280, 12388, 8295, 43112, 41065, 41071, 26736, 122, 10365, 84095, 63625, 8337, 53395, 43157, 8344, 8347, 41121, 67752, 14504, 84142, 65715, 20659, 88253, 4287, 94406, 96457, 88273, 14563, 39140, 43237, 2278, 80100, 94447, 2299, 257, 51458, 45333, 82198, 30999, 92451, 84269, 35133, 59712, 53571, 82249, 82250, 63823, 18768, 92499, 49493, 12630, 94553, 76122, 26977, 16739, 92517, 76137, 76138, 84330, 31084, 41328, 369, 65905, 29042, 45428, 96630, 76156, 10625, 53635, 35210, 398, 12686, 59796, 412, 8612, 39346, 84403, 51641, 39364, 25029, 82381, 29134, 96722, 25055, 84450, 51685, 14824, 47597, 59886, 80369, 2553, 90620, 45566, 98817, 4624, 41490, 43541, 39448, 12824, 8736, 16933, 86565, 23082, 76353, 59976, 21066, 53837, 41550, 72279, 4700, 8796, 8797, 78430, 43623, 4713, 8810, 10868, 2679, 27256, 41599, 92804, 647, 2700, 47772, 80540, 17059, 55972, 37543, 2737, 45751, 31436, 92893, 80611, 39656, 49897, 10987, 76525, 19185, 90868, 11005, 58120, 60173, 29455, 4883, 68374, 39702, 99099, 62251, 11065, 86841, 78651, 25406, 11075, 56132, 56135, 95054, 97111, 84824, 84829, 78694, 84840, 97129, 86897, 17283, 45959, 17289, 9099, 84879, 76696, 37786, 91036, 927, 15271, 45992, 48059, 89022, 3011, 39878, 60375, 74715, 43996, 997, 95208, 5098, 1016, 39937, 35851, 56331, 27662, 9231, 78867, 1044, 62487, 62490, 46122, 1070, 99396, 1093, 46171, 1123, 37990, 7271, 97382, 76905, 27759, 93299, 29811, 97400, 7290, 5246, 23680, 40067, 50310, 54410, 76945, 85139, 11412, 7320, 81052, 25759, 66721, 58530, 58531, 1192, 17577, 56488, 95408, 95412, 9399, 79032, 15546, 11456, 1221, 3275, 89296, 21714, 48345, 66781, 31968, 85222, 72935, 83183, 99570, 29943, 5372, 40190, 93442, 87312, 62739, 54548, 93467, 85276, 36135, 15665, 54585, 19770, 42303, 54591, 46413, 5463, 44379, 81245, 97630, 99685, 23920, 97651, 52596, 17787, 5501, 36228, 11654, 73099, 38300, 93597, 44446, 56748, 77234, 85428, 83390, 5571, 79300, 85445, 48592, 19921, 56792, 44507, 7649, 42466, 73197, 83438, 85485, 56823, 79353, 44543, 15877, 79369, 85514, 48651, 87561, 13842, 77331, 85522, 63001, 48681, 83497, 5675, 79404, 67124, 54844, 83537, 79442, 63058, 52821, 38488, 48729, 44634, 91746, 97900, 38510, 22126, 77430, 81542, 81553, 7829, 24214, 65176, 97955, 93864, 59051, 38578, 50868, 87733, 95941, 1738, 95948, 48845, 11984, 44759, 3800, 3803, 89831, 30447, 44790, 75512, 96002, 93957, 5902, 93971, 38678, 77601, 1828, 32550, 55095, 3896, 3902, 55119, 77649, 38738, 77658, 30556, 3941, 10088, 14186, 87919, 10103, 61307, 98174, 22410, 14218, 83850, 51084, 96138, 53140, 94104, 32664, 77724, 81828, 40871, 6057, 16299, 42924, 49068, 10160, 81840, 18358, 49082, 63419, 28605, 83907, 49099, 53207, 12248, 83929, 83932, 75747, 16356, 57317, 59363, 51181, 69615]\n",
            "nombre= 413\n",
            "Référence sio =  client_reference    1109164341\n",
            "Name: 65561, dtype: object\n",
            "Référence dh =  id_personne    1109164341\n",
            "Name: 65561, dtype: object\n",
            "LAbel DH =  -1\n",
            "LAbel SIO =  1001\n"
          ]
        }
      ]
    },
    {
      "cell_type": "markdown",
      "source": [
        "Test A"
      ],
      "metadata": {
        "id": "MFTe7fE4J7zm"
      }
    },
    {
      "cell_type": "code",
      "source": [
        "labels_SIO_isole = labels_SIO_df[labels_SIO_df['labels_SIO'] == 1001]\n",
        "print(labels_SIO_isole.head())\n",
        "sio_indices_in_isole = labels_SIO_isole.index.tolist()\n",
        "print(sio_indices_in_isole)\n",
        "print(\"référence client1=\", references_SIO.iloc[3896])\n",
        "print(\"référence client2=\", references_SIO.iloc[65561])\n",
        "print(\"Données SIO 1er =\", fichier_SIO.iloc[3896])\n",
        "print(\"Données SIO 2ème =\", fichier_SIO.iloc[65561])\n"
      ],
      "metadata": {
        "colab": {
          "base_uri": "https://localhost:8080/"
        },
        "id": "H7wVOh70pNsB",
        "outputId": "4e1c5939-79b8-414f-f6dd-759f3950b6c9"
      },
      "execution_count": 12,
      "outputs": [
        {
          "output_type": "stream",
          "name": "stdout",
          "text": [
            "       labels_SIO\n",
            "3896         1001\n",
            "65561        1001\n",
            "[3896, 65561]\n",
            "référence client1= client_reference    0002919870\n",
            "Name: 3896, dtype: object\n",
            "référence client2= client_reference    1109164341\n",
            "Name: 65561, dtype: object\n",
            "Données SIO 1er = cod_postal_naiss                                             4851323232\n",
            "cod_aiguil_vie                                                       48\n",
            "country_naiss                                                    703232\n",
            "nationality                                                      703232\n",
            "nationality.1                                                    703232\n",
            "marital_status                                                       77\n",
            "marital_status.1                                                     77\n",
            "nom_localite_naiss    6679858266797832763265826772657766658576843232...\n",
            "Name: 3896, dtype: object\n",
            "Données SIO 2ème = cod_postal_naiss                                             4851323232\n",
            "cod_aiguil_vie                                                       48\n",
            "country_naiss                                                    703232\n",
            "nationality                                                      703232\n",
            "nationality.1                                                    703232\n",
            "marital_status                                                       77\n",
            "marital_status.1                                                     77\n",
            "nom_localite_naiss    6679858266797832766578678932323232323232323232...\n",
            "Name: 65561, dtype: object\n"
          ]
        }
      ]
    },
    {
      "cell_type": "markdown",
      "source": [
        "Nombre d'enregistrements en décallage"
      ],
      "metadata": {
        "id": "XOFOTCPVuEVG"
      }
    },
    {
      "cell_type": "code",
      "source": [
        "#i0 = indices_in_sio_not_dh[0]\n",
        "#print(\"Donnée DH avec indice \", i0)\n",
        "#print(X.iloc[i0])\n",
        "#print(\"Donnée SIO avec indice \", i0)\n",
        "#print(Y.iloc[i0])\n",
        "#print(\"Référence SIO\", references_SIO.iloc[i0], \". Référence DH = \", references_DH.iloc[i0])\n",
        "labels_DH_df = pd.DataFrame({'labels_DH': labels_DH})\n",
        "labels_SIO_df = pd.DataFrame({'labels_SIO': labels_SIO})\n",
        "\n",
        "liste_ref_KO = []\n",
        "for num_label in range(10):\n",
        "  print(\"num_label=\", num_label)\n",
        "  print(\"-------\")\n",
        "  labels_SIO_num_label = labels_SIO_df[labels_SIO_df['labels_SIO'] == num_label]\n",
        "  sio_indices_in_num_label = labels_SIO_num_label.index.tolist()\n",
        "  print(\"sio_indices_in_num_label=\",sio_indices_in_num_label)\n",
        "  #print(\"Nombre d'enr = \", len(sio_indices_in_i))\n",
        "  k = labels_DH[sio_indices_in_num_label[num_label]]\n",
        "  print(\"k label DH pour le num_label_SIO =\", k)\n",
        "  labels_DH_k = labels_DH_df[labels_DH_df['labels_DH'] == k]\n",
        "  dh_indices_in_k = labels_DH_k.index.tolist()\n",
        "  indices_en_decallage = list(set(sio_indices_in_num_label) - set(dh_indices_in_k))\n",
        "  print(\"Indices en décallage:\", indices_en_decallage)\n",
        "  if len(indices_en_decallage) > 0:\n",
        "    liste_ref_KO.append(references_SIO.iloc[indices_en_decallage])\n",
        "print(\"__________________________________________________\")\n",
        "print (\"Longueur anomalie=\", len(liste_ref_KO))\n",
        "for j in range(len(liste_ref_KO)):\n",
        "  print(\"Réf \", j, \" = \", liste_ref_KO[j])\n",
        "\n"
      ],
      "metadata": {
        "colab": {
          "base_uri": "https://localhost:8080/",
          "height": 630
        },
        "id": "d2qbMJGWhuJu",
        "outputId": "63b3e070-937c-4067-e5c3-e93b21f5d5f3"
      },
      "execution_count": null,
      "outputs": [
        {
          "output_type": "stream",
          "name": "stdout",
          "text": [
            "num_label= 0\n",
            "-------\n",
            "sio_indices_in_num_label= [0, 12, 29, 40, 53, 57, 64, 73, 75, 101, 105, 107, 110, 123, 124, 138, 149, 151, 179, 197, 270, 272, 279, 295, 307, 397, 575, 690, 704, 750, 786, 962, 1290, 1636, 2706, 4651, 9562, 10025, 10163, 10244, 10539, 10573, 10584, 10745, 11465, 11641, 11717, 12244, 12402, 13532, 14286, 15487, 15851, 17717, 19102, 19423, 19549, 21497, 22741, 23110, 24402, 26018, 27146, 27239, 27528, 27722, 27753, 28063, 28103, 29528, 30934, 31472, 33327, 33978, 34811, 36024, 36163, 37320, 37350, 38293, 38474, 38481, 38517, 38519, 38521, 38526, 38565, 38577, 38582, 38593, 38594, 38600, 38622, 38858, 39038, 39528, 39635, 39695, 40103, 40114, 41699, 42786, 43290, 46375, 46488, 46631, 46632, 47441, 47491, 47930, 47948, 48123, 48394, 48416, 49071, 50523, 51390, 51624, 52073, 52556, 54493, 55193, 58831, 59244, 59600, 61637, 61788, 62659, 63373, 64966, 65253, 65932, 66241, 67947, 72701, 73332, 75942, 75951, 76128, 76134, 76153, 76175, 76179, 76191, 76203, 76209, 76238, 76242, 76246, 76250, 76263, 76273, 76417, 76479, 76497, 76510, 76584, 76625, 76739, 77332, 77593, 80796, 81319, 83690, 83747, 85107, 85124, 85530, 85532, 85680, 86075, 86380, 87521, 87945, 87954, 88207, 89385, 90906, 91975, 93191, 93416, 94037, 94723, 96180, 96762, 97096, 98157, 98166, 98428, 98934]\n",
            "k label DH pour le num_label_SIO = 0\n",
            "Indices en décallage: []\n",
            "num_label= 1\n",
            "-------\n",
            "sio_indices_in_num_label= [1, 88260]\n",
            "k label DH pour le num_label_SIO = 1\n",
            "Indices en décallage: []\n",
            "num_label= 2\n",
            "-------\n",
            "sio_indices_in_num_label= [2, 15893, 25015, 26463, 51001, 51017, 52250]\n",
            "k label DH pour le num_label_SIO = 2\n",
            "Indices en décallage: []\n",
            "num_label= 3\n",
            "-------\n",
            "sio_indices_in_num_label= [3, 8, 14, 67, 125, 223, 283, 738, 932, 8776, 8877, 9829, 10371, 10540, 10541, 10748, 11163, 12096, 12246, 12654, 12909, 13388, 13714, 13715, 13753, 14390, 14431, 14868, 15703, 15797, 15964, 16802, 16981, 17631, 17904, 18905, 20302, 20630, 20677, 20742, 20816, 21354, 21823, 23188, 23276, 23862, 24048, 24325, 24911, 25190, 25246, 25756, 25853, 26109, 27156, 28868, 29193, 30480, 31998, 32006, 35905, 36480, 38081, 38210, 38221, 38358, 38382, 42536, 47985, 48089, 48090, 48107, 48138, 48155, 48250, 48267, 49262, 50173, 50624, 51307, 51628, 52585, 52918, 53673, 54248, 54623, 54649, 56088, 56299, 57028, 58901, 59259, 60512, 62772, 64186, 64303, 64344, 64703, 64854, 65912, 66645, 67066, 67079, 67099, 68140, 68219, 68238, 69967, 70202, 70237, 71909, 72350, 74353, 74512, 74523, 74917, 75256, 75524, 75880, 76011, 76052, 76076, 76077, 76078, 76193, 76199, 76223, 76680, 77777, 79847, 80621, 80624, 81276, 81494, 81747, 85403, 85537, 85576, 85616, 86013, 86153, 86562, 86988, 87494, 87692, 88393, 89374, 91801, 93304, 94058, 94115, 95493, 95899, 95907, 96125, 96333, 98738, 98743, 99033, 99118]\n",
            "k label DH pour le num_label_SIO = 3\n",
            "Indices en décallage: []\n",
            "num_label= 4\n",
            "-------\n",
            "sio_indices_in_num_label= [4, 47707]\n"
          ]
        },
        {
          "output_type": "error",
          "ename": "IndexError",
          "evalue": "list index out of range",
          "traceback": [
            "\u001b[0;31m---------------------------------------------------------------------------\u001b[0m",
            "\u001b[0;31mIndexError\u001b[0m                                Traceback (most recent call last)",
            "\u001b[0;32m<ipython-input-10-3ab2f270abae>\u001b[0m in \u001b[0;36m<cell line: 11>\u001b[0;34m()\u001b[0m\n\u001b[1;32m     16\u001b[0m   \u001b[0mprint\u001b[0m\u001b[0;34m(\u001b[0m\u001b[0;34m\"sio_indices_in_num_label=\"\u001b[0m\u001b[0;34m,\u001b[0m\u001b[0msio_indices_in_num_label\u001b[0m\u001b[0;34m)\u001b[0m\u001b[0;34m\u001b[0m\u001b[0;34m\u001b[0m\u001b[0m\n\u001b[1;32m     17\u001b[0m   \u001b[0;31m#print(\"Nombre d'enr = \", len(sio_indices_in_i))\u001b[0m\u001b[0;34m\u001b[0m\u001b[0;34m\u001b[0m\u001b[0m\n\u001b[0;32m---> 18\u001b[0;31m   \u001b[0mk\u001b[0m \u001b[0;34m=\u001b[0m \u001b[0mlabels_DH\u001b[0m\u001b[0;34m[\u001b[0m\u001b[0msio_indices_in_num_label\u001b[0m\u001b[0;34m[\u001b[0m\u001b[0mnum_label\u001b[0m\u001b[0;34m]\u001b[0m\u001b[0;34m]\u001b[0m\u001b[0;34m\u001b[0m\u001b[0;34m\u001b[0m\u001b[0m\n\u001b[0m\u001b[1;32m     19\u001b[0m   \u001b[0mprint\u001b[0m\u001b[0;34m(\u001b[0m\u001b[0;34m\"k label DH pour le num_label_SIO =\"\u001b[0m\u001b[0;34m,\u001b[0m \u001b[0mk\u001b[0m\u001b[0;34m)\u001b[0m\u001b[0;34m\u001b[0m\u001b[0;34m\u001b[0m\u001b[0m\n\u001b[1;32m     20\u001b[0m   \u001b[0mlabels_DH_k\u001b[0m \u001b[0;34m=\u001b[0m \u001b[0mlabels_DH_df\u001b[0m\u001b[0;34m[\u001b[0m\u001b[0mlabels_DH_df\u001b[0m\u001b[0;34m[\u001b[0m\u001b[0;34m'labels_DH'\u001b[0m\u001b[0;34m]\u001b[0m \u001b[0;34m==\u001b[0m \u001b[0mk\u001b[0m\u001b[0;34m]\u001b[0m\u001b[0;34m\u001b[0m\u001b[0;34m\u001b[0m\u001b[0m\n",
            "\u001b[0;31mIndexError\u001b[0m: list index out of range"
          ]
        }
      ]
    },
    {
      "cell_type": "markdown",
      "source": [],
      "metadata": {
        "id": "PmKpEucZuB3M"
      }
    },
    {
      "cell_type": "code",
      "source": [
        "#i0 = indices_in_sio_not_dh[0]\n",
        "#print(\"Donnée DH avec indice \", i0)\n",
        "#print(X.iloc[i0])\n",
        "#print(\"Donnée SIO avec indice \", i0)\n",
        "#print(Y.iloc[i0])\n",
        "#print(\"Référence SIO\", references_SIO.iloc[i0], \". Référence DH = \", references_DH.iloc[i0])\n",
        "liste_ref_KO = []\n",
        "for i in range(10):\n",
        "  labels_SIO_i = labels_SIO_df[labels_SIO_df['labels_SIO'] == i]\n",
        "  sio_indices_in_i = labels_SIO_i.index.tolist()\n",
        "  for j in range(len(sio_indices_in_i)):\n",
        "    k = labels_DH[sio_indices_in_0[j]]\n",
        "    labels_DH_k = labels_DH_df[labels_DH_df['labels_DH'] == k]\n",
        "    dh_indices_in_k = labels_DH_k.index.tolist()\n",
        "  k = labels_DH[sio_indices_in_0[0]]\n",
        "  dh_indices_in_i = labels_DH_i.index.tolist()\n",
        "\n",
        "  indices_in_sio_not_dh_i = list(set(sio_indices_in_i) - set(dh_indices_in_i))\n",
        "  if len(indices_in_sio_not_dh_i) > 0:\n",
        "    print(\"Indices in labels_DH_i but not in labels_SIO_i:\", indices_in_sio_not_dh_i)\n",
        "    liste_ref_KO.append(references_SIO.iloc[indices_in_sio_not_dh_i])\n",
        "print(\"__________________________________________________\")\n",
        "print (\"Longueur anomalie=\", len(liste_ref_KO))\n",
        "for j in range(len(liste_ref_KO)):\n",
        "  print(\"Réf \", j, \" = \", liste_ref_KO[j])\n",
        "\n"
      ],
      "metadata": {
        "colab": {
          "base_uri": "https://localhost:8080/",
          "height": 211
        },
        "outputId": "91cf3f1a-f0a1-4bf5-ce2d-3d6aae9110fe",
        "id": "bOHQCFZTs3yc"
      },
      "execution_count": null,
      "outputs": [
        {
          "output_type": "error",
          "ename": "NameError",
          "evalue": "name 'labels_DH_i' is not defined",
          "traceback": [
            "\u001b[0;31m---------------------------------------------------------------------------\u001b[0m",
            "\u001b[0;31mNameError\u001b[0m                                 Traceback (most recent call last)",
            "\u001b[0;32m<ipython-input-13-c5fd315742e6>\u001b[0m in \u001b[0;36m<cell line: 8>\u001b[0;34m()\u001b[0m\n\u001b[1;32m     11\u001b[0m   \u001b[0;32mfor\u001b[0m \u001b[0mj\u001b[0m \u001b[0;32min\u001b[0m \u001b[0mrange\u001b[0m\u001b[0;34m(\u001b[0m\u001b[0mlen\u001b[0m\u001b[0;34m(\u001b[0m\u001b[0msio_indices_in_0\u001b[0m\u001b[0;34m)\u001b[0m\u001b[0;34m)\u001b[0m\u001b[0;34m:\u001b[0m\u001b[0;34m\u001b[0m\u001b[0;34m\u001b[0m\u001b[0m\n\u001b[1;32m     12\u001b[0m     \u001b[0mk\u001b[0m \u001b[0;34m=\u001b[0m \u001b[0mlabels_DH\u001b[0m\u001b[0;34m[\u001b[0m\u001b[0msio_indices_in_0\u001b[0m\u001b[0;34m[\u001b[0m\u001b[0mj\u001b[0m\u001b[0;34m]\u001b[0m\u001b[0;34m]\u001b[0m\u001b[0;34m\u001b[0m\u001b[0;34m\u001b[0m\u001b[0m\n\u001b[0;32m---> 13\u001b[0;31m     \u001b[0mdh_indices_in_i\u001b[0m \u001b[0;34m=\u001b[0m \u001b[0mlabels_DH_i\u001b[0m\u001b[0;34m.\u001b[0m\u001b[0mindex\u001b[0m\u001b[0;34m.\u001b[0m\u001b[0mtolist\u001b[0m\u001b[0;34m(\u001b[0m\u001b[0;34m)\u001b[0m\u001b[0;34m\u001b[0m\u001b[0;34m\u001b[0m\u001b[0m\n\u001b[0m\u001b[1;32m     14\u001b[0m   \u001b[0mk\u001b[0m \u001b[0;34m=\u001b[0m \u001b[0mlabels_DH\u001b[0m\u001b[0;34m[\u001b[0m\u001b[0msio_indices_in_0\u001b[0m\u001b[0;34m[\u001b[0m\u001b[0;36m0\u001b[0m\u001b[0;34m]\u001b[0m\u001b[0;34m]\u001b[0m\u001b[0;34m\u001b[0m\u001b[0;34m\u001b[0m\u001b[0m\n\u001b[1;32m     15\u001b[0m   \u001b[0mdh_indices_in_i\u001b[0m \u001b[0;34m=\u001b[0m \u001b[0mlabels_DH_i\u001b[0m\u001b[0;34m.\u001b[0m\u001b[0mindex\u001b[0m\u001b[0;34m.\u001b[0m\u001b[0mtolist\u001b[0m\u001b[0;34m(\u001b[0m\u001b[0;34m)\u001b[0m\u001b[0;34m\u001b[0m\u001b[0;34m\u001b[0m\u001b[0m\n",
            "\u001b[0;31mNameError\u001b[0m: name 'labels_DH_i' is not defined"
          ]
        }
      ]
    },
    {
      "cell_type": "code",
      "source": [
        "# Deux tableaux à une dimension\n",
        "#array1 = np.array([1, 2, 3])\n",
        "#array2 = np.array([4, 5, 6]) # Empiler verticalement\n",
        "#result = np.vstack((array1, array2))\n",
        "#print(result)\n",
        "#print(array1.shape)\n",
        "\n",
        "#print(result.shape)\n",
        "\n",
        "\n",
        "liste = []\n",
        "A = np.empty((0, 10000), dtype=int)\n",
        "\n",
        "for i in range(10000):\n",
        "  liste = []\n",
        "  for j in range(10000):\n",
        "    liste.append(labels_DH[i] -labels_DH[j])\n",
        "  A = np.vstack([A, liste])\n",
        "\n",
        "\n",
        "print(A)\n",
        "\n"
      ],
      "metadata": {
        "colab": {
          "base_uri": "https://localhost:8080/",
          "height": 211
        },
        "id": "dULH6aiKJ-vC",
        "outputId": "6f11a755-8e38-4054-e3cd-e160c23b8afa"
      },
      "execution_count": null,
      "outputs": [
        {
          "output_type": "error",
          "ename": "KeyboardInterrupt",
          "evalue": "",
          "traceback": [
            "\u001b[0;31m---------------------------------------------------------------------------\u001b[0m",
            "\u001b[0;31mKeyboardInterrupt\u001b[0m                         Traceback (most recent call last)",
            "\u001b[0;32m<ipython-input-13-aef2f7ea4448>\u001b[0m in \u001b[0;36m<cell line: 14>\u001b[0;34m()\u001b[0m\n\u001b[1;32m     15\u001b[0m   \u001b[0mliste\u001b[0m \u001b[0;34m=\u001b[0m \u001b[0;34m[\u001b[0m\u001b[0;34m]\u001b[0m\u001b[0;34m\u001b[0m\u001b[0;34m\u001b[0m\u001b[0m\n\u001b[1;32m     16\u001b[0m   \u001b[0;32mfor\u001b[0m \u001b[0mj\u001b[0m \u001b[0;32min\u001b[0m \u001b[0mrange\u001b[0m\u001b[0;34m(\u001b[0m\u001b[0;36m10000\u001b[0m\u001b[0;34m)\u001b[0m\u001b[0;34m:\u001b[0m\u001b[0;34m\u001b[0m\u001b[0;34m\u001b[0m\u001b[0m\n\u001b[0;32m---> 17\u001b[0;31m     \u001b[0mliste\u001b[0m\u001b[0;34m.\u001b[0m\u001b[0mappend\u001b[0m\u001b[0;34m(\u001b[0m\u001b[0mlabels_DH\u001b[0m\u001b[0;34m[\u001b[0m\u001b[0mi\u001b[0m\u001b[0;34m]\u001b[0m \u001b[0;34m-\u001b[0m\u001b[0mlabels_DH\u001b[0m\u001b[0;34m[\u001b[0m\u001b[0mj\u001b[0m\u001b[0;34m]\u001b[0m\u001b[0;34m)\u001b[0m\u001b[0;34m\u001b[0m\u001b[0;34m\u001b[0m\u001b[0m\n\u001b[0m\u001b[1;32m     18\u001b[0m   \u001b[0mA\u001b[0m \u001b[0;34m=\u001b[0m \u001b[0mnp\u001b[0m\u001b[0;34m.\u001b[0m\u001b[0mvstack\u001b[0m\u001b[0;34m(\u001b[0m\u001b[0;34m[\u001b[0m\u001b[0mA\u001b[0m\u001b[0;34m,\u001b[0m \u001b[0mliste\u001b[0m\u001b[0;34m]\u001b[0m\u001b[0;34m)\u001b[0m\u001b[0;34m\u001b[0m\u001b[0;34m\u001b[0m\u001b[0m\n\u001b[1;32m     19\u001b[0m \u001b[0;34m\u001b[0m\u001b[0m\n",
            "\u001b[0;31mKeyboardInterrupt\u001b[0m: "
          ]
        }
      ]
    },
    {
      "cell_type": "markdown",
      "source": [
        "Fin"
      ],
      "metadata": {
        "id": "H1RmNduDM0VY"
      }
    },
    {
      "cell_type": "code",
      "source": [
        "RRR\n",
        "\n",
        "\n",
        "\n",
        "\n",
        "\n",
        "\n",
        "while (i < n_dif - 1):\n",
        "    i = i + 1\n",
        "    if (difference[i] != 0):\n",
        "        print(\"i=\",i)\n",
        "        print(\"différence enregistrement \", str(i), \" DH=\", labels_DH[i], \"// SIO=\",labels_SIO[i], \"// ref=\", ref_cli[i,:])\n",
        "        #print(\"enr DH=\", fichier_DH.loc[i,:])\n",
        "        #print(\"enr SIO=\",fichier_SIO.loc[i,:])\n",
        "        nb_ko = nb_ko + 1\n",
        "        X = np.delete(X,i,0)\n",
        "        Y = np.delete(Y,i,0)\n",
        "        ref_cli = np.delete(ref_cli,i,0)\n",
        "        db = DBSCAN(eps=0.000000000000001,min_samples=min_groupe).fit(X)\n",
        "        labels_DH = db.labels_\n",
        "        db2 = DBSCAN(eps=0.00000000000001, min_samples=min_groupe).fit(Y)\n",
        "        labels_SIO = db2.labels_\n",
        "        difference = labels_DH - labels_SIO\n",
        "        n_dif = n_dif - 1\n",
        "\n",
        "\n",
        "lg = len(difference)\n",
        "#nb_ano = 0\n",
        "#for i in range(lg):\n",
        "#    if difference[i] !=0:\n",
        "#        nb_ano = nb_ano + 1\n",
        "print(\"ANOMALIES = \", nb_ko)\n",
        "#  3117773703\n",
        "\n",
        "fin_exec = time.time()\n",
        "temps = fin_exec - debut\n",
        "print(f'Temps d\\'exécution : {temps:.2}ms')"
      ],
      "metadata": {
        "id": "ryYCroBZM2eB"
      },
      "execution_count": null,
      "outputs": []
    }
  ]
}