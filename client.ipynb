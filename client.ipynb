{
  "nbformat": 4,
  "nbformat_minor": 0,
  "metadata": {
    "colab": {
      "provenance": [],
      "authorship_tag": "ABX9TyOFiAQ6YyqXKTZSNP5g05g1",
      "include_colab_link": true
    },
    "kernelspec": {
      "name": "python3",
      "display_name": "Python 3"
    },
    "language_info": {
      "name": "python"
    }
  },
  "cells": [
    {
      "cell_type": "markdown",
      "metadata": {
        "id": "view-in-github",
        "colab_type": "text"
      },
      "source": [
        "<a href=\"https://colab.research.google.com/github/jpbeaud/dbscan/blob/main/client.ipynb\" target=\"_parent\"><img src=\"https://colab.research.google.com/assets/colab-badge.svg\" alt=\"Open In Colab\"/></a>"
      ]
    },
    {
      "cell_type": "code",
      "execution_count": null,
      "metadata": {
        "id": "_ygxaCdL7hTc"
      },
      "outputs": [],
      "source": []
    },
    {
      "cell_type": "code",
      "execution_count": 2,
      "metadata": {
        "colab": {
          "base_uri": "https://localhost:8080/"
        },
        "id": "xM6LEC2Z58Pm",
        "outputId": "25129ae5-61f5-4ae9-f48e-9323a4d50b26"
      },
      "outputs": [
        {
          "output_type": "stream",
          "name": "stdout",
          "text": [
            "Début à 1730983408.8803294\n"
          ]
        }
      ],
      "source": [
        "import pandas as pd\n",
        "import numpy as np\n",
        "import time\n",
        "\n",
        "def string_to_number(s):\n",
        "  return int(''.join(str(ord(char)) for char in s))\n",
        "\n",
        "\n",
        "\n",
        "chemin = \"/content/sample_data/\"\n",
        "debut = time.time()\n",
        "print(\"Début à\", debut)\n",
        "\n",
        "\n",
        "\n",
        "fichier_DH = pd.read_csv(chemin+\"extrac_DH.csv\", sep=\",\", dtype=str,skipinitialspace=True)\n",
        "\n",
        "fichier_DH = fichier_DH.replace(\"\", np.nan)\n",
        "fichier_DH = fichier_DH.fillna(0)\n",
        "\n",
        "fichier_DH = fichier_DH.astype(str)\n",
        "col_ref = ['id_personne']\n",
        "references_DH = fichier_DH[col_ref]\n",
        "\n",
        "\n",
        "\n",
        "fichier_DH.sort_values(by='id_personne')\n",
        "\n",
        "fichier_DH2 = fichier_DH\n",
        "fichier_DH2 = fichier_DH2.drop('id_personne', axis='columns')\n",
        "\n",
        "fichier_DH2= fichier_DH2.astype(str)\n",
        "fichier_DH2 = fichier_DH2.map(string_to_number)\n",
        "\n",
        "\n",
        "\n",
        "#fichier_DH.set_index('id_personne', inplace=True) # inplace=True --> on ne crée pas un nouveau DF\n",
        "\n",
        "\n",
        "\n",
        "\n",
        "fichier_SIO = pd.read_csv(chemin+\"extrac_SIO.csv\", sep=\",\", dtype=str,skipinitialspace=True)\n",
        "col_ref = ['client_reference']\n",
        "\n",
        "references_SIO= fichier_SIO[col_ref]\n",
        "ref_cli = references_SIO.to_numpy()\n",
        "\n",
        "fichier_SIO = fichier_SIO.replace(\"\", np.nan)\n",
        "fichier_SIO = fichier_SIO.fillna(0)\n",
        "\n",
        "\n",
        "\n",
        "fichier_SIO.sort_values(by='client_reference')\n",
        "fichier_SIO = fichier_SIO.astype(str)\n",
        "fichier_SIO = fichier_SIO.map(string_to_number)\n",
        "\n",
        "\n",
        "fichier_SIO = fichier_SIO.drop('client_reference',axis='columns')\n",
        "#print (\"fichier SIO format :\")\n",
        "#print(fichier_SIO.head())\n",
        "# X = fichier_DH.to_numpy()\n",
        "\n"
      ]
    },
    {
      "cell_type": "markdown",
      "source": [
        "Ficher DB2 et SIO"
      ],
      "metadata": {
        "id": "Y-ebEUb_d2qD"
      }
    },
    {
      "cell_type": "code",
      "source": [
        "# prompt: comment calculer le nombre d'enregistrements différents dans fichier_DH2\n",
        "\n",
        "# Calculate the number of unique records in fichier_DH2\n",
        "unique_records_count = len(fichier_DH2.drop_duplicates())\n",
        "\n",
        "print(f\"Number of unique records in fichier_DH2: {unique_records_count}\")\n",
        "\n",
        "# Calculate the number of unique records in fichier_SIO\n",
        "unique_records_count = len(fichier_SIO.drop_duplicates())\n",
        "\n",
        "print(f\"Number of unique records in fichier_SIO: {unique_records_count}\")"
      ],
      "metadata": {
        "colab": {
          "base_uri": "https://localhost:8080/"
        },
        "id": "GQAJSc6dd6c0",
        "outputId": "9289a83d-5d57-4958-f123-ae34c5d17e3f"
      },
      "execution_count": 3,
      "outputs": [
        {
          "output_type": "stream",
          "name": "stdout",
          "text": [
            "Number of unique records in fichier_DH2: 14725\n",
            "Number of unique records in fichier_SIO: 17079\n"
          ]
        }
      ]
    },
    {
      "cell_type": "markdown",
      "source": [
        "Appel à DBSCAN"
      ],
      "metadata": {
        "id": "FUrtfUo7deI9"
      }
    },
    {
      "cell_type": "code",
      "source": [
        "X = fichier_DH2\n",
        "#X.set_index('id_personne', inplace=True) # inplace=True --> on ne crée pas un nouveau DF\n",
        "\n",
        "# print(X.dtype)\n",
        "X = X.apply(pd.to_numeric)\n",
        "\n",
        "import matplotlib.pyplot as plt\n",
        "# pltcatter(X[:, 3], X[:, 4])\n",
        "\n",
        "\n",
        "#plt.scatter(x=\"pcs\" , y=\"cosop\", c = 'r', data=X)\n",
        "#plt.show()\n",
        "\n",
        "from sklearn.datasets import make_blobs\n",
        "from sklearn.preprocessing import StandardScaler\n",
        "\n",
        "# création du jeu de test\n",
        "\n",
        "#X = StandardScaler().fit_transform(X)\n",
        "#print (\"fichier DH2 après scaler :\")\n",
        "#print(X[:5])\n",
        "\n",
        "from sklearn import metrics\n",
        "from sklearn.cluster import DBSCAN\n",
        "from sklearn.cluster import OPTICS\n",
        "min_groupe = 5\n",
        "db = DBSCAN(eps=0.000000000000001,min_samples=min_groupe).fit(X)\n",
        "labels_DH = db.labels_\n",
        "\n",
        "n_clusters_ = len(set(labels_DH)) - (1 if -1 in labels_DH else 0)\n",
        "n_noise_ = list(labels_DH).count(-1)\n",
        "\n",
        "print(\"Estimated number of clusters DH: %d\" % n_clusters_)\n",
        "print(\"Estimated number of noise points DH: %d\" % n_noise_)\n",
        "\n",
        "\n",
        "Y = fichier_SIO\n",
        "\n",
        "\n",
        "#Y = StandardScaler().fit_transform(Y)\n",
        "#print (\"fichier SIO après scaler :\")\n",
        "#print(Y[:5])\n",
        "\n",
        "\n",
        "# Y = Y.apply(pd.to_numeric)\n",
        "db2 = DBSCAN(eps=0.00000000000001, min_samples=min_groupe).fit(Y)\n",
        "labels_SIO = db2.labels_\n",
        "\n",
        "\n",
        "\n",
        "n_clusters_ = len(set(labels_SIO)) - (1 if -1 in labels_SIO else 0)\n",
        "n_noise_ = list(labels_SIO).count(-1)\n",
        "\n",
        "print(\"Estimated number of clusters SIO: %d\" % n_clusters_)\n",
        "print(\"Estimated number of noise points SIO: %d\" % n_noise_)\n",
        "print(\"____________Résumé____________\")\n",
        "difference = labels_DH - labels_SIO\n",
        "print(\"Données en écarts = \", difference)\n",
        "print(labels_DH)\n",
        "print(labels_SIO)\n",
        "n_DH = len(labels_DH)\n",
        "n_SIO=len(labels_SIO)\n",
        "n_dif = len(difference)\n",
        "print(\"Longueur dif = \", n_dif)\n",
        "fin = False\n",
        "i=-1\n",
        "\n",
        "nb_ko = 0\n",
        "\n",
        "# Créer un tableau vide avec une dimension initiale\n",
        "empty_array = np.empty((0, 3))  # Par exemple, un tableau vide avec 3 colonnes\n",
        "\n"
      ],
      "metadata": {
        "colab": {
          "base_uri": "https://localhost:8080/"
        },
        "id": "HKV2lhUSdi4F",
        "outputId": "86ba65c5-ff96-45e4-818b-43c16e192423"
      },
      "execution_count": 4,
      "outputs": [
        {
          "output_type": "stream",
          "name": "stdout",
          "text": [
            "Estimated number of clusters DH: 1855\n",
            "Estimated number of noise points DH: 16678\n",
            "Estimated number of clusters SIO: 1844\n",
            "Estimated number of noise points SIO: 19101\n",
            "____________Résumé____________\n",
            "Données en écarts =  [  0   0   0 ... -10  12   0]\n",
            "[  0  -1   1 ...   4 727  -1]\n",
            "[  0  -1   1 ...  14 715  -1]\n",
            "Longueur dif =  100000\n"
          ]
        }
      ]
    },
    {
      "cell_type": "markdown",
      "source": [
        "On sélectionne les enregistrements qui ont 0 comme label"
      ],
      "metadata": {
        "id": "V4r27mNbK6it"
      }
    },
    {
      "cell_type": "code",
      "source": [
        "labels_DH_zero = [x for x in labels_DH if x ==0]\n",
        "print(\"longueur DH label 0 =\", len(labels_DH_zero))\n",
        "labels_SIO_zero = [x for x in labels_SIO if x ==0]\n",
        "print(\"longueur SIO label 0 =\", len(labels_SIO_zero))\n"
      ],
      "metadata": {
        "id": "GTnhGLo1KUKL",
        "outputId": "12d425a8-8d07-4615-d34d-8009ef5f8f21",
        "colab": {
          "base_uri": "https://localhost:8080/"
        }
      },
      "execution_count": 5,
      "outputs": [
        {
          "output_type": "stream",
          "name": "stdout",
          "text": [
            "longueur DH label 0 = 203\n",
            "longueur SIO label 0 = 190\n"
          ]
        }
      ]
    },
    {
      "cell_type": "code",
      "source": [
        "# prompt: transform labels_DH into a dataframe\n",
        "\n",
        "#print(\"DH.38=\", X[38], \"SIO.38=\", Y[38])\n",
        "#print(\"DH.0=\", X[0], \"SIO.0=\", Y[0])\n",
        "\n",
        "# Assuming 'labels_DH' is already defined from the previous code\n",
        "labels_DH_df = pd.DataFrame({'labels_DH': labels_DH})\n",
        "labels_SIO_df = pd.DataFrame({'labels_SIO': labels_SIO})\n",
        "\n",
        "labels_DH_0 = labels_DH_df[labels_DH_df['labels_DH'] == 0]\n",
        "print(labels_DH_0.head())\n",
        "labels_SIO_0 = labels_SIO_df[labels_SIO_df['labels_SIO'] == 0]\n",
        "print(labels_SIO_0.head())\n",
        "print(\"______________________________________________________\")\n",
        "#print(labels_DH[38], \" SIO=\", labels_SIO[38])\n",
        "#print(\"Référence SIO\", references_SIO.iloc[38], \". Référence DH = \", references_DH.iloc[38])\n",
        "\n",
        "\n"
      ],
      "metadata": {
        "id": "efpKINjiMMgq",
        "outputId": "721cd8a6-4f8c-449f-ace7-a7d5ef66d5df",
        "colab": {
          "base_uri": "https://localhost:8080/"
        }
      },
      "execution_count": 6,
      "outputs": [
        {
          "output_type": "stream",
          "name": "stdout",
          "text": [
            "    labels_DH\n",
            "0           0\n",
            "12          0\n",
            "29          0\n",
            "40          0\n",
            "53          0\n",
            "    labels_SIO\n",
            "0            0\n",
            "12           0\n",
            "29           0\n",
            "40           0\n",
            "53           0\n",
            "______________________________________________________\n"
          ]
        }
      ]
    },
    {
      "cell_type": "markdown",
      "source": [
        "Extraction des index en décalage"
      ],
      "metadata": {
        "id": "rcgm5EG4hXDt"
      }
    },
    {
      "cell_type": "code",
      "source": [
        "# prompt: extraire les index qui dont dans labels_DH_0 mais pas dans labels_SIO_0\n",
        "\n",
        "# Find indices present in labels_DH_0 but not in labels_SIO_0\n",
        "dh_indices_in_0 = labels_DH_0.index.tolist()\n",
        "sio_indices_in_0 = labels_SIO_0.index.tolist()\n",
        "\n",
        "indices_in_sio_not_dh = list(set(sio_indices_in_0) - set(dh_indices_in_0))\n",
        "\n",
        "print(\"Indices in labels_DH_0 but not in labels_SIO_0:\")\n",
        "print(indices_in_sio_not_dh)\n",
        "len(indices_in_sio_not_dh)"
      ],
      "metadata": {
        "colab": {
          "base_uri": "https://localhost:8080/"
        },
        "id": "Gz8BZr7qha_D",
        "outputId": "3526b4aa-f62d-4cd7-c1b3-4fde3999a623"
      },
      "execution_count": 7,
      "outputs": [
        {
          "output_type": "stream",
          "name": "stdout",
          "text": [
            "Indices in labels_DH_0 but not in labels_SIO_0:\n",
            "[137, 12243]\n"
          ]
        },
        {
          "output_type": "execute_result",
          "data": {
            "text/plain": [
              "2"
            ]
          },
          "metadata": {},
          "execution_count": 7
        }
      ]
    },
    {
      "cell_type": "markdown",
      "source": [
        "Test A"
      ],
      "metadata": {
        "id": "MFTe7fE4J7zm"
      }
    },
    {
      "cell_type": "code",
      "source": [
        "print(sio_indices_in_0)\n",
        "print(\"Label DH SIO du 0ème \", labels_DH[0])\n",
        "print(\"Label DH du 12 ème \",labels_DH[12])\n",
        "print(\"Label DH du 1er enr. = \", labels_DH[sio_indices_in_0[0]], \"pos=\", sio_indices_in_0[0])\n",
        "print(\"Label SIO du 2èmz enr. = \", labels_SIO[sio_indices_in_0[1]], \"pos=\", sio_indices_in_0[1])"
      ],
      "metadata": {
        "colab": {
          "base_uri": "https://localhost:8080/"
        },
        "id": "H7wVOh70pNsB",
        "outputId": "6520bdc1-e8cf-4431-9259-9ff3239c4e15"
      },
      "execution_count": 13,
      "outputs": [
        {
          "output_type": "stream",
          "name": "stdout",
          "text": [
            "[0, 12, 29, 40, 53, 57, 64, 73, 75, 101, 105, 107, 110, 123, 124, 137, 148, 150, 178, 196, 269, 271, 278, 294, 306, 396, 574, 689, 703, 749, 785, 961, 1289, 1635, 2705, 4650, 9561, 10024, 10162, 10243, 10538, 10572, 10583, 10744, 11464, 11640, 11716, 12243, 12401, 13531, 14285, 15486, 15850, 17716, 19101, 19422, 19548, 21496, 22740, 23109, 24401, 26017, 27145, 27238, 27527, 27721, 27752, 28062, 28102, 29527, 30933, 31471, 33326, 33977, 34810, 36023, 36162, 37319, 37349, 38292, 38453, 38460, 38496, 38498, 38500, 38505, 38544, 38556, 38561, 38572, 38573, 38579, 38601, 38837, 39017, 39507, 39614, 39674, 40082, 40093, 41678, 42765, 43269, 46354, 46467, 46610, 46611, 47420, 47470, 47909, 47927, 48102, 48373, 48395, 49050, 50502, 51369, 51603, 52052, 52535, 54472, 55172, 58810, 59223, 59579, 61616, 61767, 62638, 63352, 64945, 65232, 65911, 66220, 67926, 72680, 73311, 75921, 75930, 76087, 76093, 76112, 76134, 76138, 76150, 76162, 76168, 76197, 76201, 76205, 76209, 76222, 76232, 76376, 76438, 76456, 76469, 76543, 76584, 76698, 77291, 77552, 80754, 81277, 83648, 83705, 85065, 85082, 85488, 85490, 85638, 86033, 86338, 87479, 87903, 87912, 88165, 89343, 90864, 91933, 93149, 93374, 93995, 94681, 96138, 96720, 97054, 98115, 98124, 98386, 98892]\n",
            "Label DH SIO du 0ème  0\n",
            "Label DH du 12 ème  0\n",
            "Label DH du 1er enr. =  0 pos= 0\n",
            "Label SIO du 2èmz enr. =  0 pos= 12\n"
          ]
        }
      ]
    },
    {
      "cell_type": "code",
      "source": [
        "#i0 = indices_in_sio_not_dh[0]\n",
        "#print(\"Donnée DH avec indice \", i0)\n",
        "#print(X.iloc[i0])\n",
        "#print(\"Donnée SIO avec indice \", i0)\n",
        "#print(Y.iloc[i0])\n",
        "#print(\"Référence SIO\", references_SIO.iloc[i0], \". Référence DH = \", references_DH.iloc[i0])\n",
        "liste_ref_KO = []\n",
        "for i in range(2):\n",
        "  labels_SIO_i = labels_SIO_df[labels_SIO_df['labels_SIO'] == i]\n",
        "  sio_indices_in_i = labels_SIO_i.index.tolist()\n",
        "  for j in range(len(sio_indices_in_0)):\n",
        "    k = labels_DH[sio_indices_in_0[j]]\n",
        "    labels_DH_k = labels_DH_df[labels_DH_df['labels_DH'] == k]\n",
        "    dh_indices_in_k = labels_DH_k.index.tolist()\n",
        "  indices_en_decallage = list(set(sio_indices_in_i) - set(dh_indices_in_k))\n",
        "  if len(indices_en_decallage) > 0:\n",
        "    print(\"Indices en décallage:\", indices_en_decallage)\n",
        "    liste_ref_KO.append(references_SIO.iloc[indices_en_decallage])\n",
        "print(\"__________________________________________________\")\n",
        "print (\"Longueur anomalie=\", len(liste_ref_KO))\n",
        "for j in range(len(liste_ref_KO)):\n",
        "  print(\"Réf \", j, \" = \", liste_ref_KO[j])\n",
        "\n"
      ],
      "metadata": {
        "colab": {
          "base_uri": "https://localhost:8080/"
        },
        "id": "d2qbMJGWhuJu",
        "outputId": "eed4e398-3b00-4dc4-c324-086226b3140c"
      },
      "execution_count": 14,
      "outputs": [
        {
          "output_type": "stream",
          "name": "stdout",
          "text": [
            "Indices en décallage: [137, 12243]\n",
            "Indices en décallage: [2, 50980, 52229, 15892, 50996, 25014, 26462]\n",
            "__________________________________________________\n",
            "Longueur anomalie= 2\n",
            "Réf  0  =        client_reference\n",
            "137         0000019260\n",
            "12243       0100693500\n",
            "Réf  1  =        client_reference\n",
            "2           0000000280\n",
            "50980       1101286371\n",
            "52229       1101863671\n",
            "15892       0102401840\n",
            "50996       1101293961\n",
            "25014       0107042750\n",
            "26462       0108005010\n"
          ]
        }
      ]
    },
    {
      "cell_type": "code",
      "source": [
        "#i0 = indices_in_sio_not_dh[0]\n",
        "#print(\"Donnée DH avec indice \", i0)\n",
        "#print(X.iloc[i0])\n",
        "#print(\"Donnée SIO avec indice \", i0)\n",
        "#print(Y.iloc[i0])\n",
        "#print(\"Référence SIO\", references_SIO.iloc[i0], \". Référence DH = \", references_DH.iloc[i0])\n",
        "liste_ref_KO = []\n",
        "for i in range(10):\n",
        "  labels_SIO_i = labels_SIO_df[labels_SIO_df['labels_SIO'] == i]\n",
        "  sio_indices_in_i = labels_SIO_i.index.tolist()\n",
        "  for j in range(len(sio_indices_in_0)):\n",
        "    k = labels_DH[sio_indices_in_0[j]]\n",
        "    dh_indices_in_i = labels_DH_i.index.tolist()\n",
        "  k = labels_DH[sio_indices_in_0[0]]\n",
        "  dh_indices_in_i = labels_DH_i.index.tolist()\n",
        "\n",
        "  indices_in_sio_not_dh_i = list(set(sio_indices_in_i) - set(dh_indices_in_i))\n",
        "  if len(indices_in_sio_not_dh_i) > 0:\n",
        "    print(\"Indices in labels_DH_i but not in labels_SIO_i:\", indices_in_sio_not_dh_i)\n",
        "    liste_ref_KO.append(references_SIO.iloc[indices_in_sio_not_dh_i])\n",
        "print(\"__________________________________________________\")\n",
        "print (\"Longueur anomalie=\", len(liste_ref_KO))\n",
        "for j in range(len(liste_ref_KO)):\n",
        "  print(\"Réf \", j, \" = \", liste_ref_KO[j])\n",
        "\n"
      ],
      "metadata": {
        "colab": {
          "base_uri": "https://localhost:8080/"
        },
        "outputId": "f2ca13c5-f148-4e0d-f6b8-ccbbe7001d96",
        "id": "bOHQCFZTs3yc"
      },
      "execution_count": null,
      "outputs": [
        {
          "output_type": "stream",
          "name": "stdout",
          "text": [
            "Indices in labels_DH_i but not in labels_SIO_i: [137, 12243]\n",
            "Indices in labels_DH_i but not in labels_SIO_i: [94016, 67]\n",
            "Indices in labels_DH_i but not in labels_SIO_i: [12019]\n",
            "Indices in labels_DH_i but not in labels_SIO_i: [61954, 86025, 16, 18960, 53784, 56346, 61982, 92191, 55842, 51239, 55849, 32299, 31291, 12349, 89159, 38984, 38481, 49747, 98391, 56929, 40040, 87166, 95369, 30346, 67725, 27798, 17570, 33956, 87207, 16555, 87214, 71861, 89269, 50360, 24763, 189, 45245, 85703, 208, 38612, 19158, 52438, 36573, 55008, 225, 66788, 10983, 57584, 14068, 19700, 54021, 47891, 16661, 19736, 50968, 88345, 14110, 287, 90919, 11049, 56620, 70956, 19250, 20275, 59702, 69945, 86849, 95042, 11588, 17735, 66892, 57181, 76638, 2912, 23412, 52598, 49528, 94594, 30598, 46470, 53127, 86410, 20883, 91541, 68504, 27034, 17827, 25516, 76727, 92600, 99768, 14267, 26044, 40389, 50122, 50640, 11217, 978, 48083, 17878, 95727, 66547, 60404, 66042, 21501]\n",
            "Indices in labels_DH_i but not in labels_SIO_i: [57858, 16387, 95749, 86537, 18, 9749, 35874, 57380, 63014, 69671, 84008, 24617, 55853, 49215, 50240, 66644, 86612, 14945, 55905, 35940, 49253, 36455, 48747, 53359, 93815, 86648, 15484, 19070, 25214, 22143, 19586, 70786, 88200, 59018, 12431, 667, 86683, 61086, 28842, 34994, 71863, 16056, 75449, 55996, 22216, 38602, 58572, 49357, 51924, 18136, 11994, 14556, 92898, 90343, 49394, 31990, 20737, 30468, 33028, 38660, 776, 56072, 64267, 10003, 92950, 2333, 69924, 35630, 12081, 18738, 47924, 75070, 57152, 13129, 330, 70985, 70493, 36192, 1379, 870, 48998, 90472, 33131, 37744, 68469, 86389, 25975, 887, 889, 96127, 14720, 54148, 61319, 51594, 29579, 93584, 60828, 38815, 36771, 31663, 67507, 87478, 72632, 38842, 49596, 957, 90557, 63938, 91586, 53188, 459, 48075, 21456, 38864, 94679, 49117, 12768, 42468, 61924, 54250, 68075, 24556, 87021, 40943, 57840, 22519, 36344, 72701]\n",
            "__________________________________________________\n",
            "Longueur anomalie= 5\n",
            "Réf  0  =        client_reference\n",
            "137         0000019260\n",
            "12243       0100693500\n",
            "Réf  1  =        client_reference\n",
            "94016       2103913822\n",
            "67          0000007590\n",
            "Réf  2  =        client_reference\n",
            "12019       0100604830\n",
            "Réf  3  =        client_reference\n",
            "61954       1106788381\n",
            "86025       2100216512\n",
            "16          0000003860\n",
            "18960       0103838600\n",
            "53784       1102600771\n",
            "...                ...\n",
            "95727       2104858852\n",
            "66547       1109942151\n",
            "60404       1105937711\n",
            "66042       1109603371\n",
            "21501       0105147700\n",
            "\n",
            "[105 rows x 1 columns]\n",
            "Réf  4  =        client_reference\n",
            "57858       1104612961\n",
            "16387       0102614370\n",
            "95749       2104874922\n",
            "86537       2100431762\n",
            "18          0000004160\n",
            "...                ...\n",
            "40943       1002040221\n",
            "57840       1104607241\n",
            "22519       0105673280\n",
            "36344       0116405690\n",
            "72701       1115275541\n",
            "\n",
            "[128 rows x 1 columns]\n"
          ]
        }
      ]
    },
    {
      "cell_type": "code",
      "source": [
        "# Deux tableaux à une dimension\n",
        "#array1 = np.array([1, 2, 3])\n",
        "#array2 = np.array([4, 5, 6]) # Empiler verticalement\n",
        "#result = np.vstack((array1, array2))\n",
        "#print(result)\n",
        "#print(array1.shape)\n",
        "\n",
        "#print(result.shape)\n",
        "\n",
        "\n",
        "liste = []\n",
        "A = np.empty((0, 10000), dtype=int)\n",
        "\n",
        "for i in range(10000):\n",
        "  liste = []\n",
        "  for j in range(10000):\n",
        "    liste.append(labels_DH[i] -labels_DH[j])\n",
        "  A = np.vstack([A, liste])\n",
        "\n",
        "\n",
        "print(A)\n",
        "\n"
      ],
      "metadata": {
        "colab": {
          "base_uri": "https://localhost:8080/",
          "height": 211
        },
        "id": "dULH6aiKJ-vC",
        "outputId": "6f11a755-8e38-4054-e3cd-e160c23b8afa"
      },
      "execution_count": null,
      "outputs": [
        {
          "output_type": "error",
          "ename": "KeyboardInterrupt",
          "evalue": "",
          "traceback": [
            "\u001b[0;31m---------------------------------------------------------------------------\u001b[0m",
            "\u001b[0;31mKeyboardInterrupt\u001b[0m                         Traceback (most recent call last)",
            "\u001b[0;32m<ipython-input-13-aef2f7ea4448>\u001b[0m in \u001b[0;36m<cell line: 14>\u001b[0;34m()\u001b[0m\n\u001b[1;32m     15\u001b[0m   \u001b[0mliste\u001b[0m \u001b[0;34m=\u001b[0m \u001b[0;34m[\u001b[0m\u001b[0;34m]\u001b[0m\u001b[0;34m\u001b[0m\u001b[0;34m\u001b[0m\u001b[0m\n\u001b[1;32m     16\u001b[0m   \u001b[0;32mfor\u001b[0m \u001b[0mj\u001b[0m \u001b[0;32min\u001b[0m \u001b[0mrange\u001b[0m\u001b[0;34m(\u001b[0m\u001b[0;36m10000\u001b[0m\u001b[0;34m)\u001b[0m\u001b[0;34m:\u001b[0m\u001b[0;34m\u001b[0m\u001b[0;34m\u001b[0m\u001b[0m\n\u001b[0;32m---> 17\u001b[0;31m     \u001b[0mliste\u001b[0m\u001b[0;34m.\u001b[0m\u001b[0mappend\u001b[0m\u001b[0;34m(\u001b[0m\u001b[0mlabels_DH\u001b[0m\u001b[0;34m[\u001b[0m\u001b[0mi\u001b[0m\u001b[0;34m]\u001b[0m \u001b[0;34m-\u001b[0m\u001b[0mlabels_DH\u001b[0m\u001b[0;34m[\u001b[0m\u001b[0mj\u001b[0m\u001b[0;34m]\u001b[0m\u001b[0;34m)\u001b[0m\u001b[0;34m\u001b[0m\u001b[0;34m\u001b[0m\u001b[0m\n\u001b[0m\u001b[1;32m     18\u001b[0m   \u001b[0mA\u001b[0m \u001b[0;34m=\u001b[0m \u001b[0mnp\u001b[0m\u001b[0;34m.\u001b[0m\u001b[0mvstack\u001b[0m\u001b[0;34m(\u001b[0m\u001b[0;34m[\u001b[0m\u001b[0mA\u001b[0m\u001b[0;34m,\u001b[0m \u001b[0mliste\u001b[0m\u001b[0;34m]\u001b[0m\u001b[0;34m)\u001b[0m\u001b[0;34m\u001b[0m\u001b[0;34m\u001b[0m\u001b[0m\n\u001b[1;32m     19\u001b[0m \u001b[0;34m\u001b[0m\u001b[0m\n",
            "\u001b[0;31mKeyboardInterrupt\u001b[0m: "
          ]
        }
      ]
    },
    {
      "cell_type": "markdown",
      "source": [
        "Fin"
      ],
      "metadata": {
        "id": "H1RmNduDM0VY"
      }
    },
    {
      "cell_type": "code",
      "source": [
        "RRR\n",
        "\n",
        "\n",
        "\n",
        "\n",
        "\n",
        "\n",
        "while (i < n_dif - 1):\n",
        "    i = i + 1\n",
        "    if (difference[i] != 0):\n",
        "        print(\"i=\",i)\n",
        "        print(\"différence enregistrement \", str(i), \" DH=\", labels_DH[i], \"// SIO=\",labels_SIO[i], \"// ref=\", ref_cli[i,:])\n",
        "        #print(\"enr DH=\", fichier_DH.loc[i,:])\n",
        "        #print(\"enr SIO=\",fichier_SIO.loc[i,:])\n",
        "        nb_ko = nb_ko + 1\n",
        "        X = np.delete(X,i,0)\n",
        "        Y = np.delete(Y,i,0)\n",
        "        ref_cli = np.delete(ref_cli,i,0)\n",
        "        db = DBSCAN(eps=0.000000000000001,min_samples=min_groupe).fit(X)\n",
        "        labels_DH = db.labels_\n",
        "        db2 = DBSCAN(eps=0.00000000000001, min_samples=min_groupe).fit(Y)\n",
        "        labels_SIO = db2.labels_\n",
        "        difference = labels_DH - labels_SIO\n",
        "        n_dif = n_dif - 1\n",
        "\n",
        "\n",
        "lg = len(difference)\n",
        "#nb_ano = 0\n",
        "#for i in range(lg):\n",
        "#    if difference[i] !=0:\n",
        "#        nb_ano = nb_ano + 1\n",
        "print(\"ANOMALIES = \", nb_ko)\n",
        "#  3117773703\n",
        "\n",
        "fin_exec = time.time()\n",
        "temps = fin_exec - debut\n",
        "print(f'Temps d\\'exécution : {temps:.2}ms')"
      ],
      "metadata": {
        "id": "ryYCroBZM2eB"
      },
      "execution_count": null,
      "outputs": []
    }
  ]
}