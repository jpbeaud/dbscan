{
  "nbformat": 4,
  "nbformat_minor": 0,
  "metadata": {
    "colab": {
      "provenance": [],
      "authorship_tag": "ABX9TyPn25a/EdIJTQd/D0YcJI3+",
      "include_colab_link": true
    },
    "kernelspec": {
      "name": "python3",
      "display_name": "Python 3"
    },
    "language_info": {
      "name": "python"
    }
  },
  "cells": [
    {
      "cell_type": "markdown",
      "metadata": {
        "id": "view-in-github",
        "colab_type": "text"
      },
      "source": [
        "<a href=\"https://colab.research.google.com/github/jpbeaud/dbscan/blob/main/client.ipynb\" target=\"_parent\"><img src=\"https://colab.research.google.com/assets/colab-badge.svg\" alt=\"Open In Colab\"/></a>"
      ]
    },
    {
      "cell_type": "code",
      "execution_count": null,
      "metadata": {
        "id": "_ygxaCdL7hTc"
      },
      "outputs": [],
      "source": []
    },
    {
      "cell_type": "code",
      "execution_count": 1,
      "metadata": {
        "colab": {
          "base_uri": "https://localhost:8080/"
        },
        "id": "xM6LEC2Z58Pm",
        "outputId": "641b619d-4784-42ab-f0fc-15d7e65abc87"
      },
      "outputs": [
        {
          "output_type": "stream",
          "name": "stdout",
          "text": [
            "Début à 1730920900.7921278\n"
          ]
        }
      ],
      "source": [
        "import pandas as pd\n",
        "import numpy as np\n",
        "import time\n",
        "\n",
        "def string_to_number(s):\n",
        "  return int(''.join(str(ord(char)) for char in s))\n",
        "\n",
        "\n",
        "\n",
        "chemin = \"/content/sample_data/\"\n",
        "debut = time.time()\n",
        "print(\"Début à\", debut)\n",
        "\n",
        "\n",
        "\n",
        "fichier_DH = pd.read_csv(chemin+\"extrac_DH.csv\", sep=\",\", dtype=str,skipinitialspace=True)\n",
        "\n",
        "fichier_DH = fichier_DH.replace(\"\", np.nan)\n",
        "fichier_DH = fichier_DH.fillna(0)\n",
        "\n",
        "fichier_DH = fichier_DH.astype(str)\n",
        "col_ref = ['id_personne']\n",
        "references_DH = fichier_DH[col_ref]\n",
        "\n",
        "\n",
        "\n",
        "fichier_DH.sort_values(by='id_personne')\n",
        "\n",
        "fichier_DH2 = fichier_DH\n",
        "fichier_DH2 = fichier_DH2.drop('id_personne', axis='columns')\n",
        "\n",
        "fichier_DH2= fichier_DH2.astype(str)\n",
        "fichier_DH2 = fichier_DH2.map(string_to_number)\n",
        "\n",
        "\n",
        "\n",
        "#fichier_DH.set_index('id_personne', inplace=True) # inplace=True --> on ne crée pas un nouveau DF\n",
        "\n",
        "\n",
        "\n",
        "\n",
        "fichier_SIO = pd.read_csv(chemin+\"extrac_SIO.csv\", sep=\",\", dtype=str,skipinitialspace=True)\n",
        "col_ref = ['client_reference']\n",
        "\n",
        "references_SIO= fichier_SIO[col_ref]\n",
        "ref_cli = references_SIO.to_numpy()\n",
        "\n",
        "fichier_SIO = fichier_SIO.replace(\"\", np.nan)\n",
        "fichier_SIO = fichier_SIO.fillna(0)\n",
        "\n",
        "\n",
        "\n",
        "fichier_SIO.sort_values(by='client_reference')\n",
        "fichier_SIO = fichier_SIO.astype(str)\n",
        "fichier_SIO = fichier_SIO.map(string_to_number)\n",
        "\n",
        "\n",
        "fichier_SIO = fichier_SIO.drop('client_reference',axis='columns')\n",
        "#print (\"fichier SIO format :\")\n",
        "#print(fichier_SIO.head())\n",
        "# X = fichier_DH.to_numpy()\n",
        "\n"
      ]
    },
    {
      "cell_type": "markdown",
      "source": [
        "Ficher DB2 et SIO"
      ],
      "metadata": {
        "id": "Y-ebEUb_d2qD"
      }
    },
    {
      "cell_type": "code",
      "source": [
        "# prompt: comment calculer le nombre d'enregistrements différents dans fichier_DH2\n",
        "\n",
        "# Calculate the number of unique records in fichier_DH2\n",
        "unique_records_count = len(fichier_DH2.drop_duplicates())\n",
        "\n",
        "print(f\"Number of unique records in fichier_DH2: {unique_records_count}\")\n",
        "\n",
        "# Calculate the number of unique records in fichier_SIO\n",
        "unique_records_count = len(fichier_SIO.drop_duplicates())\n",
        "\n",
        "print(f\"Number of unique records in fichier_SIO: {unique_records_count}\")"
      ],
      "metadata": {
        "colab": {
          "base_uri": "https://localhost:8080/"
        },
        "id": "GQAJSc6dd6c0",
        "outputId": "2546fb62-a55f-4d71-d13e-9f13561287fb"
      },
      "execution_count": 2,
      "outputs": [
        {
          "output_type": "stream",
          "name": "stdout",
          "text": [
            "Number of unique records in fichier_DH2: 14725\n",
            "Number of unique records in fichier_SIO: 17079\n"
          ]
        }
      ]
    },
    {
      "cell_type": "markdown",
      "source": [
        "Appel à DBSCAN"
      ],
      "metadata": {
        "id": "FUrtfUo7deI9"
      }
    },
    {
      "cell_type": "code",
      "source": [
        "X = fichier_DH2\n",
        "#X.set_index('id_personne', inplace=True) # inplace=True --> on ne crée pas un nouveau DF\n",
        "\n",
        "# print(X.dtype)\n",
        "X = X.apply(pd.to_numeric)\n",
        "\n",
        "import matplotlib.pyplot as plt\n",
        "# pltcatter(X[:, 3], X[:, 4])\n",
        "\n",
        "\n",
        "#plt.scatter(x=\"pcs\" , y=\"cosop\", c = 'r', data=X)\n",
        "#plt.show()\n",
        "\n",
        "from sklearn.datasets import make_blobs\n",
        "from sklearn.preprocessing import StandardScaler\n",
        "\n",
        "# création du jeu de test\n",
        "\n",
        "#X = StandardScaler().fit_transform(X)\n",
        "#print (\"fichier DH2 après scaler :\")\n",
        "#print(X[:5])\n",
        "\n",
        "from sklearn import metrics\n",
        "from sklearn.cluster import DBSCAN\n",
        "from sklearn.cluster import OPTICS\n",
        "min_groupe = 5\n",
        "db = DBSCAN(eps=0.000000000000001,min_samples=min_groupe).fit(X)\n",
        "labels_DH = db.labels_\n",
        "\n",
        "n_clusters_ = len(set(labels_DH)) - (1 if -1 in labels_DH else 0)\n",
        "n_noise_ = list(labels_DH).count(-1)\n",
        "\n",
        "print(\"Estimated number of clusters DH: %d\" % n_clusters_)\n",
        "print(\"Estimated number of noise points DH: %d\" % n_noise_)\n",
        "\n",
        "\n",
        "Y = fichier_SIO\n",
        "\n",
        "\n",
        "#Y = StandardScaler().fit_transform(Y)\n",
        "#print (\"fichier SIO après scaler :\")\n",
        "#print(Y[:5])\n",
        "\n",
        "\n",
        "# Y = Y.apply(pd.to_numeric)\n",
        "db2 = DBSCAN(eps=0.00000000000001, min_samples=min_groupe).fit(Y)\n",
        "labels_SIO = db2.labels_\n",
        "\n",
        "\n",
        "\n",
        "n_clusters_ = len(set(labels_SIO)) - (1 if -1 in labels_SIO else 0)\n",
        "n_noise_ = list(labels_SIO).count(-1)\n",
        "\n",
        "print(\"Estimated number of clusters SIO: %d\" % n_clusters_)\n",
        "print(\"Estimated number of noise points SIO: %d\" % n_noise_)\n",
        "print(\"____________Résumé____________\")\n",
        "difference = labels_DH - labels_SIO\n",
        "print(\"Données en écarts = \", difference)\n",
        "print(labels_DH)\n",
        "print(labels_SIO)\n",
        "n_DH = len(labels_DH)\n",
        "n_SIO=len(labels_SIO)\n",
        "n_dif = len(difference)\n",
        "print(\"Longueur dif = \", n_dif)\n",
        "fin = False\n",
        "i=-1\n",
        "\n",
        "nb_ko = 0\n",
        "\n",
        "# Créer un tableau vide avec une dimension initiale\n",
        "empty_array = np.empty((0, 3))  # Par exemple, un tableau vide avec 3 colonnes\n",
        "\n"
      ],
      "metadata": {
        "colab": {
          "base_uri": "https://localhost:8080/"
        },
        "id": "HKV2lhUSdi4F",
        "outputId": "d8c7a86f-d71a-45c5-e0dd-1d5a74d3d274"
      },
      "execution_count": 3,
      "outputs": [
        {
          "output_type": "stream",
          "name": "stdout",
          "text": [
            "Estimated number of clusters DH: 1855\n",
            "Estimated number of noise points DH: 16678\n",
            "Estimated number of clusters SIO: 1844\n",
            "Estimated number of noise points SIO: 19101\n",
            "____________Résumé____________\n",
            "Données en écarts =  [  0   0   0 ... -10  12   0]\n",
            "[  0  -1   1 ...   4 727  -1]\n",
            "[  0  -1   1 ...  14 715  -1]\n",
            "Longueur dif =  100000\n"
          ]
        }
      ]
    },
    {
      "cell_type": "markdown",
      "source": [
        "On sélectionne les enregistrements qui ont 0 comme label"
      ],
      "metadata": {
        "id": "V4r27mNbK6it"
      }
    },
    {
      "cell_type": "code",
      "source": [
        "labels_DH_zero = [x for x in labels_DH if x ==0]\n",
        "print(\"longueur DH label 0 =\", len(labels_DH_zero))\n",
        "labels_SIO_zero = [x for x in labels_SIO if x ==0]\n",
        "print(\"longueur SIO label 0 =\", len(labels_SIO_zero))\n"
      ],
      "metadata": {
        "id": "GTnhGLo1KUKL",
        "outputId": "b2131653-94bb-4e81-e85a-9bfe4fde915d",
        "colab": {
          "base_uri": "https://localhost:8080/"
        }
      },
      "execution_count": 4,
      "outputs": [
        {
          "output_type": "stream",
          "name": "stdout",
          "text": [
            "longueur DH label 0 = 203\n",
            "longueur SIO label 0 = 190\n"
          ]
        }
      ]
    },
    {
      "cell_type": "code",
      "source": [
        "# prompt: transform labels_DH into a dataframe\n",
        "\n",
        "#print(\"DH.38=\", X[38], \"SIO.38=\", Y[38])\n",
        "#print(\"DH.0=\", X[0], \"SIO.0=\", Y[0])\n",
        "\n",
        "# Assuming 'labels_DH' is already defined from the previous code\n",
        "labels_DH_df = pd.DataFrame({'labels_DH': labels_DH})\n",
        "labels_SIO_df = pd.DataFrame({'labels_SIO': labels_SIO})\n",
        "\n",
        "labels_DH_0 = labels_DH_df[labels_DH_df['labels_DH'] == 0]\n",
        "print(labels_DH_0.head())\n",
        "labels_SIO_0 = labels_SIO_df[labels_SIO_df['labels_SIO'] == 0]\n",
        "print(labels_SIO_0.head())\n",
        "print(\"______________________________________________________\")\n",
        "#print(labels_DH[38], \" SIO=\", labels_SIO[38])\n",
        "#print(\"Référence SIO\", references_SIO.iloc[38], \". Référence DH = \", references_DH.iloc[38])\n",
        "\n",
        "\n"
      ],
      "metadata": {
        "id": "efpKINjiMMgq",
        "outputId": "9eaeb1e9-6c32-4ab1-ba3e-1ef81d2f94e2",
        "colab": {
          "base_uri": "https://localhost:8080/"
        }
      },
      "execution_count": 5,
      "outputs": [
        {
          "output_type": "stream",
          "name": "stdout",
          "text": [
            "    labels_DH\n",
            "0           0\n",
            "12          0\n",
            "29          0\n",
            "40          0\n",
            "53          0\n",
            "    labels_SIO\n",
            "0            0\n",
            "12           0\n",
            "29           0\n",
            "40           0\n",
            "53           0\n",
            "______________________________________________________\n"
          ]
        }
      ]
    },
    {
      "cell_type": "markdown",
      "source": [
        "Extraction des index en décalage"
      ],
      "metadata": {
        "id": "rcgm5EG4hXDt"
      }
    },
    {
      "cell_type": "code",
      "source": [
        "# prompt: extraire les index qui dont dans labels_DH_0 mais pas dans labels_SIO_0\n",
        "\n",
        "# Find indices present in labels_DH_0 but not in labels_SIO_0\n",
        "dh_indices_in_0 = labels_DH_0.index.tolist()\n",
        "sio_indices_in_0 = labels_SIO_0.index.tolist()\n",
        "\n",
        "indices_in_sio_not_dh = list(set(sio_indices_in_0) - set(dh_indices_in_0))\n",
        "\n",
        "print(\"Indices in labels_DH_0 but not in labels_SIO_0:\")\n",
        "print(indices_in_sio_not_dh)\n",
        "len(indices_in_sio_not_dh)"
      ],
      "metadata": {
        "colab": {
          "base_uri": "https://localhost:8080/"
        },
        "id": "Gz8BZr7qha_D",
        "outputId": "d78b798e-0e72-424f-b107-33a6056fc690"
      },
      "execution_count": 10,
      "outputs": [
        {
          "output_type": "stream",
          "name": "stdout",
          "text": [
            "Indices in labels_DH_0 but not in labels_SIO_0:\n",
            "[137, 12243]\n"
          ]
        },
        {
          "output_type": "execute_result",
          "data": {
            "text/plain": [
              "2"
            ]
          },
          "metadata": {},
          "execution_count": 10
        }
      ]
    },
    {
      "cell_type": "markdown",
      "source": [
        "Test A"
      ],
      "metadata": {
        "id": "MFTe7fE4J7zm"
      }
    },
    {
      "cell_type": "code",
      "source": [
        "#i0 = indices_in_sio_not_dh[0]\n",
        "#print(\"Donnée DH avec indice \", i0)\n",
        "#print(X.iloc[i0])\n",
        "#print(\"Donnée SIO avec indice \", i0)\n",
        "#print(Y.iloc[i0])\n",
        "#print(\"Référence SIO\", references_SIO.iloc[i0], \". Référence DH = \", references_DH.iloc[i0])\n",
        "liste_ref_KO = []\n",
        "for i in range(10):\n",
        "  labels_DH_i = labels_DH_df[labels_DH_df['labels_DH'] == i]\n",
        "  labels_SIO_i = labels_SIO_df[labels_SIO_df['labels_SIO'] == i]\n",
        "  dh_indices_in_i = labels_DH_i.index.tolist()\n",
        "  sio_indices_in_i = labels_SIO_i.index.tolist()\n",
        "  indices_in_sio_not_dh_i = list(set(sio_indices_in_i) - set(dh_indices_in_i))\n",
        "  liste_ref_KO.append(references_SIO.iloc[indices_in_sio_not_dh_i])\n",
        "print (\"Longueur anomalie=\", len(liste_ref_KO))\n",
        "for j in range(len(liste_ref_KO)):\n",
        "  print(\"Réf \", j, \" = \", liste_ref_KO[j])\n",
        "\n"
      ],
      "metadata": {
        "colab": {
          "base_uri": "https://localhost:8080/"
        },
        "id": "d2qbMJGWhuJu",
        "outputId": "0a6758d2-2915-40b1-b322-027e9fe9a8d0"
      },
      "execution_count": 14,
      "outputs": [
        {
          "output_type": "stream",
          "name": "stdout",
          "text": [
            "Longueur anomalie= 10\n",
            "Réf  0  =        client_reference\n",
            "137         0000019260\n",
            "12243       0100693500\n",
            "Réf  1  =  Empty DataFrame\n",
            "Columns: [client_reference]\n",
            "Index: []\n",
            "Réf  2  =        client_reference\n",
            "94016       2103913822\n",
            "67          0000007590\n",
            "Réf  3  =  Empty DataFrame\n",
            "Columns: [client_reference]\n",
            "Index: []\n",
            "Réf  4  =  Empty DataFrame\n",
            "Columns: [client_reference]\n",
            "Index: []\n",
            "Réf  5  =  Empty DataFrame\n",
            "Columns: [client_reference]\n",
            "Index: []\n",
            "Réf  6  =        client_reference\n",
            "12019       0100604830\n",
            "Réf  7  =  Empty DataFrame\n",
            "Columns: [client_reference]\n",
            "Index: []\n",
            "Réf  8  =        client_reference\n",
            "61954       1106788381\n",
            "86025       2100216512\n",
            "16          0000003860\n",
            "18960       0103838600\n",
            "53784       1102600771\n",
            "...                ...\n",
            "95727       2104858852\n",
            "66547       1109942151\n",
            "60404       1105937711\n",
            "66042       1109603371\n",
            "21501       0105147700\n",
            "\n",
            "[105 rows x 1 columns]\n",
            "Réf  9  =        client_reference\n",
            "57858       1104612961\n",
            "16387       0102614370\n",
            "95749       2104874922\n",
            "86537       2100431762\n",
            "18          0000004160\n",
            "...                ...\n",
            "40943       1002040221\n",
            "57840       1104607241\n",
            "22519       0105673280\n",
            "36344       0116405690\n",
            "72701       1115275541\n",
            "\n",
            "[128 rows x 1 columns]\n"
          ]
        }
      ]
    },
    {
      "cell_type": "code",
      "source": [
        "# Deux tableaux à une dimension\n",
        "#array1 = np.array([1, 2, 3])\n",
        "#array2 = np.array([4, 5, 6]) # Empiler verticalement\n",
        "#result = np.vstack((array1, array2))\n",
        "#print(result)\n",
        "#print(array1.shape)\n",
        "\n",
        "#print(result.shape)\n",
        "\n",
        "\n",
        "liste = []\n",
        "A = np.empty((0, 10000), dtype=int)\n",
        "\n",
        "for i in range(10000):\n",
        "  liste = []\n",
        "  for j in range(10000):\n",
        "    liste.append(labels_DH[i] -labels_DH[j])\n",
        "  A = np.vstack([A, liste])\n",
        "\n",
        "\n",
        "print(A)\n",
        "\n"
      ],
      "metadata": {
        "colab": {
          "base_uri": "https://localhost:8080/",
          "height": 211
        },
        "id": "dULH6aiKJ-vC",
        "outputId": "6f11a755-8e38-4054-e3cd-e160c23b8afa"
      },
      "execution_count": null,
      "outputs": [
        {
          "output_type": "error",
          "ename": "KeyboardInterrupt",
          "evalue": "",
          "traceback": [
            "\u001b[0;31m---------------------------------------------------------------------------\u001b[0m",
            "\u001b[0;31mKeyboardInterrupt\u001b[0m                         Traceback (most recent call last)",
            "\u001b[0;32m<ipython-input-13-aef2f7ea4448>\u001b[0m in \u001b[0;36m<cell line: 14>\u001b[0;34m()\u001b[0m\n\u001b[1;32m     15\u001b[0m   \u001b[0mliste\u001b[0m \u001b[0;34m=\u001b[0m \u001b[0;34m[\u001b[0m\u001b[0;34m]\u001b[0m\u001b[0;34m\u001b[0m\u001b[0;34m\u001b[0m\u001b[0m\n\u001b[1;32m     16\u001b[0m   \u001b[0;32mfor\u001b[0m \u001b[0mj\u001b[0m \u001b[0;32min\u001b[0m \u001b[0mrange\u001b[0m\u001b[0;34m(\u001b[0m\u001b[0;36m10000\u001b[0m\u001b[0;34m)\u001b[0m\u001b[0;34m:\u001b[0m\u001b[0;34m\u001b[0m\u001b[0;34m\u001b[0m\u001b[0m\n\u001b[0;32m---> 17\u001b[0;31m     \u001b[0mliste\u001b[0m\u001b[0;34m.\u001b[0m\u001b[0mappend\u001b[0m\u001b[0;34m(\u001b[0m\u001b[0mlabels_DH\u001b[0m\u001b[0;34m[\u001b[0m\u001b[0mi\u001b[0m\u001b[0;34m]\u001b[0m \u001b[0;34m-\u001b[0m\u001b[0mlabels_DH\u001b[0m\u001b[0;34m[\u001b[0m\u001b[0mj\u001b[0m\u001b[0;34m]\u001b[0m\u001b[0;34m)\u001b[0m\u001b[0;34m\u001b[0m\u001b[0;34m\u001b[0m\u001b[0m\n\u001b[0m\u001b[1;32m     18\u001b[0m   \u001b[0mA\u001b[0m \u001b[0;34m=\u001b[0m \u001b[0mnp\u001b[0m\u001b[0;34m.\u001b[0m\u001b[0mvstack\u001b[0m\u001b[0;34m(\u001b[0m\u001b[0;34m[\u001b[0m\u001b[0mA\u001b[0m\u001b[0;34m,\u001b[0m \u001b[0mliste\u001b[0m\u001b[0;34m]\u001b[0m\u001b[0;34m)\u001b[0m\u001b[0;34m\u001b[0m\u001b[0;34m\u001b[0m\u001b[0m\n\u001b[1;32m     19\u001b[0m \u001b[0;34m\u001b[0m\u001b[0m\n",
            "\u001b[0;31mKeyboardInterrupt\u001b[0m: "
          ]
        }
      ]
    },
    {
      "cell_type": "markdown",
      "source": [
        "Fin"
      ],
      "metadata": {
        "id": "H1RmNduDM0VY"
      }
    },
    {
      "cell_type": "code",
      "source": [
        "RRR\n",
        "\n",
        "\n",
        "\n",
        "\n",
        "\n",
        "\n",
        "while (i < n_dif - 1):\n",
        "    i = i + 1\n",
        "    if (difference[i] != 0):\n",
        "        print(\"i=\",i)\n",
        "        print(\"différence enregistrement \", str(i), \" DH=\", labels_DH[i], \"// SIO=\",labels_SIO[i], \"// ref=\", ref_cli[i,:])\n",
        "        #print(\"enr DH=\", fichier_DH.loc[i,:])\n",
        "        #print(\"enr SIO=\",fichier_SIO.loc[i,:])\n",
        "        nb_ko = nb_ko + 1\n",
        "        X = np.delete(X,i,0)\n",
        "        Y = np.delete(Y,i,0)\n",
        "        ref_cli = np.delete(ref_cli,i,0)\n",
        "        db = DBSCAN(eps=0.000000000000001,min_samples=min_groupe).fit(X)\n",
        "        labels_DH = db.labels_\n",
        "        db2 = DBSCAN(eps=0.00000000000001, min_samples=min_groupe).fit(Y)\n",
        "        labels_SIO = db2.labels_\n",
        "        difference = labels_DH - labels_SIO\n",
        "        n_dif = n_dif - 1\n",
        "\n",
        "\n",
        "lg = len(difference)\n",
        "#nb_ano = 0\n",
        "#for i in range(lg):\n",
        "#    if difference[i] !=0:\n",
        "#        nb_ano = nb_ano + 1\n",
        "print(\"ANOMALIES = \", nb_ko)\n",
        "#  3117773703\n",
        "\n",
        "fin_exec = time.time()\n",
        "temps = fin_exec - debut\n",
        "print(f'Temps d\\'exécution : {temps:.2}ms')"
      ],
      "metadata": {
        "id": "ryYCroBZM2eB"
      },
      "execution_count": null,
      "outputs": []
    }
  ]
}