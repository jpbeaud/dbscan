{
  "nbformat": 4,
  "nbformat_minor": 0,
  "metadata": {
    "colab": {
      "provenance": [],
      "authorship_tag": "ABX9TyO4VEzIJWGSURoaVEWhodKN",
      "include_colab_link": true
    },
    "kernelspec": {
      "name": "python3",
      "display_name": "Python 3"
    },
    "language_info": {
      "name": "python"
    }
  },
  "cells": [
    {
      "cell_type": "markdown",
      "metadata": {
        "id": "view-in-github",
        "colab_type": "text"
      },
      "source": [
        "<a href=\"https://colab.research.google.com/github/jpbeaud/dbscan/blob/main/client.ipynb\" target=\"_parent\"><img src=\"https://colab.research.google.com/assets/colab-badge.svg\" alt=\"Open In Colab\"/></a>"
      ]
    },
    {
      "cell_type": "code",
      "execution_count": 10,
      "metadata": {
        "id": "_ygxaCdL7hTc",
        "colab": {
          "base_uri": "https://localhost:8080/",
          "height": 547
        },
        "outputId": "be346c04-dfe7-453d-c007-9c759e534e71"
      },
      "outputs": [
        {
          "output_type": "error",
          "ename": "KeyError",
          "evalue": "'lieu_naissance'",
          "traceback": [
            "\u001b[0;31m---------------------------------------------------------------------------\u001b[0m",
            "\u001b[0;31mKeyError\u001b[0m                                  Traceback (most recent call last)",
            "\u001b[0;32m/usr/local/lib/python3.10/dist-packages/pandas/core/indexes/base.py\u001b[0m in \u001b[0;36mget_loc\u001b[0;34m(self, key)\u001b[0m\n\u001b[1;32m   3804\u001b[0m         \u001b[0;32mtry\u001b[0m\u001b[0;34m:\u001b[0m\u001b[0;34m\u001b[0m\u001b[0;34m\u001b[0m\u001b[0m\n\u001b[0;32m-> 3805\u001b[0;31m             \u001b[0;32mreturn\u001b[0m \u001b[0mself\u001b[0m\u001b[0;34m.\u001b[0m\u001b[0m_engine\u001b[0m\u001b[0;34m.\u001b[0m\u001b[0mget_loc\u001b[0m\u001b[0;34m(\u001b[0m\u001b[0mcasted_key\u001b[0m\u001b[0;34m)\u001b[0m\u001b[0;34m\u001b[0m\u001b[0;34m\u001b[0m\u001b[0m\n\u001b[0m\u001b[1;32m   3806\u001b[0m         \u001b[0;32mexcept\u001b[0m \u001b[0mKeyError\u001b[0m \u001b[0;32mas\u001b[0m \u001b[0merr\u001b[0m\u001b[0;34m:\u001b[0m\u001b[0;34m\u001b[0m\u001b[0;34m\u001b[0m\u001b[0m\n",
            "\u001b[0;32mindex.pyx\u001b[0m in \u001b[0;36mpandas._libs.index.IndexEngine.get_loc\u001b[0;34m()\u001b[0m\n",
            "\u001b[0;32mindex.pyx\u001b[0m in \u001b[0;36mpandas._libs.index.IndexEngine.get_loc\u001b[0;34m()\u001b[0m\n",
            "\u001b[0;32mpandas/_libs/hashtable_class_helper.pxi\u001b[0m in \u001b[0;36mpandas._libs.hashtable.PyObjectHashTable.get_item\u001b[0;34m()\u001b[0m\n",
            "\u001b[0;32mpandas/_libs/hashtable_class_helper.pxi\u001b[0m in \u001b[0;36mpandas._libs.hashtable.PyObjectHashTable.get_item\u001b[0;34m()\u001b[0m\n",
            "\u001b[0;31mKeyError\u001b[0m: 'lieu_naissance'",
            "\nThe above exception was the direct cause of the following exception:\n",
            "\u001b[0;31mKeyError\u001b[0m                                  Traceback (most recent call last)",
            "\u001b[0;32m<ipython-input-10-26e853125b55>\u001b[0m in \u001b[0;36m<cell line: 8>\u001b[0;34m()\u001b[0m\n\u001b[1;32m      6\u001b[0m \u001b[0;34m\u001b[0m\u001b[0m\n\u001b[1;32m      7\u001b[0m \u001b[0;31m# Utilisation de la fonction \"factorize\" pour convertir les lieux de naissance en valeurs numériques\u001b[0m\u001b[0;34m\u001b[0m\u001b[0;34m\u001b[0m\u001b[0m\n\u001b[0;32m----> 8\u001b[0;31m \u001b[0mdf\u001b[0m\u001b[0;34m[\u001b[0m\u001b[0;34m'lieu_naissance_numeric'\u001b[0m\u001b[0;34m]\u001b[0m \u001b[0;34m=\u001b[0m \u001b[0mpd\u001b[0m\u001b[0;34m.\u001b[0m\u001b[0mfactorize\u001b[0m\u001b[0;34m(\u001b[0m\u001b[0mdf\u001b[0m\u001b[0;34m[\u001b[0m\u001b[0;34m'lieu_naissance'\u001b[0m\u001b[0;34m]\u001b[0m\u001b[0;34m)\u001b[0m\u001b[0;34m[\u001b[0m\u001b[0;36m0\u001b[0m\u001b[0;34m]\u001b[0m\u001b[0;34m\u001b[0m\u001b[0;34m\u001b[0m\u001b[0m\n\u001b[0m\u001b[1;32m      9\u001b[0m \u001b[0mprint\u001b[0m\u001b[0;34m(\u001b[0m\u001b[0mdf\u001b[0m\u001b[0;34m)\u001b[0m\u001b[0;34m\u001b[0m\u001b[0;34m\u001b[0m\u001b[0m\n",
            "\u001b[0;32m/usr/local/lib/python3.10/dist-packages/pandas/core/frame.py\u001b[0m in \u001b[0;36m__getitem__\u001b[0;34m(self, key)\u001b[0m\n\u001b[1;32m   4100\u001b[0m             \u001b[0;32mif\u001b[0m \u001b[0mself\u001b[0m\u001b[0;34m.\u001b[0m\u001b[0mcolumns\u001b[0m\u001b[0;34m.\u001b[0m\u001b[0mnlevels\u001b[0m \u001b[0;34m>\u001b[0m \u001b[0;36m1\u001b[0m\u001b[0;34m:\u001b[0m\u001b[0;34m\u001b[0m\u001b[0;34m\u001b[0m\u001b[0m\n\u001b[1;32m   4101\u001b[0m                 \u001b[0;32mreturn\u001b[0m \u001b[0mself\u001b[0m\u001b[0;34m.\u001b[0m\u001b[0m_getitem_multilevel\u001b[0m\u001b[0;34m(\u001b[0m\u001b[0mkey\u001b[0m\u001b[0;34m)\u001b[0m\u001b[0;34m\u001b[0m\u001b[0;34m\u001b[0m\u001b[0m\n\u001b[0;32m-> 4102\u001b[0;31m             \u001b[0mindexer\u001b[0m \u001b[0;34m=\u001b[0m \u001b[0mself\u001b[0m\u001b[0;34m.\u001b[0m\u001b[0mcolumns\u001b[0m\u001b[0;34m.\u001b[0m\u001b[0mget_loc\u001b[0m\u001b[0;34m(\u001b[0m\u001b[0mkey\u001b[0m\u001b[0;34m)\u001b[0m\u001b[0;34m\u001b[0m\u001b[0;34m\u001b[0m\u001b[0m\n\u001b[0m\u001b[1;32m   4103\u001b[0m             \u001b[0;32mif\u001b[0m \u001b[0mis_integer\u001b[0m\u001b[0;34m(\u001b[0m\u001b[0mindexer\u001b[0m\u001b[0;34m)\u001b[0m\u001b[0;34m:\u001b[0m\u001b[0;34m\u001b[0m\u001b[0;34m\u001b[0m\u001b[0m\n\u001b[1;32m   4104\u001b[0m                 \u001b[0mindexer\u001b[0m \u001b[0;34m=\u001b[0m \u001b[0;34m[\u001b[0m\u001b[0mindexer\u001b[0m\u001b[0;34m]\u001b[0m\u001b[0;34m\u001b[0m\u001b[0;34m\u001b[0m\u001b[0m\n",
            "\u001b[0;32m/usr/local/lib/python3.10/dist-packages/pandas/core/indexes/base.py\u001b[0m in \u001b[0;36mget_loc\u001b[0;34m(self, key)\u001b[0m\n\u001b[1;32m   3810\u001b[0m             ):\n\u001b[1;32m   3811\u001b[0m                 \u001b[0;32mraise\u001b[0m \u001b[0mInvalidIndexError\u001b[0m\u001b[0;34m(\u001b[0m\u001b[0mkey\u001b[0m\u001b[0;34m)\u001b[0m\u001b[0;34m\u001b[0m\u001b[0;34m\u001b[0m\u001b[0m\n\u001b[0;32m-> 3812\u001b[0;31m             \u001b[0;32mraise\u001b[0m \u001b[0mKeyError\u001b[0m\u001b[0;34m(\u001b[0m\u001b[0mkey\u001b[0m\u001b[0;34m)\u001b[0m \u001b[0;32mfrom\u001b[0m \u001b[0merr\u001b[0m\u001b[0;34m\u001b[0m\u001b[0;34m\u001b[0m\u001b[0m\n\u001b[0m\u001b[1;32m   3813\u001b[0m         \u001b[0;32mexcept\u001b[0m \u001b[0mTypeError\u001b[0m\u001b[0;34m:\u001b[0m\u001b[0;34m\u001b[0m\u001b[0;34m\u001b[0m\u001b[0m\n\u001b[1;32m   3814\u001b[0m             \u001b[0;31m# If we have a listlike key, _check_indexing_error will raise\u001b[0m\u001b[0;34m\u001b[0m\u001b[0;34m\u001b[0m\u001b[0m\n",
            "\u001b[0;31mKeyError\u001b[0m: 'lieu_naissance'"
          ]
        }
      ],
      "source": [
        "import pandas as pd\n",
        "import numpy as np\n",
        "\n",
        "url = \"https://github.com/jpbeaud/dbscan/raw/main/extrac_SIO2.csv\"\n",
        "# Lire le fichier CSV dans un DataFrame Panda df = pd.read_csv(url)\n",
        "df = pd.read_csv(url, sep=\",\", dtype=str,skipinitialspace=True)\n",
        "\n",
        "\n",
        "# Utilisation de la fonction \"factorize\" pour convertir les lieux de naissance en valeurs numériques\n",
        "df['lieu_naissance_numeric'] = pd.factorize(df['lieu_naissance'])[0]\n",
        "print(df)"
      ]
    },
    {
      "cell_type": "markdown",
      "source": [
        "Transformation fichiers CSV en DataFrame"
      ],
      "metadata": {
        "id": "oQfkg_7t1cqL"
      }
    },
    {
      "cell_type": "code",
      "execution_count": 11,
      "metadata": {
        "colab": {
          "base_uri": "https://localhost:8080/"
        },
        "id": "xM6LEC2Z58Pm",
        "outputId": "370223cc-6ab0-4bac-f389-2f7c1aeae450"
      },
      "outputs": [
        {
          "output_type": "stream",
          "name": "stdout",
          "text": [
            "Début à 1735152636.8620548\n",
            "100000\n",
            "format DH avant transfo    code_dept_naiss code_lim_jur code_pays_naiss code_pays_nat_1  \\\n",
            "0              45            0              FR              FR   \n",
            "1              53            0              FR              FR   \n",
            "2              56            0              FR              FR   \n",
            "3              45            0              FR              FR   \n",
            "4              28            0              FR              FR   \n",
            "\n",
            "  code_sit_familiale intitule_lieu_naissance  \n",
            "0                 02                 ORLEANS  \n",
            "1                 02      VILLAINES LA JUHEL  \n",
            "2                 01               HENNEBONT  \n",
            "3                 01                 ORLEANS  \n",
            "4                 02                JANVILLE  \n",
            "format DH après transfo     code_dept_naiss  code_lim_jur  code_pays_naiss  code_pays_nat_1  \\\n",
            "0                0             0                0                0   \n",
            "1                1             0                0                0   \n",
            "2                2             0                0                0   \n",
            "3                0             0                0                0   \n",
            "4                3             0                0                0   \n",
            "\n",
            "   code_sit_familiale  intitule_lieu_naissance  \n",
            "0                   0                        0  \n",
            "1                   0                        1  \n",
            "2                   1                        2  \n",
            "3                   1                        0  \n",
            "4                   0                        3  \n",
            "fichier SIO format :\n",
            "   cod_postal_naiss  cod_aiguil_vie  country_naiss  nationality  \\\n",
            "0                 0               0              0            0   \n",
            "1                 1               0              0            0   \n",
            "2                 2               0              0            0   \n",
            "3                 0               0              0            0   \n",
            "4                 3               0              0            0   \n",
            "\n",
            "   nationality.1  marital_status  marital_status.1  nom_localite_naiss  \n",
            "0              0               0                 0                   0  \n",
            "1              0               0                 0                   1  \n",
            "2              0               1                 1                   2  \n",
            "3              0               1                 1                   0  \n",
            "4              0               0                 0                   3  \n"
          ]
        }
      ],
      "source": [
        "import pandas as pd\n",
        "import numpy as np\n",
        "import time\n",
        "from sklearn.feature_extraction.text import TfidfVectorizer\n",
        "\n",
        "def string_to_number(s):\n",
        "  return int(''.join(str(ord(char)) for char in s))\n",
        "\n",
        "def factorize_dataframe(df):\n",
        "  for column in df.columns:\n",
        "    if df[column].dtype == 'object':\n",
        "       # Vérifie si la colonne est de type 'object'\n",
        "       df[column], _ = pd.factorize(df[column]) # Utilise une variable temporaire pour stocker le résultat\n",
        "  return df\n",
        "\n",
        "\n",
        "chemin = \"/content/sample_data/\"\n",
        "debut = time.time()\n",
        "print(\"Début à\", debut)\n",
        "\n",
        "\n",
        "\n",
        "#fichier_DH = pd.read_csv(chemin+\"extrac_DH2.csv\", sep=\",\", dtype=str,skipinitialspace=True)\n",
        "url = \"https://github.com/jpbeaud/dbscan/raw/main/extrac_DH2.csv\"\n",
        "# Lire le fichier CSV dans un DataFrame Panda df = pd.read_csv(url)\n",
        "fichier_DH = pd.read_csv(url, sep=\",\", dtype=str,skipinitialspace=True)\n",
        "col_ref = ['id_personne']\n",
        "print(len(fichier_DH))\n",
        "\n",
        "references_DH= fichier_DH[col_ref]\n",
        "\n",
        "fichier_DH = fichier_DH.replace(\"\", np.nan)\n",
        "fichier_DH = fichier_DH.fillna(0)\n",
        "\n",
        "fichier_DH = fichier_DH.astype(str)\n",
        "col_ref = ['id_personne']\n",
        "references_DH = fichier_DH[col_ref]\n",
        "\n",
        "\n",
        "\n",
        "fichier_DH.sort_values(by='id_personne')\n",
        "\n",
        "fichier_DH2 = fichier_DH\n",
        "fichier_DH2 = fichier_DH2.drop('id_personne', axis='columns')\n",
        "\n",
        "fichier_DH2= fichier_DH2.astype(str)\n",
        "\n",
        "## Transformation des données en numérique\n",
        "#fichier_DH2 = fichier_DH2.map(string_to_number)\n",
        "\n",
        "print(\"format DH avant transfo \", fichier_DH2.head())\n",
        "fichier_DH2 = factorize_dataframe(fichier_DH2)\n",
        "print(\"format DH après transfo \", fichier_DH2.head())\n",
        "# Transformer les textes en vecteurs TF-IDF\n",
        "#vectorizer = TfidfVectorizer()\n",
        "#fichier_DH2 = vectorizer.fit_transform(fichier_DH2).toarray()\n",
        "#print(\"lg=\",len(fichier_DH2))\n",
        "\n",
        "\n",
        "\n",
        "#fichier_DH.set_index('id_personne', inplace=True) # inplace=True --> on ne crée pas un nouveau DF\n",
        "\n",
        "\n",
        "\n",
        "\n",
        "#fichier_SIO = pd.read_csv(chemin+\"extrac_SIO2.csv\", sep=\",\", dtype=str,skipinitialspace=True)\n",
        "\n",
        "url = \"https://github.com/jpbeaud/dbscan/raw/main/extrac_SIO2.csv\"\n",
        "# Lire le fichier CSV dans un DataFrame Panda df = pd.read_csv(url)\n",
        "fichier_SIO = pd.read_csv(url, sep=\",\", dtype=str,skipinitialspace=True)\n",
        "col_ref = ['client_reference']\n",
        "\n",
        "references_SIO= fichier_SIO[col_ref]\n",
        "ref_cli = references_SIO.to_numpy()\n",
        "\n",
        "fichier_SIO = fichier_SIO.replace(\"\", np.nan)\n",
        "fichier_SIO = fichier_SIO.fillna(0)\n",
        "\n",
        "\n",
        "\n",
        "fichier_SIO.sort_values(by='client_reference')\n",
        "fichier_SIO = fichier_SIO.astype(str)\n",
        "#fichier_SIO = fichier_SIO.map(string_to_number)\n",
        "fichier_SIO = factorize_dataframe(fichier_SIO)\n",
        "\n",
        "fichier_SIO = fichier_SIO.drop('client_reference',axis='columns')\n",
        "print (\"fichier SIO format :\")\n",
        "print(fichier_SIO.head())\n",
        "# X = fichier_DH.to_numpy()\n",
        "\n"
      ]
    },
    {
      "cell_type": "markdown",
      "source": [
        "Nombre d'enregistrements différents (hors Client-reference)"
      ],
      "metadata": {
        "id": "Y-ebEUb_d2qD"
      }
    },
    {
      "cell_type": "markdown",
      "source": [
        "on supprime la localité de naissance"
      ],
      "metadata": {
        "id": "QpiLqked8HlG"
      }
    },
    {
      "cell_type": "code",
      "source": [
        "fichier_DH2 = fichier_DH2.drop('intitule_lieu_naissance', axis='columns')\n",
        "fichier_SIO = fichier_SIO.drop('nom_localite_naiss', axis='columns')"
      ],
      "metadata": {
        "id": "fIEW32mS8M0S"
      },
      "execution_count": 2,
      "outputs": []
    },
    {
      "cell_type": "code",
      "source": [
        "# prompt: comment calculer le nombre d'enregistrements différents dans fichier_DH2\n",
        "\n",
        "# Calculate the number of unique records in fichier_DH2\n",
        "unique_records_count = len(fichier_DH2.drop_duplicates())\n",
        "\n",
        "print(f\"Number of unique records in fichier_DH2: {unique_records_count}\")\n",
        "\n",
        "# Calculate the number of unique records in fichier_SIO\n",
        "unique_records_count = len(fichier_SIO.drop_duplicates())\n",
        "\n",
        "print(f\"Number of unique records in fichier_SIO: {unique_records_count}\")"
      ],
      "metadata": {
        "colab": {
          "base_uri": "https://localhost:8080/"
        },
        "id": "GQAJSc6dd6c0",
        "outputId": "a1c4e852-955c-4d0a-b2c9-48442520b1e7"
      },
      "execution_count": 12,
      "outputs": [
        {
          "output_type": "stream",
          "name": "stdout",
          "text": [
            "Number of unique records in fichier_DH2: 14725\n",
            "Number of unique records in fichier_SIO: 17084\n"
          ]
        }
      ]
    },
    {
      "cell_type": "markdown",
      "source": [
        "Appel à DBSCAN"
      ],
      "metadata": {
        "id": "FUrtfUo7deI9"
      }
    },
    {
      "cell_type": "code",
      "source": [
        "X = fichier_DH2\n",
        "#X.set_index('id_personne', inplace=True) # inplace=True --> on ne crée pas un nouveau DF\n",
        "\n",
        "# print(X.dtype)\n",
        "X = X.apply(pd.to_numeric)\n",
        "\n",
        "import matplotlib.pyplot as plt\n",
        "# pltcatter(X[:, 3], X[:, 4])\n",
        "\n",
        "\n",
        "#plt.scatter(x=\"pcs\" , y=\"cosop\", c = 'r', data=X)\n",
        "#plt.show()\n",
        "\n",
        "from sklearn.datasets import make_blobs\n",
        "from sklearn.preprocessing import StandardScaler\n",
        "\n",
        "# création du jeu de test\n",
        "\n",
        "X = StandardScaler().fit_transform(X)\n",
        "print (\"fichier DH2 après scaler :\")\n",
        "print(X[:5])\n",
        "\n",
        "\n",
        "from sklearn import metrics\n",
        "from sklearn.cluster import DBSCAN\n",
        "from sklearn.cluster import OPTICS\n",
        "min_groupe = 2\n",
        "epsilon=0.000000001\n",
        "db = DBSCAN(eps=epsilon,min_samples=min_groupe).fit(X)\n",
        "labels_DH = db.labels_\n",
        "\n",
        "n_clusters_ = len(set(labels_DH)) - (1 if -1 in labels_DH else 0)\n",
        "n_noise_ = list(labels_DH).count(-1)\n",
        "\n",
        "print(\"Estimated number of clusters DH: %d\" % n_clusters_)\n",
        "print(\"Estimated number of noise points DH: %d\" % n_noise_)\n",
        "\n",
        "\n",
        "Y = fichier_SIO\n",
        "\n",
        "\n",
        "Y = StandardScaler().fit_transform(Y)\n",
        "print (\"fichier SIO après scaler :\")\n",
        "print(Y[:5])\n",
        "\n",
        "\n",
        "# Y = Y.apply(pd.to_numeric)\n",
        "db2 = DBSCAN(epsilon, min_samples=min_groupe).fit(Y)\n",
        "labels_SIO = db2.labels_\n",
        "\n",
        "\n",
        "\n",
        "n_clusters_ = len(set(labels_SIO)) - (1 if -1 in labels_SIO else 0)\n",
        "n_noise_ = list(labels_SIO).count(-1)\n",
        "\n",
        "print(\"Estimated number of clusters SIO: %d\" % n_clusters_)\n",
        "print(\"Estimated number of noise points SIO: %d\" % n_noise_)\n",
        "print(\"____________Résumé____________\")\n",
        "difference = labels_DH - labels_SIO\n",
        "print(\"Données en écarts = \", difference)\n",
        "print(labels_DH)\n",
        "print(labels_SIO)\n",
        "n_DH = len(labels_DH)\n",
        "n_SIO=len(labels_SIO)\n",
        "n_dif = len(difference)\n",
        "print(\"Longueur dif = \", n_dif)\n",
        "fin = False\n",
        "i=-1\n",
        "\n",
        "nb_ko = 0\n",
        "\n",
        "# Créer un tableau vide avec une dimension initiale\n",
        "empty_array = np.empty((0, 3))  # Par exemple, un tableau vide avec 3 colonnes\n",
        "\n"
      ],
      "metadata": {
        "colab": {
          "base_uri": "https://localhost:8080/"
        },
        "id": "HKV2lhUSdi4F",
        "outputId": "39bb1827-4c0e-499b-c052-e5f1baa370bb"
      },
      "execution_count": 13,
      "outputs": [
        {
          "output_type": "stream",
          "name": "stdout",
          "text": [
            "fichier DH2 après scaler :\n",
            "[[-0.89320959 -0.04060083 -0.26522717 -0.05069704 -0.87247915 -0.49442188]\n",
            " [-0.85415319 -0.04060083 -0.26522717 -0.05069704 -0.87247915 -0.49373116]\n",
            " [-0.8150968  -0.04060083 -0.26522717 -0.05069704 -0.38313881 -0.49304044]\n",
            " [-0.89320959 -0.04060083 -0.26522717 -0.05069704 -0.38313881 -0.49442188]\n",
            " [-0.77604041 -0.04060083 -0.26522717 -0.05069704 -0.87247915 -0.49234972]]\n",
            "Estimated number of clusters DH: 4357\n",
            "Estimated number of noise points DH: 10368\n",
            "fichier SIO après scaler :\n",
            "[[-0.77635701 -0.09618156 -0.26522717 -0.05428837 -0.15013533 -0.86628925\n",
            "  -0.86592565 -0.49442188]\n",
            " [-0.74611368 -0.09618156 -0.26522717 -0.05428837 -0.15013533 -0.86628925\n",
            "  -0.86592565 -0.49373116]\n",
            " [-0.71587034 -0.09618156 -0.26522717 -0.05428837 -0.15013533 -0.38285272\n",
            "  -0.38342442 -0.49304044]\n",
            " [-0.77635701 -0.09618156 -0.26522717 -0.05428837 -0.15013533 -0.38285272\n",
            "  -0.38342442 -0.49442188]\n",
            " [-0.68562701 -0.09618156 -0.26522717 -0.05428837 -0.15013533 -0.86628925\n",
            "  -0.86592565 -0.49234972]]\n",
            "Estimated number of clusters SIO: 4644\n",
            "Estimated number of noise points SIO: 12440\n",
            "____________Résumé____________\n",
            "Données en écarts =  [  0   0   0 ... -12   1 -12]\n",
            "[ 0 -1  1 ...  6 28  6]\n",
            "[ 0 -1  1 ... 18 27 18]\n",
            "Longueur dif =  100000\n"
          ]
        }
      ]
    },
    {
      "cell_type": "markdown",
      "source": [
        "Utilisation OPTICS avec métrique usuelle\n"
      ],
      "metadata": {
        "id": "V4r27mNbK6it"
      }
    },
    {
      "cell_type": "code",
      "source": [
        "X = fichier_DH2\n",
        "#X.set_index('id_personne', inplace=True) # inplace=True --> on ne crée pas un nouveau DF\n",
        "\n",
        "# print(X.dtype)\n",
        "X = X.apply(pd.to_numeric)\n",
        "\n",
        "\n",
        "from sklearn.preprocessing import StandardScaler\n",
        "\n",
        "\n",
        "from sklearn import metrics\n",
        "from sklearn.cluster import OPTICS\n",
        "min_groupe = 2\n",
        "db = OPTICS(min_samples=2, xi=0.05, min_cluster_size=0.1)\n",
        "db.fit(X)\n",
        "\n",
        "# Extraction des labels de clusters\n",
        "labels_DH = cluster_optics_dbscan(reachability=db.reachability_,\n",
        "                               core_distances=db.core_distances_,\n",
        "                               ordering=db.ordering_, eps=0.5)\n",
        "\n",
        "n_clusters_ = len(set(labels_DH)) - (1 if -1 in labels_DH else 0)\n",
        "n_noise_ = list(labels_DH).count(-1)\n",
        "\n",
        "print(\"Estimated number of clusters DH: %d\" % n_clusters_)\n",
        "print(\"Estimated number of noise points DH: %d\" % n_noise_)\n",
        "\n",
        "\n",
        "Y = fichier_SIO\n",
        "\n",
        "\n",
        "\n",
        "# Y = Y.apply(pd.to_numeric)\n",
        "\n",
        "\n",
        "db2 = OPTICS(min_samples=2, xi=0.05, min_cluster_size=0.1)\n",
        "db2.fit(Y)\n",
        "\n",
        "# Extraction des labels de clusters\n",
        "labels_SIO = cluster_optics_dbscan(reachability=db2.reachability_,\n",
        "                               core_distances=db2.core_distances_,\n",
        "                               ordering=db2.ordering_, eps=0.5)\n",
        "\n",
        "\n",
        "\n",
        "n_clusters_ = len(set(labels_SIO)) - (1 if -1 in labels_SIO else 0)\n",
        "n_noise_ = list(labels_SIO).count(-1)\n",
        "\n",
        "print(\"Estimated number of clusters SIO: %d\" % n_clusters_)\n",
        "print(\"Estimated number of noise points SIO: %d\" % n_noise_)\n",
        "print(\"____________Résumé____________\")\n",
        "difference = labels_DH - labels_SIO\n",
        "print(\"Données en écarts = \", difference)\n",
        "print(labels_DH)\n",
        "print(labels_SIO)\n",
        "n_DH = len(labels_DH)\n",
        "n_SIO=len(labels_SIO)\n",
        "n_dif = len(difference)\n",
        "print(\"Longueur dif = \", n_dif)\n",
        "fin = False\n",
        "i=-1\n",
        "\n",
        "nb_ko = 0\n",
        "\n",
        "# Créer un tableau vide avec une dimension initiale\n",
        "empty_array = np.empty((0, 3))  # Par exemple, un tableau vide avec 3 colonnes\n",
        "\n"
      ],
      "metadata": {
        "colab": {
          "base_uri": "https://localhost:8080/",
          "height": 245
        },
        "outputId": "d923957b-a5ca-4261-a6b9-e19fb81e4e3a",
        "id": "ph5fNC_WbYnv"
      },
      "execution_count": null,
      "outputs": [
        {
          "output_type": "stream",
          "name": "stderr",
          "text": [
            "/usr/local/lib/python3.10/dist-packages/sklearn/cluster/_optics.py:1083: RuntimeWarning: divide by zero encountered in divide\n",
            "  ratio = reachability_plot[:-1] / reachability_plot[1:]\n"
          ]
        },
        {
          "output_type": "error",
          "ename": "NameError",
          "evalue": "name 'cluster_optics_dbscan' is not defined",
          "traceback": [
            "\u001b[0;31m---------------------------------------------------------------------------\u001b[0m",
            "\u001b[0;31mNameError\u001b[0m                                 Traceback (most recent call last)",
            "\u001b[0;32m<ipython-input-3-4d4ae20be302>\u001b[0m in \u001b[0;36m<cell line: 18>\u001b[0;34m()\u001b[0m\n\u001b[1;32m     16\u001b[0m \u001b[0;34m\u001b[0m\u001b[0m\n\u001b[1;32m     17\u001b[0m \u001b[0;31m# Extraction des labels de clusters\u001b[0m\u001b[0;34m\u001b[0m\u001b[0;34m\u001b[0m\u001b[0m\n\u001b[0;32m---> 18\u001b[0;31m labels_DH = cluster_optics_dbscan(reachability=db.reachability_,\n\u001b[0m\u001b[1;32m     19\u001b[0m                                \u001b[0mcore_distances\u001b[0m\u001b[0;34m=\u001b[0m\u001b[0mdb\u001b[0m\u001b[0;34m.\u001b[0m\u001b[0mcore_distances_\u001b[0m\u001b[0;34m,\u001b[0m\u001b[0;34m\u001b[0m\u001b[0;34m\u001b[0m\u001b[0m\n\u001b[1;32m     20\u001b[0m                                ordering=db.ordering_, eps=0.5)\n",
            "\u001b[0;31mNameError\u001b[0m: name 'cluster_optics_dbscan' is not defined"
          ]
        }
      ]
    },
    {
      "cell_type": "markdown",
      "source": [
        "Utilisation DBSCAN avec métrique personalisée"
      ],
      "metadata": {
        "id": "NGgqJflQslGp"
      }
    },
    {
      "cell_type": "code",
      "source": [
        "from sklearn.preprocessing import StandardScaler\n",
        "from difflib import SequenceMatcher\n",
        "\n",
        "from sklearn import metrics\n",
        "from sklearn.cluster import OPTICS\n",
        "\n",
        "\n",
        "def distance_mot(m1, m2):\n",
        "  matcher = SequenceMatcher(None, m1, m2)\n",
        "  return matcher\n",
        "\n",
        "\n",
        "X = fichier_DH2\n",
        "#X.set_index('id_personne', inplace=True) # inplace=True --> on ne crée pas un nouveau DF\n",
        "\n",
        "#print(X.dtype)\n",
        "X = X.apply(pd.to_numeric)\n",
        "\n",
        "import matplotlib.pyplot as plt\n",
        "# pltcatter(X[:, 3], X[:, 4])\n",
        "\n",
        "\n",
        "#plt.scatter(x=\"pcs\" , y=\"cosop\", c = 'r', data=X)\n",
        "#plt.show()\n",
        "\n",
        "from sklearn.datasets import make_blobs\n",
        "from sklearn.preprocessing import StandardScaler\n",
        "\n",
        "# création du jeu de test\n",
        "\n",
        "#X = StandardScaler().fit_transform(X)\n",
        "#print (\"fichier DH2 après scaler :\")\n",
        "#print(X[:5])\n",
        "\n",
        "from sklearn import metrics\n",
        "from sklearn.cluster import DBSCAN\n",
        "from sklearn.cluster import OPTICS\n",
        "min_groupe = 2\n",
        "epsilon=0.000000000000000000000000001\n",
        "db = DBSCAN(eps=epsilon,min_samples=min_groupe,metric=distance_mot).fit(X)\n",
        "labels_DH = db.labels_\n",
        "\n",
        "n_clusters_ = len(set(labels_DH)) - (1 if -1 in labels_DH else 0)\n",
        "n_noise_ = list(labels_DH).count(-1)\n",
        "\n",
        "print(\"Estimated number of clusters DH: %d\" % n_clusters_)\n",
        "print(\"Estimated number of noise points DH: %d\" % n_noise_)\n",
        "\n",
        "\n",
        "Y = fichier_SIO\n",
        "\n",
        "\n",
        "#Y = StandardScaler().fit_transform(Y)\n",
        "#print (\"fichier SIO après scaler :\")\n",
        "#print(Y[:5])\n",
        "\n",
        "\n",
        "# Y = Y.apply(pd.to_numeric)\n",
        "db2 = DBSCAN(epsilon, min_samples=min_groupe,metric=distance_mot).fit(Y)\n",
        "labels_SIO = db2.labels_\n",
        "\n",
        "\n",
        "\n",
        "n_clusters_ = len(set(labels_SIO)) - (1 if -1 in labels_SIO else 0)\n",
        "n_noise_ = list(labels_SIO).count(-1)\n",
        "\n",
        "print(\"Estimated number of clusters SIO: %d\" % n_clusters_)\n",
        "print(\"Estimated number of noise points SIO: %d\" % n_noise_)\n",
        "print(\"____________Résumé____________\")\n",
        "difference = labels_DH - labels_SIO\n",
        "print(\"Données en écarts = \", difference)\n",
        "print(labels_DH)\n",
        "print(labels_SIO)\n",
        "n_DH = len(labels_DH)\n",
        "n_SIO=len(labels_SIO)\n",
        "n_dif = len(difference)\n",
        "print(\"Longueur dif = \", n_dif)\n",
        "fin = False\n",
        "i=-1\n",
        "\n",
        "nb_ko = 0\n",
        "\n",
        "# Créer un tableau vide avec une dimension initiale\n",
        "empty_array = np.empty((0, 3))  # Par exemple, un tableau vide avec 3 colonnes\n",
        "\n"
      ],
      "metadata": {
        "colab": {
          "base_uri": "https://localhost:8080/",
          "height": 721
        },
        "outputId": "49a98986-8d39-4158-8f89-297ef1bd3f9f",
        "id": "CFqo5XxEshPI"
      },
      "execution_count": null,
      "outputs": [
        {
          "output_type": "error",
          "ename": "TypeError",
          "evalue": "Custom distance function must accept two vectors and return a float.",
          "traceback": [
            "\u001b[0;31m---------------------------------------------------------------------------\u001b[0m",
            "\u001b[0;31mTypeError\u001b[0m                                 Traceback (most recent call last)",
            "\u001b[0;32msklearn/metrics/_dist_metrics.pyx\u001b[0m in \u001b[0;36msklearn.metrics._dist_metrics.PyFuncDistance64._dist\u001b[0;34m()\u001b[0m\n",
            "\u001b[0;31mTypeError\u001b[0m: must be real number, not SequenceMatcher",
            "\nDuring handling of the above exception, another exception occurred:\n",
            "\u001b[0;31mTypeError\u001b[0m                                 Traceback (most recent call last)",
            "\u001b[0;32m<ipython-input-14-3c8a6575109f>\u001b[0m in \u001b[0;36m<cell line: 40>\u001b[0;34m()\u001b[0m\n\u001b[1;32m     38\u001b[0m \u001b[0mmin_groupe\u001b[0m \u001b[0;34m=\u001b[0m \u001b[0;36m2\u001b[0m\u001b[0;34m\u001b[0m\u001b[0;34m\u001b[0m\u001b[0m\n\u001b[1;32m     39\u001b[0m \u001b[0mepsilon\u001b[0m\u001b[0;34m=\u001b[0m\u001b[0;36m0.000000000000000000000000001\u001b[0m\u001b[0;34m\u001b[0m\u001b[0;34m\u001b[0m\u001b[0m\n\u001b[0;32m---> 40\u001b[0;31m \u001b[0mdb\u001b[0m \u001b[0;34m=\u001b[0m \u001b[0mDBSCAN\u001b[0m\u001b[0;34m(\u001b[0m\u001b[0meps\u001b[0m\u001b[0;34m=\u001b[0m\u001b[0mepsilon\u001b[0m\u001b[0;34m,\u001b[0m\u001b[0mmin_samples\u001b[0m\u001b[0;34m=\u001b[0m\u001b[0mmin_groupe\u001b[0m\u001b[0;34m,\u001b[0m\u001b[0mmetric\u001b[0m\u001b[0;34m=\u001b[0m\u001b[0mdistance_mot\u001b[0m\u001b[0;34m)\u001b[0m\u001b[0;34m.\u001b[0m\u001b[0mfit\u001b[0m\u001b[0;34m(\u001b[0m\u001b[0mX\u001b[0m\u001b[0;34m)\u001b[0m\u001b[0;34m\u001b[0m\u001b[0;34m\u001b[0m\u001b[0m\n\u001b[0m\u001b[1;32m     41\u001b[0m \u001b[0mlabels_DH\u001b[0m \u001b[0;34m=\u001b[0m \u001b[0mdb\u001b[0m\u001b[0;34m.\u001b[0m\u001b[0mlabels_\u001b[0m\u001b[0;34m\u001b[0m\u001b[0;34m\u001b[0m\u001b[0m\n\u001b[1;32m     42\u001b[0m \u001b[0;34m\u001b[0m\u001b[0m\n",
            "\u001b[0;32m/usr/local/lib/python3.10/dist-packages/sklearn/base.py\u001b[0m in \u001b[0;36mwrapper\u001b[0;34m(estimator, *args, **kwargs)\u001b[0m\n\u001b[1;32m   1471\u001b[0m                 )\n\u001b[1;32m   1472\u001b[0m             ):\n\u001b[0;32m-> 1473\u001b[0;31m                 \u001b[0;32mreturn\u001b[0m \u001b[0mfit_method\u001b[0m\u001b[0;34m(\u001b[0m\u001b[0mestimator\u001b[0m\u001b[0;34m,\u001b[0m \u001b[0;34m*\u001b[0m\u001b[0margs\u001b[0m\u001b[0;34m,\u001b[0m \u001b[0;34m**\u001b[0m\u001b[0mkwargs\u001b[0m\u001b[0;34m)\u001b[0m\u001b[0;34m\u001b[0m\u001b[0;34m\u001b[0m\u001b[0m\n\u001b[0m\u001b[1;32m   1474\u001b[0m \u001b[0;34m\u001b[0m\u001b[0m\n\u001b[1;32m   1475\u001b[0m         \u001b[0;32mreturn\u001b[0m \u001b[0mwrapper\u001b[0m\u001b[0;34m\u001b[0m\u001b[0;34m\u001b[0m\u001b[0m\n",
            "\u001b[0;32m/usr/local/lib/python3.10/dist-packages/sklearn/cluster/_dbscan.py\u001b[0m in \u001b[0;36mfit\u001b[0;34m(self, X, y, sample_weight)\u001b[0m\n\u001b[1;32m    418\u001b[0m             \u001b[0mn_jobs\u001b[0m\u001b[0;34m=\u001b[0m\u001b[0mself\u001b[0m\u001b[0;34m.\u001b[0m\u001b[0mn_jobs\u001b[0m\u001b[0;34m,\u001b[0m\u001b[0;34m\u001b[0m\u001b[0;34m\u001b[0m\u001b[0m\n\u001b[1;32m    419\u001b[0m         )\n\u001b[0;32m--> 420\u001b[0;31m         \u001b[0mneighbors_model\u001b[0m\u001b[0;34m.\u001b[0m\u001b[0mfit\u001b[0m\u001b[0;34m(\u001b[0m\u001b[0mX\u001b[0m\u001b[0;34m)\u001b[0m\u001b[0;34m\u001b[0m\u001b[0;34m\u001b[0m\u001b[0m\n\u001b[0m\u001b[1;32m    421\u001b[0m         \u001b[0;31m# This has worst case O(n^2) memory complexity\u001b[0m\u001b[0;34m\u001b[0m\u001b[0;34m\u001b[0m\u001b[0m\n\u001b[1;32m    422\u001b[0m         \u001b[0mneighborhoods\u001b[0m \u001b[0;34m=\u001b[0m \u001b[0mneighbors_model\u001b[0m\u001b[0;34m.\u001b[0m\u001b[0mradius_neighbors\u001b[0m\u001b[0;34m(\u001b[0m\u001b[0mX\u001b[0m\u001b[0;34m,\u001b[0m \u001b[0mreturn_distance\u001b[0m\u001b[0;34m=\u001b[0m\u001b[0;32mFalse\u001b[0m\u001b[0;34m)\u001b[0m\u001b[0;34m\u001b[0m\u001b[0;34m\u001b[0m\u001b[0m\n",
            "\u001b[0;32m/usr/local/lib/python3.10/dist-packages/sklearn/base.py\u001b[0m in \u001b[0;36mwrapper\u001b[0;34m(estimator, *args, **kwargs)\u001b[0m\n\u001b[1;32m   1471\u001b[0m                 )\n\u001b[1;32m   1472\u001b[0m             ):\n\u001b[0;32m-> 1473\u001b[0;31m                 \u001b[0;32mreturn\u001b[0m \u001b[0mfit_method\u001b[0m\u001b[0;34m(\u001b[0m\u001b[0mestimator\u001b[0m\u001b[0;34m,\u001b[0m \u001b[0;34m*\u001b[0m\u001b[0margs\u001b[0m\u001b[0;34m,\u001b[0m \u001b[0;34m**\u001b[0m\u001b[0mkwargs\u001b[0m\u001b[0;34m)\u001b[0m\u001b[0;34m\u001b[0m\u001b[0;34m\u001b[0m\u001b[0m\n\u001b[0m\u001b[1;32m   1474\u001b[0m \u001b[0;34m\u001b[0m\u001b[0m\n\u001b[1;32m   1475\u001b[0m         \u001b[0;32mreturn\u001b[0m \u001b[0mwrapper\u001b[0m\u001b[0;34m\u001b[0m\u001b[0;34m\u001b[0m\u001b[0m\n",
            "\u001b[0;32m/usr/local/lib/python3.10/dist-packages/sklearn/neighbors/_unsupervised.py\u001b[0m in \u001b[0;36mfit\u001b[0;34m(self, X, y)\u001b[0m\n\u001b[1;32m    174\u001b[0m             \u001b[0mThe\u001b[0m \u001b[0mfitted\u001b[0m \u001b[0mnearest\u001b[0m \u001b[0mneighbors\u001b[0m \u001b[0mestimator\u001b[0m\u001b[0;34m.\u001b[0m\u001b[0;34m\u001b[0m\u001b[0;34m\u001b[0m\u001b[0m\n\u001b[1;32m    175\u001b[0m         \"\"\"\n\u001b[0;32m--> 176\u001b[0;31m         \u001b[0;32mreturn\u001b[0m \u001b[0mself\u001b[0m\u001b[0;34m.\u001b[0m\u001b[0m_fit\u001b[0m\u001b[0;34m(\u001b[0m\u001b[0mX\u001b[0m\u001b[0;34m)\u001b[0m\u001b[0;34m\u001b[0m\u001b[0;34m\u001b[0m\u001b[0m\n\u001b[0m",
            "\u001b[0;32m/usr/local/lib/python3.10/dist-packages/sklearn/neighbors/_base.py\u001b[0m in \u001b[0;36m_fit\u001b[0;34m(self, X, y)\u001b[0m\n\u001b[1;32m    663\u001b[0m \u001b[0;34m\u001b[0m\u001b[0m\n\u001b[1;32m    664\u001b[0m         \u001b[0;32mif\u001b[0m \u001b[0mself\u001b[0m\u001b[0;34m.\u001b[0m\u001b[0m_fit_method\u001b[0m \u001b[0;34m==\u001b[0m \u001b[0;34m\"ball_tree\"\u001b[0m\u001b[0;34m:\u001b[0m\u001b[0;34m\u001b[0m\u001b[0;34m\u001b[0m\u001b[0m\n\u001b[0;32m--> 665\u001b[0;31m             self._tree = BallTree(\n\u001b[0m\u001b[1;32m    666\u001b[0m                 \u001b[0mX\u001b[0m\u001b[0;34m,\u001b[0m\u001b[0;34m\u001b[0m\u001b[0;34m\u001b[0m\u001b[0m\n\u001b[1;32m    667\u001b[0m                 \u001b[0mself\u001b[0m\u001b[0;34m.\u001b[0m\u001b[0mleaf_size\u001b[0m\u001b[0;34m,\u001b[0m\u001b[0;34m\u001b[0m\u001b[0;34m\u001b[0m\u001b[0m\n",
            "\u001b[0;32msklearn/neighbors/_binary_tree.pxi\u001b[0m in \u001b[0;36msklearn.neighbors._ball_tree.BinaryTree64.__init__\u001b[0;34m()\u001b[0m\n",
            "\u001b[0;32msklearn/neighbors/_binary_tree.pxi\u001b[0m in \u001b[0;36msklearn.neighbors._ball_tree.BinaryTree64._recursive_build\u001b[0;34m()\u001b[0m\n",
            "\u001b[0;32msklearn/neighbors/_ball_tree.pyx\u001b[0m in \u001b[0;36msklearn.neighbors._ball_tree.init_node64\u001b[0;34m()\u001b[0m\n",
            "\u001b[0;32msklearn/neighbors/_binary_tree.pxi\u001b[0m in \u001b[0;36msklearn.neighbors._ball_tree.BinaryTree64.rdist\u001b[0;34m()\u001b[0m\n",
            "\u001b[0;32msklearn/metrics/_dist_metrics.pyx\u001b[0m in \u001b[0;36msklearn.metrics._dist_metrics.DistanceMetric64.rdist\u001b[0;34m()\u001b[0m\n",
            "\u001b[0;32msklearn/metrics/_dist_metrics.pyx\u001b[0m in \u001b[0;36msklearn.metrics._dist_metrics.PyFuncDistance64.dist\u001b[0;34m()\u001b[0m\n",
            "\u001b[0;32msklearn/metrics/_dist_metrics.pyx\u001b[0m in \u001b[0;36msklearn.metrics._dist_metrics.PyFuncDistance64._dist\u001b[0;34m()\u001b[0m\n",
            "\u001b[0;31mTypeError\u001b[0m: Custom distance function must accept two vectors and return a float."
          ]
        }
      ]
    },
    {
      "cell_type": "markdown",
      "source": [
        "On sélectionne les isoles"
      ],
      "metadata": {
        "id": "3PlC42mFbbuR"
      }
    },
    {
      "cell_type": "code",
      "source": [
        "labels_DH_zero = [x for x in labels_DH if x ==-1]\n",
        "print(\"longueur DH label 0 =\", len(labels_DH_zero))\n",
        "labels_SIO_zero = [x for x in labels_SIO if x ==-1]\n",
        "print(\"longueur SIO label 0 =\", len(labels_SIO_zero))\n"
      ],
      "metadata": {
        "id": "GTnhGLo1KUKL",
        "outputId": "c68b6f32-45ac-48e3-9d15-11cc683549d0",
        "colab": {
          "base_uri": "https://localhost:8080/"
        }
      },
      "execution_count": 14,
      "outputs": [
        {
          "output_type": "stream",
          "name": "stdout",
          "text": [
            "longueur DH label 0 = 10368\n",
            "longueur SIO label 0 = 12440\n"
          ]
        }
      ]
    },
    {
      "cell_type": "code",
      "source": [
        "# prompt: transform labels_DH into a dataframe\n",
        "\n",
        "#print(\"DH.38=\", X[38], \"SIO.38=\", Y[38])\n",
        "#print(\"DH.0=\", X[0], \"SIO.0=\", Y[0])\n",
        "\n",
        "# Assuming 'labels_DH' is already defined from the previous code\n",
        "labels_DH_df = pd.DataFrame({'labels_DH': labels_DH})\n",
        "labels_SIO_df = pd.DataFrame({'labels_SIO': labels_SIO})\n",
        "\n",
        "labels_DH_0 = labels_DH_df[labels_DH_df['labels_DH'] == -1]\n",
        "print(labels_DH_0.head())\n",
        "labels_SIO_0 = labels_SIO_df[labels_SIO_df['labels_SIO'] == -1]\n",
        "print(labels_SIO_0.head())\n",
        "print(\"______________________________________________________\")\n",
        "#print(labels_DH[38], \" SIO=\", labels_SIO[38])\n",
        "print(\"Référence SIO\", references_SIO.iloc[15], \". Référence DH = \", references_DH.iloc[15])\n",
        "\n",
        "\n"
      ],
      "metadata": {
        "id": "efpKINjiMMgq",
        "outputId": "3bf57d57-1e98-4674-8258-69e5cb250bc1",
        "colab": {
          "base_uri": "https://localhost:8080/"
        }
      },
      "execution_count": 17,
      "outputs": [
        {
          "output_type": "stream",
          "name": "stdout",
          "text": [
            "    labels_DH\n",
            "1          -1\n",
            "13         -1\n",
            "17         -1\n",
            "19         -1\n",
            "20         -1\n",
            "    labels_SIO\n",
            "1           -1\n",
            "13          -1\n",
            "15          -1\n",
            "17          -1\n",
            "19          -1\n",
            "______________________________________________________\n",
            "Référence SIO client_reference    0000003790\n",
            "Name: 15, dtype: object . Référence DH =  id_personne    0000003790\n",
            "Name: 15, dtype: object\n"
          ]
        }
      ]
    },
    {
      "cell_type": "markdown",
      "source": [
        "Extraction des index en décalage : isolé dans le DH mais pas dans le SIO"
      ],
      "metadata": {
        "id": "rcgm5EG4hXDt"
      }
    },
    {
      "cell_type": "code",
      "source": [
        "# prompt: extraire les index qui dont dans labels_DH_0 mais pas dans labels_SIO_0\n",
        "\n",
        "# Find indices present in labels_DH_0 but not in labels_SIO_0\n",
        "dh_indices_in_0 = labels_DH_0.index.tolist()\n",
        "sio_indices_in_0 = labels_SIO_0.index.tolist()\n",
        "\n",
        "indices_in_sio_not_dh = list(set(dh_indices_in_0) - set(sio_indices_in_0))\n",
        "\n",
        "print(\"Indices in labels_DH_0 but not in labels_SIO_0:\")\n",
        "print(indices_in_sio_not_dh)\n",
        "print(\"nombre=\",len(indices_in_sio_not_dh))\n",
        "ind = indices_in_sio_not_dh[0]\n",
        "print(\"Référence sio = \", references_SIO.iloc[ind])\n",
        "print(\"Référence dh = \", references_DH.iloc[ind])\n",
        "print(\"LAbel DH = \", labels_DH[ind])\n",
        "print(\"LAbel SIO = \", labels_SIO[ind])\n",
        "label_KO = labels_SIO[ind]\n"
      ],
      "metadata": {
        "colab": {
          "base_uri": "https://localhost:8080/",
          "height": 263
        },
        "id": "Gz8BZr7qha_D",
        "outputId": "0a3bfbef-8b27-4603-e585-e512ea897377"
      },
      "execution_count": 16,
      "outputs": [
        {
          "output_type": "stream",
          "name": "stdout",
          "text": [
            "Indices in labels_DH_0 but not in labels_SIO_0:\n",
            "[]\n",
            "nombre= 0\n"
          ]
        },
        {
          "output_type": "error",
          "ename": "IndexError",
          "evalue": "list index out of range",
          "traceback": [
            "\u001b[0;31m---------------------------------------------------------------------------\u001b[0m",
            "\u001b[0;31mIndexError\u001b[0m                                Traceback (most recent call last)",
            "\u001b[0;32m<ipython-input-16-3c888cd6e0ec>\u001b[0m in \u001b[0;36m<cell line: 12>\u001b[0;34m()\u001b[0m\n\u001b[1;32m     10\u001b[0m \u001b[0mprint\u001b[0m\u001b[0;34m(\u001b[0m\u001b[0mindices_in_sio_not_dh\u001b[0m\u001b[0;34m)\u001b[0m\u001b[0;34m\u001b[0m\u001b[0;34m\u001b[0m\u001b[0m\n\u001b[1;32m     11\u001b[0m \u001b[0mprint\u001b[0m\u001b[0;34m(\u001b[0m\u001b[0;34m\"nombre=\"\u001b[0m\u001b[0;34m,\u001b[0m\u001b[0mlen\u001b[0m\u001b[0;34m(\u001b[0m\u001b[0mindices_in_sio_not_dh\u001b[0m\u001b[0;34m)\u001b[0m\u001b[0;34m)\u001b[0m\u001b[0;34m\u001b[0m\u001b[0;34m\u001b[0m\u001b[0m\n\u001b[0;32m---> 12\u001b[0;31m \u001b[0mind\u001b[0m \u001b[0;34m=\u001b[0m \u001b[0mindices_in_sio_not_dh\u001b[0m\u001b[0;34m[\u001b[0m\u001b[0;36m0\u001b[0m\u001b[0;34m]\u001b[0m\u001b[0;34m\u001b[0m\u001b[0;34m\u001b[0m\u001b[0m\n\u001b[0m\u001b[1;32m     13\u001b[0m \u001b[0mprint\u001b[0m\u001b[0;34m(\u001b[0m\u001b[0;34m\"Référence sio = \"\u001b[0m\u001b[0;34m,\u001b[0m \u001b[0mreferences_SIO\u001b[0m\u001b[0;34m.\u001b[0m\u001b[0miloc\u001b[0m\u001b[0;34m[\u001b[0m\u001b[0mind\u001b[0m\u001b[0;34m]\u001b[0m\u001b[0;34m)\u001b[0m\u001b[0;34m\u001b[0m\u001b[0;34m\u001b[0m\u001b[0m\n\u001b[1;32m     14\u001b[0m \u001b[0mprint\u001b[0m\u001b[0;34m(\u001b[0m\u001b[0;34m\"Référence dh = \"\u001b[0m\u001b[0;34m,\u001b[0m \u001b[0mreferences_DH\u001b[0m\u001b[0;34m.\u001b[0m\u001b[0miloc\u001b[0m\u001b[0;34m[\u001b[0m\u001b[0mind\u001b[0m\u001b[0;34m]\u001b[0m\u001b[0;34m)\u001b[0m\u001b[0;34m\u001b[0m\u001b[0;34m\u001b[0m\u001b[0m\n",
            "\u001b[0;31mIndexError\u001b[0m: list index out of range"
          ]
        }
      ]
    },
    {
      "cell_type": "markdown",
      "source": [
        "Test A"
      ],
      "metadata": {
        "id": "MFTe7fE4J7zm"
      }
    },
    {
      "cell_type": "markdown",
      "source": [],
      "metadata": {
        "id": "hwXm6MruiTqb"
      }
    },
    {
      "cell_type": "code",
      "source": [
        "def euclidean_distance(Y1, Y2):\n",
        "  \"\"\"\n",
        "  Calculates the Euclidean distance between two points Y1 and Y2.\n",
        "\n",
        "  Args:\n",
        "    Y1: A NumPy array or list representing the first point.\n",
        "    Y2: A NumPy array or list representing the second point.\n",
        "\n",
        "  Returns:\n",
        "    The Euclidean distance between Y1 and Y2.\n",
        "    Returns an error message if the input is invalid.\n",
        "  \"\"\"\n",
        "  try:\n",
        "    Y1 = np.array(Y1)\n",
        "    Y2 = np.array(Y2)\n",
        "    if Y1.shape != Y2.shape:\n",
        "      return \"Error: Input arrays must have the same shape.\"\n",
        "\n",
        "    distance = np.linalg.norm(Y1 - Y2)\n",
        "    return distance\n",
        "  except ValueError:\n",
        "      return \"Error: Invalid input. Please provide numerical data.\"\n",
        "  except Exception as e:\n",
        "    return f\"An unexpected error occurred: {e}\"\n",
        "\n",
        "labels_SIO_ = labels_SIO_df[labels_SIO_df['labels_SIO'] == label_KO]\n",
        "\n",
        "index_ko = labels_SIO_.index.tolist()\n",
        "print(index_ko)\n",
        "print(\"Référence SIO_1 = \", references_SIO.iloc[index_ko[0]])\n",
        "print(\"Référence SIO_2 = \", references_SIO.iloc[index_ko[1]])\n",
        "Y1 = Y.iloc[index_ko[0]].tolist()\n",
        "Y2 = Y.iloc[index_ko[1]].tolist()\n",
        "print(\"Y1=\", Y1)\n",
        "print(\"Y2=\", Y2)\n",
        "print(6679858266797832763265826772657766658576843232323232323232323232 - 6679858266797832766578678932323232323232323232323232323232323232 )\n",
        "print(\"Différence=\", euclidean_distance(Y1, Y2))\n"
      ],
      "metadata": {
        "colab": {
          "base_uri": "https://localhost:8080/",
          "height": 297
        },
        "id": "hDheNnpzieDY",
        "outputId": "26c9a839-0bcc-4c19-a546-f342c2c02184"
      },
      "execution_count": null,
      "outputs": [
        {
          "output_type": "stream",
          "name": "stdout",
          "text": [
            "[8578, 24801, 60283, 98817]\n",
            "Référence SIO_1 =  client_reference    0007716390\n",
            "Name: 8578, dtype: object\n",
            "Référence SIO_2 =  client_reference    0106940160\n",
            "Name: 24801, dtype: object\n"
          ]
        },
        {
          "output_type": "error",
          "ename": "AttributeError",
          "evalue": "'numpy.ndarray' object has no attribute 'iloc'",
          "traceback": [
            "\u001b[0;31m---------------------------------------------------------------------------\u001b[0m",
            "\u001b[0;31mAttributeError\u001b[0m                            Traceback (most recent call last)",
            "\u001b[0;32m<ipython-input-25-dbb380f11467>\u001b[0m in \u001b[0;36m<cell line: 32>\u001b[0;34m()\u001b[0m\n\u001b[1;32m     30\u001b[0m \u001b[0mprint\u001b[0m\u001b[0;34m(\u001b[0m\u001b[0;34m\"Référence SIO_1 = \"\u001b[0m\u001b[0;34m,\u001b[0m \u001b[0mreferences_SIO\u001b[0m\u001b[0;34m.\u001b[0m\u001b[0miloc\u001b[0m\u001b[0;34m[\u001b[0m\u001b[0mindex_ko\u001b[0m\u001b[0;34m[\u001b[0m\u001b[0;36m0\u001b[0m\u001b[0;34m]\u001b[0m\u001b[0;34m]\u001b[0m\u001b[0;34m)\u001b[0m\u001b[0;34m\u001b[0m\u001b[0;34m\u001b[0m\u001b[0m\n\u001b[1;32m     31\u001b[0m \u001b[0mprint\u001b[0m\u001b[0;34m(\u001b[0m\u001b[0;34m\"Référence SIO_2 = \"\u001b[0m\u001b[0;34m,\u001b[0m \u001b[0mreferences_SIO\u001b[0m\u001b[0;34m.\u001b[0m\u001b[0miloc\u001b[0m\u001b[0;34m[\u001b[0m\u001b[0mindex_ko\u001b[0m\u001b[0;34m[\u001b[0m\u001b[0;36m1\u001b[0m\u001b[0;34m]\u001b[0m\u001b[0;34m]\u001b[0m\u001b[0;34m)\u001b[0m\u001b[0;34m\u001b[0m\u001b[0;34m\u001b[0m\u001b[0m\n\u001b[0;32m---> 32\u001b[0;31m \u001b[0mY1\u001b[0m \u001b[0;34m=\u001b[0m \u001b[0mY\u001b[0m\u001b[0;34m.\u001b[0m\u001b[0miloc\u001b[0m\u001b[0;34m[\u001b[0m\u001b[0mindex_ko\u001b[0m\u001b[0;34m[\u001b[0m\u001b[0;36m0\u001b[0m\u001b[0;34m]\u001b[0m\u001b[0;34m]\u001b[0m\u001b[0;34m.\u001b[0m\u001b[0mtolist\u001b[0m\u001b[0;34m(\u001b[0m\u001b[0;34m)\u001b[0m\u001b[0;34m\u001b[0m\u001b[0;34m\u001b[0m\u001b[0m\n\u001b[0m\u001b[1;32m     33\u001b[0m \u001b[0mY2\u001b[0m \u001b[0;34m=\u001b[0m \u001b[0mY\u001b[0m\u001b[0;34m.\u001b[0m\u001b[0miloc\u001b[0m\u001b[0;34m[\u001b[0m\u001b[0mindex_ko\u001b[0m\u001b[0;34m[\u001b[0m\u001b[0;36m1\u001b[0m\u001b[0;34m]\u001b[0m\u001b[0;34m]\u001b[0m\u001b[0;34m.\u001b[0m\u001b[0mtolist\u001b[0m\u001b[0;34m(\u001b[0m\u001b[0;34m)\u001b[0m\u001b[0;34m\u001b[0m\u001b[0;34m\u001b[0m\u001b[0m\n\u001b[1;32m     34\u001b[0m \u001b[0mprint\u001b[0m\u001b[0;34m(\u001b[0m\u001b[0;34m\"Y1=\"\u001b[0m\u001b[0;34m,\u001b[0m \u001b[0mY1\u001b[0m\u001b[0;34m)\u001b[0m\u001b[0;34m\u001b[0m\u001b[0;34m\u001b[0m\u001b[0m\n",
            "\u001b[0;31mAttributeError\u001b[0m: 'numpy.ndarray' object has no attribute 'iloc'"
          ]
        }
      ]
    },
    {
      "cell_type": "code",
      "source": [
        "labels_SIO_isole = labels_SIO_df[labels_SIO_df['labels_SIO'] == labels_SIO[ind]]\n",
        "print(labels_SIO_isole.head())\n",
        "sio_indices_in_isole = labels_SIO_isole.index.tolist()\n",
        "print(sio_indices_in_isole)\n",
        "print(\"référence client1=\", references_SIO.iloc[sio_indices_in_isole[0]])\n",
        "print(\"référence client2=\", references_SIO.iloc[sio_indices_in_isole[1]])\n",
        "print(\"Données SIO 1er =\", fichier_SIO.iloc[sio_indices_in_isole[0]])\n",
        "print(\"Données SIO 2ème =\", fichier_SIO.iloc[sio_indices_in_isole[1]])\n"
      ],
      "metadata": {
        "colab": {
          "base_uri": "https://localhost:8080/",
          "height": 211
        },
        "id": "H7wVOh70pNsB",
        "outputId": "6f1e7f65-1da9-413b-d249-c39097828be7"
      },
      "execution_count": 9,
      "outputs": [
        {
          "output_type": "error",
          "ename": "NameError",
          "evalue": "name 'ind' is not defined",
          "traceback": [
            "\u001b[0;31m---------------------------------------------------------------------------\u001b[0m",
            "\u001b[0;31mNameError\u001b[0m                                 Traceback (most recent call last)",
            "\u001b[0;32m<ipython-input-9-f2b3f75c4a1e>\u001b[0m in \u001b[0;36m<cell line: 1>\u001b[0;34m()\u001b[0m\n\u001b[0;32m----> 1\u001b[0;31m \u001b[0mlabels_SIO_isole\u001b[0m \u001b[0;34m=\u001b[0m \u001b[0mlabels_SIO_df\u001b[0m\u001b[0;34m[\u001b[0m\u001b[0mlabels_SIO_df\u001b[0m\u001b[0;34m[\u001b[0m\u001b[0;34m'labels_SIO'\u001b[0m\u001b[0;34m]\u001b[0m \u001b[0;34m==\u001b[0m \u001b[0mlabels_SIO\u001b[0m\u001b[0;34m[\u001b[0m\u001b[0mind\u001b[0m\u001b[0;34m]\u001b[0m\u001b[0;34m]\u001b[0m\u001b[0;34m\u001b[0m\u001b[0;34m\u001b[0m\u001b[0m\n\u001b[0m\u001b[1;32m      2\u001b[0m \u001b[0mprint\u001b[0m\u001b[0;34m(\u001b[0m\u001b[0mlabels_SIO_isole\u001b[0m\u001b[0;34m.\u001b[0m\u001b[0mhead\u001b[0m\u001b[0;34m(\u001b[0m\u001b[0;34m)\u001b[0m\u001b[0;34m)\u001b[0m\u001b[0;34m\u001b[0m\u001b[0;34m\u001b[0m\u001b[0m\n\u001b[1;32m      3\u001b[0m \u001b[0msio_indices_in_isole\u001b[0m \u001b[0;34m=\u001b[0m \u001b[0mlabels_SIO_isole\u001b[0m\u001b[0;34m.\u001b[0m\u001b[0mindex\u001b[0m\u001b[0;34m.\u001b[0m\u001b[0mtolist\u001b[0m\u001b[0;34m(\u001b[0m\u001b[0;34m)\u001b[0m\u001b[0;34m\u001b[0m\u001b[0;34m\u001b[0m\u001b[0m\n\u001b[1;32m      4\u001b[0m \u001b[0mprint\u001b[0m\u001b[0;34m(\u001b[0m\u001b[0msio_indices_in_isole\u001b[0m\u001b[0;34m)\u001b[0m\u001b[0;34m\u001b[0m\u001b[0;34m\u001b[0m\u001b[0m\n\u001b[1;32m      5\u001b[0m \u001b[0mprint\u001b[0m\u001b[0;34m(\u001b[0m\u001b[0;34m\"référence client1=\"\u001b[0m\u001b[0;34m,\u001b[0m \u001b[0mreferences_SIO\u001b[0m\u001b[0;34m.\u001b[0m\u001b[0miloc\u001b[0m\u001b[0;34m[\u001b[0m\u001b[0msio_indices_in_isole\u001b[0m\u001b[0;34m[\u001b[0m\u001b[0;36m0\u001b[0m\u001b[0;34m]\u001b[0m\u001b[0;34m]\u001b[0m\u001b[0;34m)\u001b[0m\u001b[0;34m\u001b[0m\u001b[0;34m\u001b[0m\u001b[0m\n",
            "\u001b[0;31mNameError\u001b[0m: name 'ind' is not defined"
          ]
        }
      ]
    },
    {
      "cell_type": "markdown",
      "source": [
        "Nombre d'enregistrements en décallage"
      ],
      "metadata": {
        "id": "XOFOTCPVuEVG"
      }
    },
    {
      "cell_type": "code",
      "source": [
        "#i0 = indices_in_sio_not_dh[0]\n",
        "#print(\"Donnée DH avec indice \", i0)\n",
        "#print(X.iloc[i0])\n",
        "#print(\"Donnée SIO avec indice \", i0)\n",
        "#print(Y.iloc[i0])\n",
        "#print(\"Référence SIO\", references_SIO.iloc[i0], \". Référence DH = \", references_DH.iloc[i0])\n",
        "labels_DH_df = pd.DataFrame({'labels_DH': labels_DH})\n",
        "labels_SIO_df = pd.DataFrame({'labels_SIO': labels_SIO})\n",
        "\n",
        "liste_ref_KO = []\n",
        "for num_label in range(10):\n",
        "  print(\"num_label=\", num_label)\n",
        "  print(\"-------\")\n",
        "  labels_SIO_num_label = labels_SIO_df[labels_SIO_df['labels_SIO'] == num_label]\n",
        "  sio_indices_in_num_label = labels_SIO_num_label.index.tolist()\n",
        "  print(\"sio_indices_in_num_label=\",sio_indices_in_num_label)\n",
        "  #print(\"Nombre d'enr = \", len(sio_indices_in_i))\n",
        "  k = labels_DH[sio_indices_in_num_label[num_label]]\n",
        "  print(\"k label DH pour le num_label_SIO =\", k)\n",
        "  labels_DH_k = labels_DH_df[labels_DH_df['labels_DH'] == k]\n",
        "  dh_indices_in_k = labels_DH_k.index.tolist()\n",
        "  indices_en_decallage = list(set(sio_indices_in_num_label) - set(dh_indices_in_k))\n",
        "  print(\"Indices en décallage:\", indices_en_decallage)\n",
        "  if len(indices_en_decallage) > 0:\n",
        "    liste_ref_KO.append(references_SIO.iloc[indices_en_decallage])\n",
        "print(\"__________________________________________________\")\n",
        "print (\"Longueur anomalie=\", len(liste_ref_KO))\n",
        "for j in range(len(liste_ref_KO)):\n",
        "  print(\"Réf \", j, \" = \", liste_ref_KO[j])\n",
        "\n"
      ],
      "metadata": {
        "colab": {
          "base_uri": "https://localhost:8080/",
          "height": 630
        },
        "id": "d2qbMJGWhuJu",
        "outputId": "63b3e070-937c-4067-e5c3-e93b21f5d5f3"
      },
      "execution_count": null,
      "outputs": [
        {
          "output_type": "stream",
          "name": "stdout",
          "text": [
            "num_label= 0\n",
            "-------\n",
            "sio_indices_in_num_label= [0, 12, 29, 40, 53, 57, 64, 73, 75, 101, 105, 107, 110, 123, 124, 138, 149, 151, 179, 197, 270, 272, 279, 295, 307, 397, 575, 690, 704, 750, 786, 962, 1290, 1636, 2706, 4651, 9562, 10025, 10163, 10244, 10539, 10573, 10584, 10745, 11465, 11641, 11717, 12244, 12402, 13532, 14286, 15487, 15851, 17717, 19102, 19423, 19549, 21497, 22741, 23110, 24402, 26018, 27146, 27239, 27528, 27722, 27753, 28063, 28103, 29528, 30934, 31472, 33327, 33978, 34811, 36024, 36163, 37320, 37350, 38293, 38474, 38481, 38517, 38519, 38521, 38526, 38565, 38577, 38582, 38593, 38594, 38600, 38622, 38858, 39038, 39528, 39635, 39695, 40103, 40114, 41699, 42786, 43290, 46375, 46488, 46631, 46632, 47441, 47491, 47930, 47948, 48123, 48394, 48416, 49071, 50523, 51390, 51624, 52073, 52556, 54493, 55193, 58831, 59244, 59600, 61637, 61788, 62659, 63373, 64966, 65253, 65932, 66241, 67947, 72701, 73332, 75942, 75951, 76128, 76134, 76153, 76175, 76179, 76191, 76203, 76209, 76238, 76242, 76246, 76250, 76263, 76273, 76417, 76479, 76497, 76510, 76584, 76625, 76739, 77332, 77593, 80796, 81319, 83690, 83747, 85107, 85124, 85530, 85532, 85680, 86075, 86380, 87521, 87945, 87954, 88207, 89385, 90906, 91975, 93191, 93416, 94037, 94723, 96180, 96762, 97096, 98157, 98166, 98428, 98934]\n",
            "k label DH pour le num_label_SIO = 0\n",
            "Indices en décallage: []\n",
            "num_label= 1\n",
            "-------\n",
            "sio_indices_in_num_label= [1, 88260]\n",
            "k label DH pour le num_label_SIO = 1\n",
            "Indices en décallage: []\n",
            "num_label= 2\n",
            "-------\n",
            "sio_indices_in_num_label= [2, 15893, 25015, 26463, 51001, 51017, 52250]\n",
            "k label DH pour le num_label_SIO = 2\n",
            "Indices en décallage: []\n",
            "num_label= 3\n",
            "-------\n",
            "sio_indices_in_num_label= [3, 8, 14, 67, 125, 223, 283, 738, 932, 8776, 8877, 9829, 10371, 10540, 10541, 10748, 11163, 12096, 12246, 12654, 12909, 13388, 13714, 13715, 13753, 14390, 14431, 14868, 15703, 15797, 15964, 16802, 16981, 17631, 17904, 18905, 20302, 20630, 20677, 20742, 20816, 21354, 21823, 23188, 23276, 23862, 24048, 24325, 24911, 25190, 25246, 25756, 25853, 26109, 27156, 28868, 29193, 30480, 31998, 32006, 35905, 36480, 38081, 38210, 38221, 38358, 38382, 42536, 47985, 48089, 48090, 48107, 48138, 48155, 48250, 48267, 49262, 50173, 50624, 51307, 51628, 52585, 52918, 53673, 54248, 54623, 54649, 56088, 56299, 57028, 58901, 59259, 60512, 62772, 64186, 64303, 64344, 64703, 64854, 65912, 66645, 67066, 67079, 67099, 68140, 68219, 68238, 69967, 70202, 70237, 71909, 72350, 74353, 74512, 74523, 74917, 75256, 75524, 75880, 76011, 76052, 76076, 76077, 76078, 76193, 76199, 76223, 76680, 77777, 79847, 80621, 80624, 81276, 81494, 81747, 85403, 85537, 85576, 85616, 86013, 86153, 86562, 86988, 87494, 87692, 88393, 89374, 91801, 93304, 94058, 94115, 95493, 95899, 95907, 96125, 96333, 98738, 98743, 99033, 99118]\n",
            "k label DH pour le num_label_SIO = 3\n",
            "Indices en décallage: []\n",
            "num_label= 4\n",
            "-------\n",
            "sio_indices_in_num_label= [4, 47707]\n"
          ]
        },
        {
          "output_type": "error",
          "ename": "IndexError",
          "evalue": "list index out of range",
          "traceback": [
            "\u001b[0;31m---------------------------------------------------------------------------\u001b[0m",
            "\u001b[0;31mIndexError\u001b[0m                                Traceback (most recent call last)",
            "\u001b[0;32m<ipython-input-10-3ab2f270abae>\u001b[0m in \u001b[0;36m<cell line: 11>\u001b[0;34m()\u001b[0m\n\u001b[1;32m     16\u001b[0m   \u001b[0mprint\u001b[0m\u001b[0;34m(\u001b[0m\u001b[0;34m\"sio_indices_in_num_label=\"\u001b[0m\u001b[0;34m,\u001b[0m\u001b[0msio_indices_in_num_label\u001b[0m\u001b[0;34m)\u001b[0m\u001b[0;34m\u001b[0m\u001b[0;34m\u001b[0m\u001b[0m\n\u001b[1;32m     17\u001b[0m   \u001b[0;31m#print(\"Nombre d'enr = \", len(sio_indices_in_i))\u001b[0m\u001b[0;34m\u001b[0m\u001b[0;34m\u001b[0m\u001b[0m\n\u001b[0;32m---> 18\u001b[0;31m   \u001b[0mk\u001b[0m \u001b[0;34m=\u001b[0m \u001b[0mlabels_DH\u001b[0m\u001b[0;34m[\u001b[0m\u001b[0msio_indices_in_num_label\u001b[0m\u001b[0;34m[\u001b[0m\u001b[0mnum_label\u001b[0m\u001b[0;34m]\u001b[0m\u001b[0;34m]\u001b[0m\u001b[0;34m\u001b[0m\u001b[0;34m\u001b[0m\u001b[0m\n\u001b[0m\u001b[1;32m     19\u001b[0m   \u001b[0mprint\u001b[0m\u001b[0;34m(\u001b[0m\u001b[0;34m\"k label DH pour le num_label_SIO =\"\u001b[0m\u001b[0;34m,\u001b[0m \u001b[0mk\u001b[0m\u001b[0;34m)\u001b[0m\u001b[0;34m\u001b[0m\u001b[0;34m\u001b[0m\u001b[0m\n\u001b[1;32m     20\u001b[0m   \u001b[0mlabels_DH_k\u001b[0m \u001b[0;34m=\u001b[0m \u001b[0mlabels_DH_df\u001b[0m\u001b[0;34m[\u001b[0m\u001b[0mlabels_DH_df\u001b[0m\u001b[0;34m[\u001b[0m\u001b[0;34m'labels_DH'\u001b[0m\u001b[0;34m]\u001b[0m \u001b[0;34m==\u001b[0m \u001b[0mk\u001b[0m\u001b[0;34m]\u001b[0m\u001b[0;34m\u001b[0m\u001b[0;34m\u001b[0m\u001b[0m\n",
            "\u001b[0;31mIndexError\u001b[0m: list index out of range"
          ]
        }
      ]
    },
    {
      "cell_type": "markdown",
      "source": [],
      "metadata": {
        "id": "PmKpEucZuB3M"
      }
    },
    {
      "cell_type": "code",
      "source": [
        "#i0 = indices_in_sio_not_dh[0]\n",
        "#print(\"Donnée DH avec indice \", i0)\n",
        "#print(X.iloc[i0])\n",
        "#print(\"Donnée SIO avec indice \", i0)\n",
        "#print(Y.iloc[i0])\n",
        "#print(\"Référence SIO\", references_SIO.iloc[i0], \". Référence DH = \", references_DH.iloc[i0])\n",
        "liste_ref_KO = []\n",
        "for i in range(10):\n",
        "  labels_SIO_i = labels_SIO_df[labels_SIO_df['labels_SIO'] == i]\n",
        "  sio_indices_in_i = labels_SIO_i.index.tolist()\n",
        "  for j in range(len(sio_indices_in_i)):\n",
        "    k = labels_DH[sio_indices_in_0[j]]\n",
        "    labels_DH_k = labels_DH_df[labels_DH_df['labels_DH'] == k]\n",
        "    dh_indices_in_k = labels_DH_k.index.tolist()\n",
        "  k = labels_DH[sio_indices_in_0[0]]\n",
        "  dh_indices_in_i = labels_DH_i.index.tolist()\n",
        "\n",
        "  indices_in_sio_not_dh_i = list(set(sio_indices_in_i) - set(dh_indices_in_i))\n",
        "  if len(indices_in_sio_not_dh_i) > 0:\n",
        "    print(\"Indices in labels_DH_i but not in labels_SIO_i:\", indices_in_sio_not_dh_i)\n",
        "    liste_ref_KO.append(references_SIO.iloc[indices_in_sio_not_dh_i])\n",
        "print(\"__________________________________________________\")\n",
        "print (\"Longueur anomalie=\", len(liste_ref_KO))\n",
        "for j in range(len(liste_ref_KO)):\n",
        "  print(\"Réf \", j, \" = \", liste_ref_KO[j])\n",
        "\n"
      ],
      "metadata": {
        "colab": {
          "base_uri": "https://localhost:8080/",
          "height": 211
        },
        "outputId": "91cf3f1a-f0a1-4bf5-ce2d-3d6aae9110fe",
        "id": "bOHQCFZTs3yc"
      },
      "execution_count": null,
      "outputs": [
        {
          "output_type": "error",
          "ename": "NameError",
          "evalue": "name 'labels_DH_i' is not defined",
          "traceback": [
            "\u001b[0;31m---------------------------------------------------------------------------\u001b[0m",
            "\u001b[0;31mNameError\u001b[0m                                 Traceback (most recent call last)",
            "\u001b[0;32m<ipython-input-13-c5fd315742e6>\u001b[0m in \u001b[0;36m<cell line: 8>\u001b[0;34m()\u001b[0m\n\u001b[1;32m     11\u001b[0m   \u001b[0;32mfor\u001b[0m \u001b[0mj\u001b[0m \u001b[0;32min\u001b[0m \u001b[0mrange\u001b[0m\u001b[0;34m(\u001b[0m\u001b[0mlen\u001b[0m\u001b[0;34m(\u001b[0m\u001b[0msio_indices_in_0\u001b[0m\u001b[0;34m)\u001b[0m\u001b[0;34m)\u001b[0m\u001b[0;34m:\u001b[0m\u001b[0;34m\u001b[0m\u001b[0;34m\u001b[0m\u001b[0m\n\u001b[1;32m     12\u001b[0m     \u001b[0mk\u001b[0m \u001b[0;34m=\u001b[0m \u001b[0mlabels_DH\u001b[0m\u001b[0;34m[\u001b[0m\u001b[0msio_indices_in_0\u001b[0m\u001b[0;34m[\u001b[0m\u001b[0mj\u001b[0m\u001b[0;34m]\u001b[0m\u001b[0;34m]\u001b[0m\u001b[0;34m\u001b[0m\u001b[0;34m\u001b[0m\u001b[0m\n\u001b[0;32m---> 13\u001b[0;31m     \u001b[0mdh_indices_in_i\u001b[0m \u001b[0;34m=\u001b[0m \u001b[0mlabels_DH_i\u001b[0m\u001b[0;34m.\u001b[0m\u001b[0mindex\u001b[0m\u001b[0;34m.\u001b[0m\u001b[0mtolist\u001b[0m\u001b[0;34m(\u001b[0m\u001b[0;34m)\u001b[0m\u001b[0;34m\u001b[0m\u001b[0;34m\u001b[0m\u001b[0m\n\u001b[0m\u001b[1;32m     14\u001b[0m   \u001b[0mk\u001b[0m \u001b[0;34m=\u001b[0m \u001b[0mlabels_DH\u001b[0m\u001b[0;34m[\u001b[0m\u001b[0msio_indices_in_0\u001b[0m\u001b[0;34m[\u001b[0m\u001b[0;36m0\u001b[0m\u001b[0;34m]\u001b[0m\u001b[0;34m]\u001b[0m\u001b[0;34m\u001b[0m\u001b[0;34m\u001b[0m\u001b[0m\n\u001b[1;32m     15\u001b[0m   \u001b[0mdh_indices_in_i\u001b[0m \u001b[0;34m=\u001b[0m \u001b[0mlabels_DH_i\u001b[0m\u001b[0;34m.\u001b[0m\u001b[0mindex\u001b[0m\u001b[0;34m.\u001b[0m\u001b[0mtolist\u001b[0m\u001b[0;34m(\u001b[0m\u001b[0;34m)\u001b[0m\u001b[0;34m\u001b[0m\u001b[0;34m\u001b[0m\u001b[0m\n",
            "\u001b[0;31mNameError\u001b[0m: name 'labels_DH_i' is not defined"
          ]
        }
      ]
    },
    {
      "cell_type": "code",
      "source": [
        "# Deux tableaux à une dimension\n",
        "#array1 = np.array([1, 2, 3])\n",
        "#array2 = np.array([4, 5, 6]) # Empiler verticalement\n",
        "#result = np.vstack((array1, array2))\n",
        "#print(result)\n",
        "#print(array1.shape)\n",
        "\n",
        "#print(result.shape)\n",
        "\n",
        "\n",
        "liste = []\n",
        "A = np.empty((0, 10000), dtype=int)\n",
        "\n",
        "for i in range(10000):\n",
        "  liste = []\n",
        "  for j in range(10000):\n",
        "    liste.append(labels_DH[i] -labels_DH[j])\n",
        "  A = np.vstack([A, liste])\n",
        "\n",
        "\n",
        "print(A)\n",
        "\n"
      ],
      "metadata": {
        "colab": {
          "base_uri": "https://localhost:8080/",
          "height": 211
        },
        "id": "dULH6aiKJ-vC",
        "outputId": "6f11a755-8e38-4054-e3cd-e160c23b8afa"
      },
      "execution_count": null,
      "outputs": [
        {
          "output_type": "error",
          "ename": "KeyboardInterrupt",
          "evalue": "",
          "traceback": [
            "\u001b[0;31m---------------------------------------------------------------------------\u001b[0m",
            "\u001b[0;31mKeyboardInterrupt\u001b[0m                         Traceback (most recent call last)",
            "\u001b[0;32m<ipython-input-13-aef2f7ea4448>\u001b[0m in \u001b[0;36m<cell line: 14>\u001b[0;34m()\u001b[0m\n\u001b[1;32m     15\u001b[0m   \u001b[0mliste\u001b[0m \u001b[0;34m=\u001b[0m \u001b[0;34m[\u001b[0m\u001b[0;34m]\u001b[0m\u001b[0;34m\u001b[0m\u001b[0;34m\u001b[0m\u001b[0m\n\u001b[1;32m     16\u001b[0m   \u001b[0;32mfor\u001b[0m \u001b[0mj\u001b[0m \u001b[0;32min\u001b[0m \u001b[0mrange\u001b[0m\u001b[0;34m(\u001b[0m\u001b[0;36m10000\u001b[0m\u001b[0;34m)\u001b[0m\u001b[0;34m:\u001b[0m\u001b[0;34m\u001b[0m\u001b[0;34m\u001b[0m\u001b[0m\n\u001b[0;32m---> 17\u001b[0;31m     \u001b[0mliste\u001b[0m\u001b[0;34m.\u001b[0m\u001b[0mappend\u001b[0m\u001b[0;34m(\u001b[0m\u001b[0mlabels_DH\u001b[0m\u001b[0;34m[\u001b[0m\u001b[0mi\u001b[0m\u001b[0;34m]\u001b[0m \u001b[0;34m-\u001b[0m\u001b[0mlabels_DH\u001b[0m\u001b[0;34m[\u001b[0m\u001b[0mj\u001b[0m\u001b[0;34m]\u001b[0m\u001b[0;34m)\u001b[0m\u001b[0;34m\u001b[0m\u001b[0;34m\u001b[0m\u001b[0m\n\u001b[0m\u001b[1;32m     18\u001b[0m   \u001b[0mA\u001b[0m \u001b[0;34m=\u001b[0m \u001b[0mnp\u001b[0m\u001b[0;34m.\u001b[0m\u001b[0mvstack\u001b[0m\u001b[0;34m(\u001b[0m\u001b[0;34m[\u001b[0m\u001b[0mA\u001b[0m\u001b[0;34m,\u001b[0m \u001b[0mliste\u001b[0m\u001b[0;34m]\u001b[0m\u001b[0;34m)\u001b[0m\u001b[0;34m\u001b[0m\u001b[0;34m\u001b[0m\u001b[0m\n\u001b[1;32m     19\u001b[0m \u001b[0;34m\u001b[0m\u001b[0m\n",
            "\u001b[0;31mKeyboardInterrupt\u001b[0m: "
          ]
        }
      ]
    },
    {
      "cell_type": "markdown",
      "source": [
        "Fin"
      ],
      "metadata": {
        "id": "H1RmNduDM0VY"
      }
    },
    {
      "cell_type": "code",
      "source": [
        "RRR\n",
        "\n",
        "\n",
        "\n",
        "\n",
        "\n",
        "\n",
        "while (i < n_dif - 1):\n",
        "    i = i + 1\n",
        "    if (difference[i] != 0):\n",
        "        print(\"i=\",i)\n",
        "        print(\"différence enregistrement \", str(i), \" DH=\", labels_DH[i], \"// SIO=\",labels_SIO[i], \"// ref=\", ref_cli[i,:])\n",
        "        #print(\"enr DH=\", fichier_DH.loc[i,:])\n",
        "        #print(\"enr SIO=\",fichier_SIO.loc[i,:])\n",
        "        nb_ko = nb_ko + 1\n",
        "        X = np.delete(X,i,0)\n",
        "        Y = np.delete(Y,i,0)\n",
        "        ref_cli = np.delete(ref_cli,i,0)\n",
        "        db = DBSCAN(eps=0.000000000000001,min_samples=min_groupe).fit(X)\n",
        "        labels_DH = db.labels_\n",
        "        db2 = DBSCAN(eps=0.00000000000001, min_samples=min_groupe).fit(Y)\n",
        "        labels_SIO = db2.labels_\n",
        "        difference = labels_DH - labels_SIO\n",
        "        n_dif = n_dif - 1\n",
        "\n",
        "\n",
        "lg = len(difference)\n",
        "#nb_ano = 0\n",
        "#for i in range(lg):\n",
        "#    if difference[i] !=0:\n",
        "#        nb_ano = nb_ano + 1\n",
        "print(\"ANOMALIES = \", nb_ko)\n",
        "#  3117773703\n",
        "\n",
        "fin_exec = time.time()\n",
        "temps = fin_exec - debut\n",
        "print(f'Temps d\\'exécution : {temps:.2}ms')"
      ],
      "metadata": {
        "id": "ryYCroBZM2eB"
      },
      "execution_count": null,
      "outputs": []
    }
  ]
}